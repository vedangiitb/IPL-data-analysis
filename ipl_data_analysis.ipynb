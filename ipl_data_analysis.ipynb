{
 "cells": [
  {
   "cell_type": "code",
   "execution_count": 161,
   "metadata": {},
   "outputs": [],
   "source": [
    "import numpy as np\n",
    "import pandas as pd\n",
    "import matplotlib.pyplot as plt\n",
    "import seaborn as sns\n",
    "import plotly\n",
    "import plotly.express as px\n",
    "import plotly.graph_objs as go\n",
    "from matplotlib.pyplot import figure"
   ]
  },
  {
   "cell_type": "code",
   "execution_count": 162,
   "metadata": {},
   "outputs": [],
   "source": [
    "ball_by_ball = pd.read_csv(\"IPL Ball-by-Ball 2008-2020.csv\")\n",
    "match_data = pd.read_csv(\"IPL Matches 2008-2020.csv\")"
   ]
  },
  {
   "cell_type": "code",
   "execution_count": 163,
   "metadata": {},
   "outputs": [
    {
     "data": {
      "text/html": [
       "<div>\n",
       "<style scoped>\n",
       "    .dataframe tbody tr th:only-of-type {\n",
       "        vertical-align: middle;\n",
       "    }\n",
       "\n",
       "    .dataframe tbody tr th {\n",
       "        vertical-align: top;\n",
       "    }\n",
       "\n",
       "    .dataframe thead th {\n",
       "        text-align: right;\n",
       "    }\n",
       "</style>\n",
       "<table border=\"1\" class=\"dataframe\">\n",
       "  <thead>\n",
       "    <tr style=\"text-align: right;\">\n",
       "      <th></th>\n",
       "      <th>id</th>\n",
       "      <th>inning</th>\n",
       "      <th>over</th>\n",
       "      <th>ball</th>\n",
       "      <th>batsman</th>\n",
       "      <th>non_striker</th>\n",
       "      <th>bowler</th>\n",
       "      <th>batsman_runs</th>\n",
       "      <th>extra_runs</th>\n",
       "      <th>total_runs</th>\n",
       "      <th>non_boundary</th>\n",
       "      <th>is_wicket</th>\n",
       "      <th>dismissal_kind</th>\n",
       "      <th>player_dismissed</th>\n",
       "      <th>fielder</th>\n",
       "      <th>extras_type</th>\n",
       "      <th>batting_team</th>\n",
       "      <th>bowling_team</th>\n",
       "    </tr>\n",
       "  </thead>\n",
       "  <tbody>\n",
       "    <tr>\n",
       "      <th>0</th>\n",
       "      <td>335982</td>\n",
       "      <td>1</td>\n",
       "      <td>6</td>\n",
       "      <td>5</td>\n",
       "      <td>RT Ponting</td>\n",
       "      <td>BB McCullum</td>\n",
       "      <td>AA Noffke</td>\n",
       "      <td>1</td>\n",
       "      <td>0</td>\n",
       "      <td>1</td>\n",
       "      <td>0</td>\n",
       "      <td>0</td>\n",
       "      <td>NaN</td>\n",
       "      <td>NaN</td>\n",
       "      <td>NaN</td>\n",
       "      <td>NaN</td>\n",
       "      <td>Kolkata Knight Riders</td>\n",
       "      <td>Royal Challengers Bangalore</td>\n",
       "    </tr>\n",
       "    <tr>\n",
       "      <th>1</th>\n",
       "      <td>335982</td>\n",
       "      <td>1</td>\n",
       "      <td>6</td>\n",
       "      <td>6</td>\n",
       "      <td>BB McCullum</td>\n",
       "      <td>RT Ponting</td>\n",
       "      <td>AA Noffke</td>\n",
       "      <td>1</td>\n",
       "      <td>0</td>\n",
       "      <td>1</td>\n",
       "      <td>0</td>\n",
       "      <td>0</td>\n",
       "      <td>NaN</td>\n",
       "      <td>NaN</td>\n",
       "      <td>NaN</td>\n",
       "      <td>NaN</td>\n",
       "      <td>Kolkata Knight Riders</td>\n",
       "      <td>Royal Challengers Bangalore</td>\n",
       "    </tr>\n",
       "    <tr>\n",
       "      <th>2</th>\n",
       "      <td>335982</td>\n",
       "      <td>1</td>\n",
       "      <td>7</td>\n",
       "      <td>1</td>\n",
       "      <td>BB McCullum</td>\n",
       "      <td>RT Ponting</td>\n",
       "      <td>Z Khan</td>\n",
       "      <td>0</td>\n",
       "      <td>0</td>\n",
       "      <td>0</td>\n",
       "      <td>0</td>\n",
       "      <td>0</td>\n",
       "      <td>NaN</td>\n",
       "      <td>NaN</td>\n",
       "      <td>NaN</td>\n",
       "      <td>NaN</td>\n",
       "      <td>Kolkata Knight Riders</td>\n",
       "      <td>Royal Challengers Bangalore</td>\n",
       "    </tr>\n",
       "    <tr>\n",
       "      <th>3</th>\n",
       "      <td>335982</td>\n",
       "      <td>1</td>\n",
       "      <td>7</td>\n",
       "      <td>2</td>\n",
       "      <td>BB McCullum</td>\n",
       "      <td>RT Ponting</td>\n",
       "      <td>Z Khan</td>\n",
       "      <td>1</td>\n",
       "      <td>0</td>\n",
       "      <td>1</td>\n",
       "      <td>0</td>\n",
       "      <td>0</td>\n",
       "      <td>NaN</td>\n",
       "      <td>NaN</td>\n",
       "      <td>NaN</td>\n",
       "      <td>NaN</td>\n",
       "      <td>Kolkata Knight Riders</td>\n",
       "      <td>Royal Challengers Bangalore</td>\n",
       "    </tr>\n",
       "    <tr>\n",
       "      <th>4</th>\n",
       "      <td>335982</td>\n",
       "      <td>1</td>\n",
       "      <td>7</td>\n",
       "      <td>3</td>\n",
       "      <td>RT Ponting</td>\n",
       "      <td>BB McCullum</td>\n",
       "      <td>Z Khan</td>\n",
       "      <td>1</td>\n",
       "      <td>0</td>\n",
       "      <td>1</td>\n",
       "      <td>0</td>\n",
       "      <td>0</td>\n",
       "      <td>NaN</td>\n",
       "      <td>NaN</td>\n",
       "      <td>NaN</td>\n",
       "      <td>NaN</td>\n",
       "      <td>Kolkata Knight Riders</td>\n",
       "      <td>Royal Challengers Bangalore</td>\n",
       "    </tr>\n",
       "  </tbody>\n",
       "</table>\n",
       "</div>"
      ],
      "text/plain": [
       "       id  inning  over  ball      batsman  non_striker     bowler  \\\n",
       "0  335982       1     6     5   RT Ponting  BB McCullum  AA Noffke   \n",
       "1  335982       1     6     6  BB McCullum   RT Ponting  AA Noffke   \n",
       "2  335982       1     7     1  BB McCullum   RT Ponting     Z Khan   \n",
       "3  335982       1     7     2  BB McCullum   RT Ponting     Z Khan   \n",
       "4  335982       1     7     3   RT Ponting  BB McCullum     Z Khan   \n",
       "\n",
       "   batsman_runs  extra_runs  total_runs  non_boundary  is_wicket  \\\n",
       "0             1           0           1             0          0   \n",
       "1             1           0           1             0          0   \n",
       "2             0           0           0             0          0   \n",
       "3             1           0           1             0          0   \n",
       "4             1           0           1             0          0   \n",
       "\n",
       "  dismissal_kind player_dismissed fielder extras_type           batting_team  \\\n",
       "0            NaN              NaN     NaN         NaN  Kolkata Knight Riders   \n",
       "1            NaN              NaN     NaN         NaN  Kolkata Knight Riders   \n",
       "2            NaN              NaN     NaN         NaN  Kolkata Knight Riders   \n",
       "3            NaN              NaN     NaN         NaN  Kolkata Knight Riders   \n",
       "4            NaN              NaN     NaN         NaN  Kolkata Knight Riders   \n",
       "\n",
       "                  bowling_team  \n",
       "0  Royal Challengers Bangalore  \n",
       "1  Royal Challengers Bangalore  \n",
       "2  Royal Challengers Bangalore  \n",
       "3  Royal Challengers Bangalore  \n",
       "4  Royal Challengers Bangalore  "
      ]
     },
     "execution_count": 163,
     "metadata": {},
     "output_type": "execute_result"
    }
   ],
   "source": [
    "ball_by_ball.head()"
   ]
  },
  {
   "cell_type": "code",
   "execution_count": 164,
   "metadata": {},
   "outputs": [
    {
     "data": {
      "text/html": [
       "<div>\n",
       "<style scoped>\n",
       "    .dataframe tbody tr th:only-of-type {\n",
       "        vertical-align: middle;\n",
       "    }\n",
       "\n",
       "    .dataframe tbody tr th {\n",
       "        vertical-align: top;\n",
       "    }\n",
       "\n",
       "    .dataframe thead th {\n",
       "        text-align: right;\n",
       "    }\n",
       "</style>\n",
       "<table border=\"1\" class=\"dataframe\">\n",
       "  <thead>\n",
       "    <tr style=\"text-align: right;\">\n",
       "      <th></th>\n",
       "      <th>id</th>\n",
       "      <th>city</th>\n",
       "      <th>date</th>\n",
       "      <th>player_of_match</th>\n",
       "      <th>venue</th>\n",
       "      <th>neutral_venue</th>\n",
       "      <th>team1</th>\n",
       "      <th>team2</th>\n",
       "      <th>toss_winner</th>\n",
       "      <th>toss_decision</th>\n",
       "      <th>winner</th>\n",
       "      <th>result</th>\n",
       "      <th>result_margin</th>\n",
       "      <th>eliminator</th>\n",
       "      <th>method</th>\n",
       "      <th>umpire1</th>\n",
       "      <th>umpire2</th>\n",
       "    </tr>\n",
       "  </thead>\n",
       "  <tbody>\n",
       "    <tr>\n",
       "      <th>0</th>\n",
       "      <td>335982</td>\n",
       "      <td>Bangalore</td>\n",
       "      <td>18-04-2008</td>\n",
       "      <td>BB McCullum</td>\n",
       "      <td>M Chinnaswamy Stadium</td>\n",
       "      <td>0</td>\n",
       "      <td>Royal Challengers Bangalore</td>\n",
       "      <td>Kolkata Knight Riders</td>\n",
       "      <td>Royal Challengers Bangalore</td>\n",
       "      <td>field</td>\n",
       "      <td>Kolkata Knight Riders</td>\n",
       "      <td>runs</td>\n",
       "      <td>140.0</td>\n",
       "      <td>N</td>\n",
       "      <td>NaN</td>\n",
       "      <td>Asad Rauf</td>\n",
       "      <td>RE Koertzen</td>\n",
       "    </tr>\n",
       "    <tr>\n",
       "      <th>1</th>\n",
       "      <td>335983</td>\n",
       "      <td>Chandigarh</td>\n",
       "      <td>19-04-2008</td>\n",
       "      <td>MEK Hussey</td>\n",
       "      <td>Punjab Cricket Association Stadium, Mohali</td>\n",
       "      <td>0</td>\n",
       "      <td>Kings XI Punjab</td>\n",
       "      <td>Chennai Super Kings</td>\n",
       "      <td>Chennai Super Kings</td>\n",
       "      <td>bat</td>\n",
       "      <td>Chennai Super Kings</td>\n",
       "      <td>runs</td>\n",
       "      <td>33.0</td>\n",
       "      <td>N</td>\n",
       "      <td>NaN</td>\n",
       "      <td>MR Benson</td>\n",
       "      <td>SL Shastri</td>\n",
       "    </tr>\n",
       "    <tr>\n",
       "      <th>2</th>\n",
       "      <td>335984</td>\n",
       "      <td>Delhi</td>\n",
       "      <td>19-04-2008</td>\n",
       "      <td>MF Maharoof</td>\n",
       "      <td>Feroz Shah Kotla</td>\n",
       "      <td>0</td>\n",
       "      <td>Delhi Daredevils</td>\n",
       "      <td>Rajasthan Royals</td>\n",
       "      <td>Rajasthan Royals</td>\n",
       "      <td>bat</td>\n",
       "      <td>Delhi Daredevils</td>\n",
       "      <td>wickets</td>\n",
       "      <td>9.0</td>\n",
       "      <td>N</td>\n",
       "      <td>NaN</td>\n",
       "      <td>Aleem Dar</td>\n",
       "      <td>GA Pratapkumar</td>\n",
       "    </tr>\n",
       "    <tr>\n",
       "      <th>3</th>\n",
       "      <td>335985</td>\n",
       "      <td>Mumbai</td>\n",
       "      <td>20-04-2008</td>\n",
       "      <td>MV Boucher</td>\n",
       "      <td>Wankhede Stadium</td>\n",
       "      <td>0</td>\n",
       "      <td>Mumbai Indians</td>\n",
       "      <td>Royal Challengers Bangalore</td>\n",
       "      <td>Mumbai Indians</td>\n",
       "      <td>bat</td>\n",
       "      <td>Royal Challengers Bangalore</td>\n",
       "      <td>wickets</td>\n",
       "      <td>5.0</td>\n",
       "      <td>N</td>\n",
       "      <td>NaN</td>\n",
       "      <td>SJ Davis</td>\n",
       "      <td>DJ Harper</td>\n",
       "    </tr>\n",
       "    <tr>\n",
       "      <th>4</th>\n",
       "      <td>335986</td>\n",
       "      <td>Kolkata</td>\n",
       "      <td>20-04-2008</td>\n",
       "      <td>DJ Hussey</td>\n",
       "      <td>Eden Gardens</td>\n",
       "      <td>0</td>\n",
       "      <td>Kolkata Knight Riders</td>\n",
       "      <td>Deccan Chargers</td>\n",
       "      <td>Deccan Chargers</td>\n",
       "      <td>bat</td>\n",
       "      <td>Kolkata Knight Riders</td>\n",
       "      <td>wickets</td>\n",
       "      <td>5.0</td>\n",
       "      <td>N</td>\n",
       "      <td>NaN</td>\n",
       "      <td>BF Bowden</td>\n",
       "      <td>K Hariharan</td>\n",
       "    </tr>\n",
       "  </tbody>\n",
       "</table>\n",
       "</div>"
      ],
      "text/plain": [
       "       id        city        date player_of_match  \\\n",
       "0  335982   Bangalore  18-04-2008     BB McCullum   \n",
       "1  335983  Chandigarh  19-04-2008      MEK Hussey   \n",
       "2  335984       Delhi  19-04-2008     MF Maharoof   \n",
       "3  335985      Mumbai  20-04-2008      MV Boucher   \n",
       "4  335986     Kolkata  20-04-2008       DJ Hussey   \n",
       "\n",
       "                                        venue  neutral_venue  \\\n",
       "0                       M Chinnaswamy Stadium              0   \n",
       "1  Punjab Cricket Association Stadium, Mohali              0   \n",
       "2                            Feroz Shah Kotla              0   \n",
       "3                            Wankhede Stadium              0   \n",
       "4                                Eden Gardens              0   \n",
       "\n",
       "                         team1                        team2  \\\n",
       "0  Royal Challengers Bangalore        Kolkata Knight Riders   \n",
       "1              Kings XI Punjab          Chennai Super Kings   \n",
       "2             Delhi Daredevils             Rajasthan Royals   \n",
       "3               Mumbai Indians  Royal Challengers Bangalore   \n",
       "4        Kolkata Knight Riders              Deccan Chargers   \n",
       "\n",
       "                   toss_winner toss_decision                       winner  \\\n",
       "0  Royal Challengers Bangalore         field        Kolkata Knight Riders   \n",
       "1          Chennai Super Kings           bat          Chennai Super Kings   \n",
       "2             Rajasthan Royals           bat             Delhi Daredevils   \n",
       "3               Mumbai Indians           bat  Royal Challengers Bangalore   \n",
       "4              Deccan Chargers           bat        Kolkata Knight Riders   \n",
       "\n",
       "    result  result_margin eliminator method    umpire1         umpire2  \n",
       "0     runs          140.0          N    NaN  Asad Rauf     RE Koertzen  \n",
       "1     runs           33.0          N    NaN  MR Benson      SL Shastri  \n",
       "2  wickets            9.0          N    NaN  Aleem Dar  GA Pratapkumar  \n",
       "3  wickets            5.0          N    NaN   SJ Davis       DJ Harper  \n",
       "4  wickets            5.0          N    NaN  BF Bowden     K Hariharan  "
      ]
     },
     "execution_count": 164,
     "metadata": {},
     "output_type": "execute_result"
    }
   ],
   "source": [
    "match_data.head()"
   ]
  },
  {
   "cell_type": "code",
   "execution_count": 165,
   "metadata": {},
   "outputs": [
    {
     "data": {
      "text/plain": [
       "id                   0\n",
       "city                13\n",
       "date                 0\n",
       "player_of_match      4\n",
       "venue                0\n",
       "neutral_venue        0\n",
       "team1                0\n",
       "team2                0\n",
       "toss_winner          0\n",
       "toss_decision        0\n",
       "winner               4\n",
       "result               4\n",
       "result_margin       17\n",
       "eliminator           4\n",
       "method             797\n",
       "umpire1              0\n",
       "umpire2              0\n",
       "dtype: int64"
      ]
     },
     "execution_count": 165,
     "metadata": {},
     "output_type": "execute_result"
    }
   ],
   "source": [
    "match_data.isnull().sum()"
   ]
  },
  {
   "cell_type": "code",
   "execution_count": 166,
   "metadata": {},
   "outputs": [
    {
     "data": {
      "text/plain": [
       "(816, 17)"
      ]
     },
     "execution_count": 166,
     "metadata": {},
     "output_type": "execute_result"
    }
   ],
   "source": [
    "match_data.shape"
   ]
  },
  {
   "cell_type": "code",
   "execution_count": 167,
   "metadata": {},
   "outputs": [
    {
     "data": {
      "text/plain": [
       "Index(['id', 'city', 'date', 'player_of_match', 'venue', 'neutral_venue',\n",
       "       'team1', 'team2', 'toss_winner', 'toss_decision', 'winner', 'result',\n",
       "       'result_margin', 'eliminator', 'method', 'umpire1', 'umpire2'],\n",
       "      dtype='object')"
      ]
     },
     "execution_count": 167,
     "metadata": {},
     "output_type": "execute_result"
    }
   ],
   "source": [
    "match_data.columns"
   ]
  },
  {
   "cell_type": "code",
   "execution_count": 168,
   "metadata": {},
   "outputs": [
    {
     "name": "stdout",
     "output_type": "stream",
     "text": [
      "Total matches : 816\n",
      "Venues played at : ['Bangalore' 'Chandigarh' 'Delhi' 'Mumbai' 'Kolkata' 'Jaipur' 'Hyderabad'\n",
      " 'Chennai' 'Cape Town' 'Port Elizabeth' 'Durban' 'Centurion' 'East London'\n",
      " 'Johannesburg' 'Kimberley' 'Bloemfontein' 'Ahmedabad' 'Cuttack' 'Nagpur'\n",
      " 'Dharamsala' 'Kochi' 'Indore' 'Visakhapatnam' 'Pune' 'Raipur' 'Ranchi'\n",
      " 'Abu Dhabi' nan 'Rajkot' 'Kanpur' 'Bengaluru' 'Dubai' 'Sharjah']\n",
      "Teams:  ['Royal Challengers Bangalore' 'Kings XI Punjab' 'Delhi Daredevils'\n",
      " 'Mumbai Indians' 'Kolkata Knight Riders' 'Rajasthan Royals'\n",
      " 'Deccan Chargers' 'Chennai Super Kings' 'Kochi Tuskers Kerala'\n",
      " 'Pune Warriors' 'Sunrisers Hyderabad' 'Gujarat Lions'\n",
      " 'Rising Pune Supergiant' 'Delhi Capitals']\n"
     ]
    }
   ],
   "source": [
    "print('Total matches :', match_data.shape[0])\n",
    "print('Venues played at :',match_data['city'].unique())\n",
    "print('Teams: ', match_data.team1.unique())"
   ]
  },
  {
   "cell_type": "code",
   "execution_count": 169,
   "metadata": {},
   "outputs": [
    {
     "name": "stderr",
     "output_type": "stream",
     "text": [
      "c:\\Users\\vedan\\Desktop\\heart-disease-prediction\\env\\lib\\site-packages\\pandas\\core\\indexes\\datetimes.py:327: UserWarning:\n",
      "\n",
      "Parsing '18-04-2008' in DD/MM/YYYY format. Provide format or specify infer_datetime_format=True for consistent parsing.\n",
      "\n",
      "c:\\Users\\vedan\\Desktop\\heart-disease-prediction\\env\\lib\\site-packages\\pandas\\core\\indexes\\datetimes.py:327: UserWarning:\n",
      "\n",
      "Parsing '19-04-2008' in DD/MM/YYYY format. Provide format or specify infer_datetime_format=True for consistent parsing.\n",
      "\n",
      "c:\\Users\\vedan\\Desktop\\heart-disease-prediction\\env\\lib\\site-packages\\pandas\\core\\indexes\\datetimes.py:327: UserWarning:\n",
      "\n",
      "Parsing '20-04-2008' in DD/MM/YYYY format. Provide format or specify infer_datetime_format=True for consistent parsing.\n",
      "\n",
      "c:\\Users\\vedan\\Desktop\\heart-disease-prediction\\env\\lib\\site-packages\\pandas\\core\\indexes\\datetimes.py:327: UserWarning:\n",
      "\n",
      "Parsing '21-04-2008' in DD/MM/YYYY format. Provide format or specify infer_datetime_format=True for consistent parsing.\n",
      "\n",
      "c:\\Users\\vedan\\Desktop\\heart-disease-prediction\\env\\lib\\site-packages\\pandas\\core\\indexes\\datetimes.py:327: UserWarning:\n",
      "\n",
      "Parsing '22-04-2008' in DD/MM/YYYY format. Provide format or specify infer_datetime_format=True for consistent parsing.\n",
      "\n",
      "c:\\Users\\vedan\\Desktop\\heart-disease-prediction\\env\\lib\\site-packages\\pandas\\core\\indexes\\datetimes.py:327: UserWarning:\n",
      "\n",
      "Parsing '23-04-2008' in DD/MM/YYYY format. Provide format or specify infer_datetime_format=True for consistent parsing.\n",
      "\n",
      "c:\\Users\\vedan\\Desktop\\heart-disease-prediction\\env\\lib\\site-packages\\pandas\\core\\indexes\\datetimes.py:327: UserWarning:\n",
      "\n",
      "Parsing '24-04-2008' in DD/MM/YYYY format. Provide format or specify infer_datetime_format=True for consistent parsing.\n",
      "\n",
      "c:\\Users\\vedan\\Desktop\\heart-disease-prediction\\env\\lib\\site-packages\\pandas\\core\\indexes\\datetimes.py:327: UserWarning:\n",
      "\n",
      "Parsing '25-04-2008' in DD/MM/YYYY format. Provide format or specify infer_datetime_format=True for consistent parsing.\n",
      "\n",
      "c:\\Users\\vedan\\Desktop\\heart-disease-prediction\\env\\lib\\site-packages\\pandas\\core\\indexes\\datetimes.py:327: UserWarning:\n",
      "\n",
      "Parsing '26-04-2008' in DD/MM/YYYY format. Provide format or specify infer_datetime_format=True for consistent parsing.\n",
      "\n",
      "c:\\Users\\vedan\\Desktop\\heart-disease-prediction\\env\\lib\\site-packages\\pandas\\core\\indexes\\datetimes.py:327: UserWarning:\n",
      "\n",
      "Parsing '27-04-2008' in DD/MM/YYYY format. Provide format or specify infer_datetime_format=True for consistent parsing.\n",
      "\n",
      "c:\\Users\\vedan\\Desktop\\heart-disease-prediction\\env\\lib\\site-packages\\pandas\\core\\indexes\\datetimes.py:327: UserWarning:\n",
      "\n",
      "Parsing '28-04-2008' in DD/MM/YYYY format. Provide format or specify infer_datetime_format=True for consistent parsing.\n",
      "\n",
      "c:\\Users\\vedan\\Desktop\\heart-disease-prediction\\env\\lib\\site-packages\\pandas\\core\\indexes\\datetimes.py:327: UserWarning:\n",
      "\n",
      "Parsing '29-04-2008' in DD/MM/YYYY format. Provide format or specify infer_datetime_format=True for consistent parsing.\n",
      "\n",
      "c:\\Users\\vedan\\Desktop\\heart-disease-prediction\\env\\lib\\site-packages\\pandas\\core\\indexes\\datetimes.py:327: UserWarning:\n",
      "\n",
      "Parsing '30-04-2008' in DD/MM/YYYY format. Provide format or specify infer_datetime_format=True for consistent parsing.\n",
      "\n",
      "c:\\Users\\vedan\\Desktop\\heart-disease-prediction\\env\\lib\\site-packages\\pandas\\core\\indexes\\datetimes.py:327: UserWarning:\n",
      "\n",
      "Parsing '25-05-2008' in DD/MM/YYYY format. Provide format or specify infer_datetime_format=True for consistent parsing.\n",
      "\n",
      "c:\\Users\\vedan\\Desktop\\heart-disease-prediction\\env\\lib\\site-packages\\pandas\\core\\indexes\\datetimes.py:327: UserWarning:\n",
      "\n",
      "Parsing '28-05-2008' in DD/MM/YYYY format. Provide format or specify infer_datetime_format=True for consistent parsing.\n",
      "\n",
      "c:\\Users\\vedan\\Desktop\\heart-disease-prediction\\env\\lib\\site-packages\\pandas\\core\\indexes\\datetimes.py:327: UserWarning:\n",
      "\n",
      "Parsing '13-05-2008' in DD/MM/YYYY format. Provide format or specify infer_datetime_format=True for consistent parsing.\n",
      "\n",
      "c:\\Users\\vedan\\Desktop\\heart-disease-prediction\\env\\lib\\site-packages\\pandas\\core\\indexes\\datetimes.py:327: UserWarning:\n",
      "\n",
      "Parsing '14-05-2008' in DD/MM/YYYY format. Provide format or specify infer_datetime_format=True for consistent parsing.\n",
      "\n",
      "c:\\Users\\vedan\\Desktop\\heart-disease-prediction\\env\\lib\\site-packages\\pandas\\core\\indexes\\datetimes.py:327: UserWarning:\n",
      "\n",
      "Parsing '15-05-2008' in DD/MM/YYYY format. Provide format or specify infer_datetime_format=True for consistent parsing.\n",
      "\n",
      "c:\\Users\\vedan\\Desktop\\heart-disease-prediction\\env\\lib\\site-packages\\pandas\\core\\indexes\\datetimes.py:327: UserWarning:\n",
      "\n",
      "Parsing '16-05-2008' in DD/MM/YYYY format. Provide format or specify infer_datetime_format=True for consistent parsing.\n",
      "\n",
      "c:\\Users\\vedan\\Desktop\\heart-disease-prediction\\env\\lib\\site-packages\\pandas\\core\\indexes\\datetimes.py:327: UserWarning:\n",
      "\n",
      "Parsing '17-05-2008' in DD/MM/YYYY format. Provide format or specify infer_datetime_format=True for consistent parsing.\n",
      "\n",
      "c:\\Users\\vedan\\Desktop\\heart-disease-prediction\\env\\lib\\site-packages\\pandas\\core\\indexes\\datetimes.py:327: UserWarning:\n",
      "\n",
      "Parsing '18-05-2008' in DD/MM/YYYY format. Provide format or specify infer_datetime_format=True for consistent parsing.\n",
      "\n",
      "c:\\Users\\vedan\\Desktop\\heart-disease-prediction\\env\\lib\\site-packages\\pandas\\core\\indexes\\datetimes.py:327: UserWarning:\n",
      "\n",
      "Parsing '19-05-2008' in DD/MM/YYYY format. Provide format or specify infer_datetime_format=True for consistent parsing.\n",
      "\n",
      "c:\\Users\\vedan\\Desktop\\heart-disease-prediction\\env\\lib\\site-packages\\pandas\\core\\indexes\\datetimes.py:327: UserWarning:\n",
      "\n",
      "Parsing '20-05-2008' in DD/MM/YYYY format. Provide format or specify infer_datetime_format=True for consistent parsing.\n",
      "\n",
      "c:\\Users\\vedan\\Desktop\\heart-disease-prediction\\env\\lib\\site-packages\\pandas\\core\\indexes\\datetimes.py:327: UserWarning:\n",
      "\n",
      "Parsing '21-05-2008' in DD/MM/YYYY format. Provide format or specify infer_datetime_format=True for consistent parsing.\n",
      "\n",
      "c:\\Users\\vedan\\Desktop\\heart-disease-prediction\\env\\lib\\site-packages\\pandas\\core\\indexes\\datetimes.py:327: UserWarning:\n",
      "\n",
      "Parsing '23-05-2008' in DD/MM/YYYY format. Provide format or specify infer_datetime_format=True for consistent parsing.\n",
      "\n",
      "c:\\Users\\vedan\\Desktop\\heart-disease-prediction\\env\\lib\\site-packages\\pandas\\core\\indexes\\datetimes.py:327: UserWarning:\n",
      "\n",
      "Parsing '24-05-2008' in DD/MM/YYYY format. Provide format or specify infer_datetime_format=True for consistent parsing.\n",
      "\n",
      "c:\\Users\\vedan\\Desktop\\heart-disease-prediction\\env\\lib\\site-packages\\pandas\\core\\indexes\\datetimes.py:327: UserWarning:\n",
      "\n",
      "Parsing '26-05-2008' in DD/MM/YYYY format. Provide format or specify infer_datetime_format=True for consistent parsing.\n",
      "\n",
      "c:\\Users\\vedan\\Desktop\\heart-disease-prediction\\env\\lib\\site-packages\\pandas\\core\\indexes\\datetimes.py:327: UserWarning:\n",
      "\n",
      "Parsing '27-05-2008' in DD/MM/YYYY format. Provide format or specify infer_datetime_format=True for consistent parsing.\n",
      "\n",
      "c:\\Users\\vedan\\Desktop\\heart-disease-prediction\\env\\lib\\site-packages\\pandas\\core\\indexes\\datetimes.py:327: UserWarning:\n",
      "\n",
      "Parsing '30-05-2008' in DD/MM/YYYY format. Provide format or specify infer_datetime_format=True for consistent parsing.\n",
      "\n",
      "c:\\Users\\vedan\\Desktop\\heart-disease-prediction\\env\\lib\\site-packages\\pandas\\core\\indexes\\datetimes.py:327: UserWarning:\n",
      "\n",
      "Parsing '31-05-2008' in DD/MM/YYYY format. Provide format or specify infer_datetime_format=True for consistent parsing.\n",
      "\n",
      "c:\\Users\\vedan\\Desktop\\heart-disease-prediction\\env\\lib\\site-packages\\pandas\\core\\indexes\\datetimes.py:327: UserWarning:\n",
      "\n",
      "Parsing '18-04-2009' in DD/MM/YYYY format. Provide format or specify infer_datetime_format=True for consistent parsing.\n",
      "\n",
      "c:\\Users\\vedan\\Desktop\\heart-disease-prediction\\env\\lib\\site-packages\\pandas\\core\\indexes\\datetimes.py:327: UserWarning:\n",
      "\n",
      "Parsing '19-04-2009' in DD/MM/YYYY format. Provide format or specify infer_datetime_format=True for consistent parsing.\n",
      "\n",
      "c:\\Users\\vedan\\Desktop\\heart-disease-prediction\\env\\lib\\site-packages\\pandas\\core\\indexes\\datetimes.py:327: UserWarning:\n",
      "\n",
      "Parsing '20-04-2009' in DD/MM/YYYY format. Provide format or specify infer_datetime_format=True for consistent parsing.\n",
      "\n",
      "c:\\Users\\vedan\\Desktop\\heart-disease-prediction\\env\\lib\\site-packages\\pandas\\core\\indexes\\datetimes.py:327: UserWarning:\n",
      "\n",
      "Parsing '21-04-2009' in DD/MM/YYYY format. Provide format or specify infer_datetime_format=True for consistent parsing.\n",
      "\n",
      "c:\\Users\\vedan\\Desktop\\heart-disease-prediction\\env\\lib\\site-packages\\pandas\\core\\indexes\\datetimes.py:327: UserWarning:\n",
      "\n",
      "Parsing '22-04-2009' in DD/MM/YYYY format. Provide format or specify infer_datetime_format=True for consistent parsing.\n",
      "\n",
      "c:\\Users\\vedan\\Desktop\\heart-disease-prediction\\env\\lib\\site-packages\\pandas\\core\\indexes\\datetimes.py:327: UserWarning:\n",
      "\n",
      "Parsing '23-04-2009' in DD/MM/YYYY format. Provide format or specify infer_datetime_format=True for consistent parsing.\n",
      "\n",
      "c:\\Users\\vedan\\Desktop\\heart-disease-prediction\\env\\lib\\site-packages\\pandas\\core\\indexes\\datetimes.py:327: UserWarning:\n",
      "\n",
      "Parsing '24-04-2009' in DD/MM/YYYY format. Provide format or specify infer_datetime_format=True for consistent parsing.\n",
      "\n",
      "c:\\Users\\vedan\\Desktop\\heart-disease-prediction\\env\\lib\\site-packages\\pandas\\core\\indexes\\datetimes.py:327: UserWarning:\n",
      "\n",
      "Parsing '25-04-2009' in DD/MM/YYYY format. Provide format or specify infer_datetime_format=True for consistent parsing.\n",
      "\n",
      "c:\\Users\\vedan\\Desktop\\heart-disease-prediction\\env\\lib\\site-packages\\pandas\\core\\indexes\\datetimes.py:327: UserWarning:\n",
      "\n",
      "Parsing '26-04-2009' in DD/MM/YYYY format. Provide format or specify infer_datetime_format=True for consistent parsing.\n",
      "\n",
      "c:\\Users\\vedan\\Desktop\\heart-disease-prediction\\env\\lib\\site-packages\\pandas\\core\\indexes\\datetimes.py:327: UserWarning:\n",
      "\n",
      "Parsing '27-04-2009' in DD/MM/YYYY format. Provide format or specify infer_datetime_format=True for consistent parsing.\n",
      "\n",
      "c:\\Users\\vedan\\Desktop\\heart-disease-prediction\\env\\lib\\site-packages\\pandas\\core\\indexes\\datetimes.py:327: UserWarning:\n",
      "\n",
      "Parsing '28-04-2009' in DD/MM/YYYY format. Provide format or specify infer_datetime_format=True for consistent parsing.\n",
      "\n",
      "c:\\Users\\vedan\\Desktop\\heart-disease-prediction\\env\\lib\\site-packages\\pandas\\core\\indexes\\datetimes.py:327: UserWarning:\n",
      "\n",
      "Parsing '29-04-2009' in DD/MM/YYYY format. Provide format or specify infer_datetime_format=True for consistent parsing.\n",
      "\n",
      "c:\\Users\\vedan\\Desktop\\heart-disease-prediction\\env\\lib\\site-packages\\pandas\\core\\indexes\\datetimes.py:327: UserWarning:\n",
      "\n",
      "Parsing '30-04-2009' in DD/MM/YYYY format. Provide format or specify infer_datetime_format=True for consistent parsing.\n",
      "\n",
      "c:\\Users\\vedan\\Desktop\\heart-disease-prediction\\env\\lib\\site-packages\\pandas\\core\\indexes\\datetimes.py:327: UserWarning:\n",
      "\n",
      "Parsing '13-05-2009' in DD/MM/YYYY format. Provide format or specify infer_datetime_format=True for consistent parsing.\n",
      "\n",
      "c:\\Users\\vedan\\Desktop\\heart-disease-prediction\\env\\lib\\site-packages\\pandas\\core\\indexes\\datetimes.py:327: UserWarning:\n",
      "\n",
      "Parsing '14-05-2009' in DD/MM/YYYY format. Provide format or specify infer_datetime_format=True for consistent parsing.\n",
      "\n",
      "c:\\Users\\vedan\\Desktop\\heart-disease-prediction\\env\\lib\\site-packages\\pandas\\core\\indexes\\datetimes.py:327: UserWarning:\n",
      "\n",
      "Parsing '15-05-2009' in DD/MM/YYYY format. Provide format or specify infer_datetime_format=True for consistent parsing.\n",
      "\n",
      "c:\\Users\\vedan\\Desktop\\heart-disease-prediction\\env\\lib\\site-packages\\pandas\\core\\indexes\\datetimes.py:327: UserWarning:\n",
      "\n",
      "Parsing '16-05-2009' in DD/MM/YYYY format. Provide format or specify infer_datetime_format=True for consistent parsing.\n",
      "\n",
      "c:\\Users\\vedan\\Desktop\\heart-disease-prediction\\env\\lib\\site-packages\\pandas\\core\\indexes\\datetimes.py:327: UserWarning:\n",
      "\n",
      "Parsing '17-05-2009' in DD/MM/YYYY format. Provide format or specify infer_datetime_format=True for consistent parsing.\n",
      "\n",
      "c:\\Users\\vedan\\Desktop\\heart-disease-prediction\\env\\lib\\site-packages\\pandas\\core\\indexes\\datetimes.py:327: UserWarning:\n",
      "\n",
      "Parsing '18-05-2009' in DD/MM/YYYY format. Provide format or specify infer_datetime_format=True for consistent parsing.\n",
      "\n",
      "c:\\Users\\vedan\\Desktop\\heart-disease-prediction\\env\\lib\\site-packages\\pandas\\core\\indexes\\datetimes.py:327: UserWarning:\n",
      "\n",
      "Parsing '19-05-2009' in DD/MM/YYYY format. Provide format or specify infer_datetime_format=True for consistent parsing.\n",
      "\n",
      "c:\\Users\\vedan\\Desktop\\heart-disease-prediction\\env\\lib\\site-packages\\pandas\\core\\indexes\\datetimes.py:327: UserWarning:\n",
      "\n",
      "Parsing '20-05-2009' in DD/MM/YYYY format. Provide format or specify infer_datetime_format=True for consistent parsing.\n",
      "\n",
      "c:\\Users\\vedan\\Desktop\\heart-disease-prediction\\env\\lib\\site-packages\\pandas\\core\\indexes\\datetimes.py:327: UserWarning:\n",
      "\n",
      "Parsing '21-05-2009' in DD/MM/YYYY format. Provide format or specify infer_datetime_format=True for consistent parsing.\n",
      "\n",
      "c:\\Users\\vedan\\Desktop\\heart-disease-prediction\\env\\lib\\site-packages\\pandas\\core\\indexes\\datetimes.py:327: UserWarning:\n",
      "\n",
      "Parsing '22-05-2009' in DD/MM/YYYY format. Provide format or specify infer_datetime_format=True for consistent parsing.\n",
      "\n",
      "c:\\Users\\vedan\\Desktop\\heart-disease-prediction\\env\\lib\\site-packages\\pandas\\core\\indexes\\datetimes.py:327: UserWarning:\n",
      "\n",
      "Parsing '23-05-2009' in DD/MM/YYYY format. Provide format or specify infer_datetime_format=True for consistent parsing.\n",
      "\n",
      "c:\\Users\\vedan\\Desktop\\heart-disease-prediction\\env\\lib\\site-packages\\pandas\\core\\indexes\\datetimes.py:327: UserWarning:\n",
      "\n",
      "Parsing '24-05-2009' in DD/MM/YYYY format. Provide format or specify infer_datetime_format=True for consistent parsing.\n",
      "\n",
      "c:\\Users\\vedan\\Desktop\\heart-disease-prediction\\env\\lib\\site-packages\\pandas\\core\\indexes\\datetimes.py:327: UserWarning:\n",
      "\n",
      "Parsing '13-03-2010' in DD/MM/YYYY format. Provide format or specify infer_datetime_format=True for consistent parsing.\n",
      "\n",
      "c:\\Users\\vedan\\Desktop\\heart-disease-prediction\\env\\lib\\site-packages\\pandas\\core\\indexes\\datetimes.py:327: UserWarning:\n",
      "\n",
      "Parsing '14-03-2010' in DD/MM/YYYY format. Provide format or specify infer_datetime_format=True for consistent parsing.\n",
      "\n",
      "c:\\Users\\vedan\\Desktop\\heart-disease-prediction\\env\\lib\\site-packages\\pandas\\core\\indexes\\datetimes.py:327: UserWarning:\n",
      "\n",
      "Parsing '15-03-2010' in DD/MM/YYYY format. Provide format or specify infer_datetime_format=True for consistent parsing.\n",
      "\n",
      "c:\\Users\\vedan\\Desktop\\heart-disease-prediction\\env\\lib\\site-packages\\pandas\\core\\indexes\\datetimes.py:327: UserWarning:\n",
      "\n",
      "Parsing '16-03-2010' in DD/MM/YYYY format. Provide format or specify infer_datetime_format=True for consistent parsing.\n",
      "\n",
      "c:\\Users\\vedan\\Desktop\\heart-disease-prediction\\env\\lib\\site-packages\\pandas\\core\\indexes\\datetimes.py:327: UserWarning:\n",
      "\n",
      "Parsing '17-03-2010' in DD/MM/YYYY format. Provide format or specify infer_datetime_format=True for consistent parsing.\n",
      "\n",
      "c:\\Users\\vedan\\Desktop\\heart-disease-prediction\\env\\lib\\site-packages\\pandas\\core\\indexes\\datetimes.py:327: UserWarning:\n",
      "\n",
      "Parsing '18-03-2010' in DD/MM/YYYY format. Provide format or specify infer_datetime_format=True for consistent parsing.\n",
      "\n",
      "c:\\Users\\vedan\\Desktop\\heart-disease-prediction\\env\\lib\\site-packages\\pandas\\core\\indexes\\datetimes.py:327: UserWarning:\n",
      "\n",
      "Parsing '19-03-2010' in DD/MM/YYYY format. Provide format or specify infer_datetime_format=True for consistent parsing.\n",
      "\n",
      "c:\\Users\\vedan\\Desktop\\heart-disease-prediction\\env\\lib\\site-packages\\pandas\\core\\indexes\\datetimes.py:327: UserWarning:\n",
      "\n",
      "Parsing '20-03-2010' in DD/MM/YYYY format. Provide format or specify infer_datetime_format=True for consistent parsing.\n",
      "\n",
      "c:\\Users\\vedan\\Desktop\\heart-disease-prediction\\env\\lib\\site-packages\\pandas\\core\\indexes\\datetimes.py:327: UserWarning:\n",
      "\n",
      "Parsing '21-03-2010' in DD/MM/YYYY format. Provide format or specify infer_datetime_format=True for consistent parsing.\n",
      "\n",
      "c:\\Users\\vedan\\Desktop\\heart-disease-prediction\\env\\lib\\site-packages\\pandas\\core\\indexes\\datetimes.py:327: UserWarning:\n",
      "\n",
      "Parsing '22-03-2010' in DD/MM/YYYY format. Provide format or specify infer_datetime_format=True for consistent parsing.\n",
      "\n",
      "c:\\Users\\vedan\\Desktop\\heart-disease-prediction\\env\\lib\\site-packages\\pandas\\core\\indexes\\datetimes.py:327: UserWarning:\n",
      "\n",
      "Parsing '23-03-2010' in DD/MM/YYYY format. Provide format or specify infer_datetime_format=True for consistent parsing.\n",
      "\n",
      "c:\\Users\\vedan\\Desktop\\heart-disease-prediction\\env\\lib\\site-packages\\pandas\\core\\indexes\\datetimes.py:327: UserWarning:\n",
      "\n",
      "Parsing '24-03-2010' in DD/MM/YYYY format. Provide format or specify infer_datetime_format=True for consistent parsing.\n",
      "\n",
      "c:\\Users\\vedan\\Desktop\\heart-disease-prediction\\env\\lib\\site-packages\\pandas\\core\\indexes\\datetimes.py:327: UserWarning:\n",
      "\n",
      "Parsing '25-03-2010' in DD/MM/YYYY format. Provide format or specify infer_datetime_format=True for consistent parsing.\n",
      "\n",
      "c:\\Users\\vedan\\Desktop\\heart-disease-prediction\\env\\lib\\site-packages\\pandas\\core\\indexes\\datetimes.py:327: UserWarning:\n",
      "\n",
      "Parsing '26-03-2010' in DD/MM/YYYY format. Provide format or specify infer_datetime_format=True for consistent parsing.\n",
      "\n",
      "c:\\Users\\vedan\\Desktop\\heart-disease-prediction\\env\\lib\\site-packages\\pandas\\core\\indexes\\datetimes.py:327: UserWarning:\n",
      "\n",
      "Parsing '27-03-2010' in DD/MM/YYYY format. Provide format or specify infer_datetime_format=True for consistent parsing.\n",
      "\n",
      "c:\\Users\\vedan\\Desktop\\heart-disease-prediction\\env\\lib\\site-packages\\pandas\\core\\indexes\\datetimes.py:327: UserWarning:\n",
      "\n",
      "Parsing '28-03-2010' in DD/MM/YYYY format. Provide format or specify infer_datetime_format=True for consistent parsing.\n",
      "\n",
      "c:\\Users\\vedan\\Desktop\\heart-disease-prediction\\env\\lib\\site-packages\\pandas\\core\\indexes\\datetimes.py:327: UserWarning:\n",
      "\n",
      "Parsing '29-03-2010' in DD/MM/YYYY format. Provide format or specify infer_datetime_format=True for consistent parsing.\n",
      "\n",
      "c:\\Users\\vedan\\Desktop\\heart-disease-prediction\\env\\lib\\site-packages\\pandas\\core\\indexes\\datetimes.py:327: UserWarning:\n",
      "\n",
      "Parsing '30-03-2010' in DD/MM/YYYY format. Provide format or specify infer_datetime_format=True for consistent parsing.\n",
      "\n",
      "c:\\Users\\vedan\\Desktop\\heart-disease-prediction\\env\\lib\\site-packages\\pandas\\core\\indexes\\datetimes.py:327: UserWarning:\n",
      "\n",
      "Parsing '31-03-2010' in DD/MM/YYYY format. Provide format or specify infer_datetime_format=True for consistent parsing.\n",
      "\n",
      "c:\\Users\\vedan\\Desktop\\heart-disease-prediction\\env\\lib\\site-packages\\pandas\\core\\indexes\\datetimes.py:327: UserWarning:\n",
      "\n",
      "Parsing '13-04-2010' in DD/MM/YYYY format. Provide format or specify infer_datetime_format=True for consistent parsing.\n",
      "\n",
      "c:\\Users\\vedan\\Desktop\\heart-disease-prediction\\env\\lib\\site-packages\\pandas\\core\\indexes\\datetimes.py:327: UserWarning:\n",
      "\n",
      "Parsing '14-04-2010' in DD/MM/YYYY format. Provide format or specify infer_datetime_format=True for consistent parsing.\n",
      "\n",
      "c:\\Users\\vedan\\Desktop\\heart-disease-prediction\\env\\lib\\site-packages\\pandas\\core\\indexes\\datetimes.py:327: UserWarning:\n",
      "\n",
      "Parsing '15-04-2010' in DD/MM/YYYY format. Provide format or specify infer_datetime_format=True for consistent parsing.\n",
      "\n",
      "c:\\Users\\vedan\\Desktop\\heart-disease-prediction\\env\\lib\\site-packages\\pandas\\core\\indexes\\datetimes.py:327: UserWarning:\n",
      "\n",
      "Parsing '16-04-2010' in DD/MM/YYYY format. Provide format or specify infer_datetime_format=True for consistent parsing.\n",
      "\n",
      "c:\\Users\\vedan\\Desktop\\heart-disease-prediction\\env\\lib\\site-packages\\pandas\\core\\indexes\\datetimes.py:327: UserWarning:\n",
      "\n",
      "Parsing '17-04-2010' in DD/MM/YYYY format. Provide format or specify infer_datetime_format=True for consistent parsing.\n",
      "\n",
      "c:\\Users\\vedan\\Desktop\\heart-disease-prediction\\env\\lib\\site-packages\\pandas\\core\\indexes\\datetimes.py:327: UserWarning:\n",
      "\n",
      "Parsing '18-04-2010' in DD/MM/YYYY format. Provide format or specify infer_datetime_format=True for consistent parsing.\n",
      "\n",
      "c:\\Users\\vedan\\Desktop\\heart-disease-prediction\\env\\lib\\site-packages\\pandas\\core\\indexes\\datetimes.py:327: UserWarning:\n",
      "\n",
      "Parsing '19-04-2010' in DD/MM/YYYY format. Provide format or specify infer_datetime_format=True for consistent parsing.\n",
      "\n",
      "c:\\Users\\vedan\\Desktop\\heart-disease-prediction\\env\\lib\\site-packages\\pandas\\core\\indexes\\datetimes.py:327: UserWarning:\n",
      "\n",
      "Parsing '21-04-2010' in DD/MM/YYYY format. Provide format or specify infer_datetime_format=True for consistent parsing.\n",
      "\n",
      "c:\\Users\\vedan\\Desktop\\heart-disease-prediction\\env\\lib\\site-packages\\pandas\\core\\indexes\\datetimes.py:327: UserWarning:\n",
      "\n",
      "Parsing '22-04-2010' in DD/MM/YYYY format. Provide format or specify infer_datetime_format=True for consistent parsing.\n",
      "\n",
      "c:\\Users\\vedan\\Desktop\\heart-disease-prediction\\env\\lib\\site-packages\\pandas\\core\\indexes\\datetimes.py:327: UserWarning:\n",
      "\n",
      "Parsing '24-04-2010' in DD/MM/YYYY format. Provide format or specify infer_datetime_format=True for consistent parsing.\n",
      "\n",
      "c:\\Users\\vedan\\Desktop\\heart-disease-prediction\\env\\lib\\site-packages\\pandas\\core\\indexes\\datetimes.py:327: UserWarning:\n",
      "\n",
      "Parsing '25-04-2010' in DD/MM/YYYY format. Provide format or specify infer_datetime_format=True for consistent parsing.\n",
      "\n",
      "c:\\Users\\vedan\\Desktop\\heart-disease-prediction\\env\\lib\\site-packages\\pandas\\core\\indexes\\datetimes.py:327: UserWarning:\n",
      "\n",
      "Parsing '13-04-2011' in DD/MM/YYYY format. Provide format or specify infer_datetime_format=True for consistent parsing.\n",
      "\n",
      "c:\\Users\\vedan\\Desktop\\heart-disease-prediction\\env\\lib\\site-packages\\pandas\\core\\indexes\\datetimes.py:327: UserWarning:\n",
      "\n",
      "Parsing '14-04-2011' in DD/MM/YYYY format. Provide format or specify infer_datetime_format=True for consistent parsing.\n",
      "\n",
      "c:\\Users\\vedan\\Desktop\\heart-disease-prediction\\env\\lib\\site-packages\\pandas\\core\\indexes\\datetimes.py:327: UserWarning:\n",
      "\n",
      "Parsing '15-04-2011' in DD/MM/YYYY format. Provide format or specify infer_datetime_format=True for consistent parsing.\n",
      "\n",
      "c:\\Users\\vedan\\Desktop\\heart-disease-prediction\\env\\lib\\site-packages\\pandas\\core\\indexes\\datetimes.py:327: UserWarning:\n",
      "\n",
      "Parsing '16-04-2011' in DD/MM/YYYY format. Provide format or specify infer_datetime_format=True for consistent parsing.\n",
      "\n",
      "c:\\Users\\vedan\\Desktop\\heart-disease-prediction\\env\\lib\\site-packages\\pandas\\core\\indexes\\datetimes.py:327: UserWarning:\n",
      "\n",
      "Parsing '17-04-2011' in DD/MM/YYYY format. Provide format or specify infer_datetime_format=True for consistent parsing.\n",
      "\n",
      "c:\\Users\\vedan\\Desktop\\heart-disease-prediction\\env\\lib\\site-packages\\pandas\\core\\indexes\\datetimes.py:327: UserWarning:\n",
      "\n",
      "Parsing '18-04-2011' in DD/MM/YYYY format. Provide format or specify infer_datetime_format=True for consistent parsing.\n",
      "\n",
      "c:\\Users\\vedan\\Desktop\\heart-disease-prediction\\env\\lib\\site-packages\\pandas\\core\\indexes\\datetimes.py:327: UserWarning:\n",
      "\n",
      "Parsing '19-04-2011' in DD/MM/YYYY format. Provide format or specify infer_datetime_format=True for consistent parsing.\n",
      "\n",
      "c:\\Users\\vedan\\Desktop\\heart-disease-prediction\\env\\lib\\site-packages\\pandas\\core\\indexes\\datetimes.py:327: UserWarning:\n",
      "\n",
      "Parsing '20-04-2011' in DD/MM/YYYY format. Provide format or specify infer_datetime_format=True for consistent parsing.\n",
      "\n",
      "c:\\Users\\vedan\\Desktop\\heart-disease-prediction\\env\\lib\\site-packages\\pandas\\core\\indexes\\datetimes.py:327: UserWarning:\n",
      "\n",
      "Parsing '21-04-2011' in DD/MM/YYYY format. Provide format or specify infer_datetime_format=True for consistent parsing.\n",
      "\n",
      "c:\\Users\\vedan\\Desktop\\heart-disease-prediction\\env\\lib\\site-packages\\pandas\\core\\indexes\\datetimes.py:327: UserWarning:\n",
      "\n",
      "Parsing '22-04-2011' in DD/MM/YYYY format. Provide format or specify infer_datetime_format=True for consistent parsing.\n",
      "\n",
      "c:\\Users\\vedan\\Desktop\\heart-disease-prediction\\env\\lib\\site-packages\\pandas\\core\\indexes\\datetimes.py:327: UserWarning:\n",
      "\n",
      "Parsing '23-04-2011' in DD/MM/YYYY format. Provide format or specify infer_datetime_format=True for consistent parsing.\n",
      "\n",
      "c:\\Users\\vedan\\Desktop\\heart-disease-prediction\\env\\lib\\site-packages\\pandas\\core\\indexes\\datetimes.py:327: UserWarning:\n",
      "\n",
      "Parsing '24-04-2011' in DD/MM/YYYY format. Provide format or specify infer_datetime_format=True for consistent parsing.\n",
      "\n",
      "c:\\Users\\vedan\\Desktop\\heart-disease-prediction\\env\\lib\\site-packages\\pandas\\core\\indexes\\datetimes.py:327: UserWarning:\n",
      "\n",
      "Parsing '25-04-2011' in DD/MM/YYYY format. Provide format or specify infer_datetime_format=True for consistent parsing.\n",
      "\n",
      "c:\\Users\\vedan\\Desktop\\heart-disease-prediction\\env\\lib\\site-packages\\pandas\\core\\indexes\\datetimes.py:327: UserWarning:\n",
      "\n",
      "Parsing '26-04-2011' in DD/MM/YYYY format. Provide format or specify infer_datetime_format=True for consistent parsing.\n",
      "\n",
      "c:\\Users\\vedan\\Desktop\\heart-disease-prediction\\env\\lib\\site-packages\\pandas\\core\\indexes\\datetimes.py:327: UserWarning:\n",
      "\n",
      "Parsing '27-04-2011' in DD/MM/YYYY format. Provide format or specify infer_datetime_format=True for consistent parsing.\n",
      "\n",
      "c:\\Users\\vedan\\Desktop\\heart-disease-prediction\\env\\lib\\site-packages\\pandas\\core\\indexes\\datetimes.py:327: UserWarning:\n",
      "\n",
      "Parsing '28-04-2011' in DD/MM/YYYY format. Provide format or specify infer_datetime_format=True for consistent parsing.\n",
      "\n",
      "c:\\Users\\vedan\\Desktop\\heart-disease-prediction\\env\\lib\\site-packages\\pandas\\core\\indexes\\datetimes.py:327: UserWarning:\n",
      "\n",
      "Parsing '29-04-2011' in DD/MM/YYYY format. Provide format or specify infer_datetime_format=True for consistent parsing.\n",
      "\n",
      "c:\\Users\\vedan\\Desktop\\heart-disease-prediction\\env\\lib\\site-packages\\pandas\\core\\indexes\\datetimes.py:327: UserWarning:\n",
      "\n",
      "Parsing '30-04-2011' in DD/MM/YYYY format. Provide format or specify infer_datetime_format=True for consistent parsing.\n",
      "\n",
      "c:\\Users\\vedan\\Desktop\\heart-disease-prediction\\env\\lib\\site-packages\\pandas\\core\\indexes\\datetimes.py:327: UserWarning:\n",
      "\n",
      "Parsing '13-05-2011' in DD/MM/YYYY format. Provide format or specify infer_datetime_format=True for consistent parsing.\n",
      "\n",
      "c:\\Users\\vedan\\Desktop\\heart-disease-prediction\\env\\lib\\site-packages\\pandas\\core\\indexes\\datetimes.py:327: UserWarning:\n",
      "\n",
      "Parsing '14-05-2011' in DD/MM/YYYY format. Provide format or specify infer_datetime_format=True for consistent parsing.\n",
      "\n",
      "c:\\Users\\vedan\\Desktop\\heart-disease-prediction\\env\\lib\\site-packages\\pandas\\core\\indexes\\datetimes.py:327: UserWarning:\n",
      "\n",
      "Parsing '15-05-2011' in DD/MM/YYYY format. Provide format or specify infer_datetime_format=True for consistent parsing.\n",
      "\n",
      "c:\\Users\\vedan\\Desktop\\heart-disease-prediction\\env\\lib\\site-packages\\pandas\\core\\indexes\\datetimes.py:327: UserWarning:\n",
      "\n",
      "Parsing '16-05-2011' in DD/MM/YYYY format. Provide format or specify infer_datetime_format=True for consistent parsing.\n",
      "\n",
      "c:\\Users\\vedan\\Desktop\\heart-disease-prediction\\env\\lib\\site-packages\\pandas\\core\\indexes\\datetimes.py:327: UserWarning:\n",
      "\n",
      "Parsing '17-05-2011' in DD/MM/YYYY format. Provide format or specify infer_datetime_format=True for consistent parsing.\n",
      "\n",
      "c:\\Users\\vedan\\Desktop\\heart-disease-prediction\\env\\lib\\site-packages\\pandas\\core\\indexes\\datetimes.py:327: UserWarning:\n",
      "\n",
      "Parsing '18-05-2011' in DD/MM/YYYY format. Provide format or specify infer_datetime_format=True for consistent parsing.\n",
      "\n",
      "c:\\Users\\vedan\\Desktop\\heart-disease-prediction\\env\\lib\\site-packages\\pandas\\core\\indexes\\datetimes.py:327: UserWarning:\n",
      "\n",
      "Parsing '19-05-2011' in DD/MM/YYYY format. Provide format or specify infer_datetime_format=True for consistent parsing.\n",
      "\n",
      "c:\\Users\\vedan\\Desktop\\heart-disease-prediction\\env\\lib\\site-packages\\pandas\\core\\indexes\\datetimes.py:327: UserWarning:\n",
      "\n",
      "Parsing '20-05-2011' in DD/MM/YYYY format. Provide format or specify infer_datetime_format=True for consistent parsing.\n",
      "\n",
      "c:\\Users\\vedan\\Desktop\\heart-disease-prediction\\env\\lib\\site-packages\\pandas\\core\\indexes\\datetimes.py:327: UserWarning:\n",
      "\n",
      "Parsing '21-05-2011' in DD/MM/YYYY format. Provide format or specify infer_datetime_format=True for consistent parsing.\n",
      "\n",
      "c:\\Users\\vedan\\Desktop\\heart-disease-prediction\\env\\lib\\site-packages\\pandas\\core\\indexes\\datetimes.py:327: UserWarning:\n",
      "\n",
      "Parsing '22-05-2011' in DD/MM/YYYY format. Provide format or specify infer_datetime_format=True for consistent parsing.\n",
      "\n",
      "c:\\Users\\vedan\\Desktop\\heart-disease-prediction\\env\\lib\\site-packages\\pandas\\core\\indexes\\datetimes.py:327: UserWarning:\n",
      "\n",
      "Parsing '24-05-2011' in DD/MM/YYYY format. Provide format or specify infer_datetime_format=True for consistent parsing.\n",
      "\n",
      "c:\\Users\\vedan\\Desktop\\heart-disease-prediction\\env\\lib\\site-packages\\pandas\\core\\indexes\\datetimes.py:327: UserWarning:\n",
      "\n",
      "Parsing '25-05-2011' in DD/MM/YYYY format. Provide format or specify infer_datetime_format=True for consistent parsing.\n",
      "\n",
      "c:\\Users\\vedan\\Desktop\\heart-disease-prediction\\env\\lib\\site-packages\\pandas\\core\\indexes\\datetimes.py:327: UserWarning:\n",
      "\n",
      "Parsing '27-05-2011' in DD/MM/YYYY format. Provide format or specify infer_datetime_format=True for consistent parsing.\n",
      "\n",
      "c:\\Users\\vedan\\Desktop\\heart-disease-prediction\\env\\lib\\site-packages\\pandas\\core\\indexes\\datetimes.py:327: UserWarning:\n",
      "\n",
      "Parsing '28-05-2011' in DD/MM/YYYY format. Provide format or specify infer_datetime_format=True for consistent parsing.\n",
      "\n",
      "c:\\Users\\vedan\\Desktop\\heart-disease-prediction\\env\\lib\\site-packages\\pandas\\core\\indexes\\datetimes.py:327: UserWarning:\n",
      "\n",
      "Parsing '13-04-2012' in DD/MM/YYYY format. Provide format or specify infer_datetime_format=True for consistent parsing.\n",
      "\n",
      "c:\\Users\\vedan\\Desktop\\heart-disease-prediction\\env\\lib\\site-packages\\pandas\\core\\indexes\\datetimes.py:327: UserWarning:\n",
      "\n",
      "Parsing '19-04-2012' in DD/MM/YYYY format. Provide format or specify infer_datetime_format=True for consistent parsing.\n",
      "\n",
      "c:\\Users\\vedan\\Desktop\\heart-disease-prediction\\env\\lib\\site-packages\\pandas\\core\\indexes\\datetimes.py:327: UserWarning:\n",
      "\n",
      "Parsing '14-04-2012' in DD/MM/YYYY format. Provide format or specify infer_datetime_format=True for consistent parsing.\n",
      "\n",
      "c:\\Users\\vedan\\Desktop\\heart-disease-prediction\\env\\lib\\site-packages\\pandas\\core\\indexes\\datetimes.py:327: UserWarning:\n",
      "\n",
      "Parsing '15-04-2012' in DD/MM/YYYY format. Provide format or specify infer_datetime_format=True for consistent parsing.\n",
      "\n",
      "c:\\Users\\vedan\\Desktop\\heart-disease-prediction\\env\\lib\\site-packages\\pandas\\core\\indexes\\datetimes.py:327: UserWarning:\n",
      "\n",
      "Parsing '16-04-2012' in DD/MM/YYYY format. Provide format or specify infer_datetime_format=True for consistent parsing.\n",
      "\n",
      "c:\\Users\\vedan\\Desktop\\heart-disease-prediction\\env\\lib\\site-packages\\pandas\\core\\indexes\\datetimes.py:327: UserWarning:\n",
      "\n",
      "Parsing '17-04-2012' in DD/MM/YYYY format. Provide format or specify infer_datetime_format=True for consistent parsing.\n",
      "\n",
      "c:\\Users\\vedan\\Desktop\\heart-disease-prediction\\env\\lib\\site-packages\\pandas\\core\\indexes\\datetimes.py:327: UserWarning:\n",
      "\n",
      "Parsing '18-04-2012' in DD/MM/YYYY format. Provide format or specify infer_datetime_format=True for consistent parsing.\n",
      "\n",
      "c:\\Users\\vedan\\Desktop\\heart-disease-prediction\\env\\lib\\site-packages\\pandas\\core\\indexes\\datetimes.py:327: UserWarning:\n",
      "\n",
      "Parsing '20-04-2012' in DD/MM/YYYY format. Provide format or specify infer_datetime_format=True for consistent parsing.\n",
      "\n",
      "c:\\Users\\vedan\\Desktop\\heart-disease-prediction\\env\\lib\\site-packages\\pandas\\core\\indexes\\datetimes.py:327: UserWarning:\n",
      "\n",
      "Parsing '21-04-2012' in DD/MM/YYYY format. Provide format or specify infer_datetime_format=True for consistent parsing.\n",
      "\n",
      "c:\\Users\\vedan\\Desktop\\heart-disease-prediction\\env\\lib\\site-packages\\pandas\\core\\indexes\\datetimes.py:327: UserWarning:\n",
      "\n",
      "Parsing '22-04-2012' in DD/MM/YYYY format. Provide format or specify infer_datetime_format=True for consistent parsing.\n",
      "\n",
      "c:\\Users\\vedan\\Desktop\\heart-disease-prediction\\env\\lib\\site-packages\\pandas\\core\\indexes\\datetimes.py:327: UserWarning:\n",
      "\n",
      "Parsing '23-04-2012' in DD/MM/YYYY format. Provide format or specify infer_datetime_format=True for consistent parsing.\n",
      "\n",
      "c:\\Users\\vedan\\Desktop\\heart-disease-prediction\\env\\lib\\site-packages\\pandas\\core\\indexes\\datetimes.py:327: UserWarning:\n",
      "\n",
      "Parsing '24-04-2012' in DD/MM/YYYY format. Provide format or specify infer_datetime_format=True for consistent parsing.\n",
      "\n",
      "c:\\Users\\vedan\\Desktop\\heart-disease-prediction\\env\\lib\\site-packages\\pandas\\core\\indexes\\datetimes.py:327: UserWarning:\n",
      "\n",
      "Parsing '25-04-2012' in DD/MM/YYYY format. Provide format or specify infer_datetime_format=True for consistent parsing.\n",
      "\n",
      "c:\\Users\\vedan\\Desktop\\heart-disease-prediction\\env\\lib\\site-packages\\pandas\\core\\indexes\\datetimes.py:327: UserWarning:\n",
      "\n",
      "Parsing '26-04-2012' in DD/MM/YYYY format. Provide format or specify infer_datetime_format=True for consistent parsing.\n",
      "\n",
      "c:\\Users\\vedan\\Desktop\\heart-disease-prediction\\env\\lib\\site-packages\\pandas\\core\\indexes\\datetimes.py:327: UserWarning:\n",
      "\n",
      "Parsing '27-04-2012' in DD/MM/YYYY format. Provide format or specify infer_datetime_format=True for consistent parsing.\n",
      "\n",
      "c:\\Users\\vedan\\Desktop\\heart-disease-prediction\\env\\lib\\site-packages\\pandas\\core\\indexes\\datetimes.py:327: UserWarning:\n",
      "\n",
      "Parsing '28-04-2012' in DD/MM/YYYY format. Provide format or specify infer_datetime_format=True for consistent parsing.\n",
      "\n",
      "c:\\Users\\vedan\\Desktop\\heart-disease-prediction\\env\\lib\\site-packages\\pandas\\core\\indexes\\datetimes.py:327: UserWarning:\n",
      "\n",
      "Parsing '29-04-2012' in DD/MM/YYYY format. Provide format or specify infer_datetime_format=True for consistent parsing.\n",
      "\n",
      "c:\\Users\\vedan\\Desktop\\heart-disease-prediction\\env\\lib\\site-packages\\pandas\\core\\indexes\\datetimes.py:327: UserWarning:\n",
      "\n",
      "Parsing '30-04-2012' in DD/MM/YYYY format. Provide format or specify infer_datetime_format=True for consistent parsing.\n",
      "\n",
      "c:\\Users\\vedan\\Desktop\\heart-disease-prediction\\env\\lib\\site-packages\\pandas\\core\\indexes\\datetimes.py:327: UserWarning:\n",
      "\n",
      "Parsing '13-05-2012' in DD/MM/YYYY format. Provide format or specify infer_datetime_format=True for consistent parsing.\n",
      "\n",
      "c:\\Users\\vedan\\Desktop\\heart-disease-prediction\\env\\lib\\site-packages\\pandas\\core\\indexes\\datetimes.py:327: UserWarning:\n",
      "\n",
      "Parsing '14-05-2012' in DD/MM/YYYY format. Provide format or specify infer_datetime_format=True for consistent parsing.\n",
      "\n",
      "c:\\Users\\vedan\\Desktop\\heart-disease-prediction\\env\\lib\\site-packages\\pandas\\core\\indexes\\datetimes.py:327: UserWarning:\n",
      "\n",
      "Parsing '15-05-2012' in DD/MM/YYYY format. Provide format or specify infer_datetime_format=True for consistent parsing.\n",
      "\n",
      "c:\\Users\\vedan\\Desktop\\heart-disease-prediction\\env\\lib\\site-packages\\pandas\\core\\indexes\\datetimes.py:327: UserWarning:\n",
      "\n",
      "Parsing '16-05-2012' in DD/MM/YYYY format. Provide format or specify infer_datetime_format=True for consistent parsing.\n",
      "\n",
      "c:\\Users\\vedan\\Desktop\\heart-disease-prediction\\env\\lib\\site-packages\\pandas\\core\\indexes\\datetimes.py:327: UserWarning:\n",
      "\n",
      "Parsing '17-05-2012' in DD/MM/YYYY format. Provide format or specify infer_datetime_format=True for consistent parsing.\n",
      "\n",
      "c:\\Users\\vedan\\Desktop\\heart-disease-prediction\\env\\lib\\site-packages\\pandas\\core\\indexes\\datetimes.py:327: UserWarning:\n",
      "\n",
      "Parsing '18-05-2012' in DD/MM/YYYY format. Provide format or specify infer_datetime_format=True for consistent parsing.\n",
      "\n",
      "c:\\Users\\vedan\\Desktop\\heart-disease-prediction\\env\\lib\\site-packages\\pandas\\core\\indexes\\datetimes.py:327: UserWarning:\n",
      "\n",
      "Parsing '19-05-2012' in DD/MM/YYYY format. Provide format or specify infer_datetime_format=True for consistent parsing.\n",
      "\n",
      "c:\\Users\\vedan\\Desktop\\heart-disease-prediction\\env\\lib\\site-packages\\pandas\\core\\indexes\\datetimes.py:327: UserWarning:\n",
      "\n",
      "Parsing '20-05-2012' in DD/MM/YYYY format. Provide format or specify infer_datetime_format=True for consistent parsing.\n",
      "\n",
      "c:\\Users\\vedan\\Desktop\\heart-disease-prediction\\env\\lib\\site-packages\\pandas\\core\\indexes\\datetimes.py:327: UserWarning:\n",
      "\n",
      "Parsing '22-05-2012' in DD/MM/YYYY format. Provide format or specify infer_datetime_format=True for consistent parsing.\n",
      "\n",
      "c:\\Users\\vedan\\Desktop\\heart-disease-prediction\\env\\lib\\site-packages\\pandas\\core\\indexes\\datetimes.py:327: UserWarning:\n",
      "\n",
      "Parsing '23-05-2012' in DD/MM/YYYY format. Provide format or specify infer_datetime_format=True for consistent parsing.\n",
      "\n",
      "c:\\Users\\vedan\\Desktop\\heart-disease-prediction\\env\\lib\\site-packages\\pandas\\core\\indexes\\datetimes.py:327: UserWarning:\n",
      "\n",
      "Parsing '25-05-2012' in DD/MM/YYYY format. Provide format or specify infer_datetime_format=True for consistent parsing.\n",
      "\n",
      "c:\\Users\\vedan\\Desktop\\heart-disease-prediction\\env\\lib\\site-packages\\pandas\\core\\indexes\\datetimes.py:327: UserWarning:\n",
      "\n",
      "Parsing '27-05-2012' in DD/MM/YYYY format. Provide format or specify infer_datetime_format=True for consistent parsing.\n",
      "\n",
      "c:\\Users\\vedan\\Desktop\\heart-disease-prediction\\env\\lib\\site-packages\\pandas\\core\\indexes\\datetimes.py:327: UserWarning:\n",
      "\n",
      "Parsing '13-04-2013' in DD/MM/YYYY format. Provide format or specify infer_datetime_format=True for consistent parsing.\n",
      "\n",
      "c:\\Users\\vedan\\Desktop\\heart-disease-prediction\\env\\lib\\site-packages\\pandas\\core\\indexes\\datetimes.py:327: UserWarning:\n",
      "\n",
      "Parsing '14-04-2013' in DD/MM/YYYY format. Provide format or specify infer_datetime_format=True for consistent parsing.\n",
      "\n",
      "c:\\Users\\vedan\\Desktop\\heart-disease-prediction\\env\\lib\\site-packages\\pandas\\core\\indexes\\datetimes.py:327: UserWarning:\n",
      "\n",
      "Parsing '15-04-2013' in DD/MM/YYYY format. Provide format or specify infer_datetime_format=True for consistent parsing.\n",
      "\n",
      "c:\\Users\\vedan\\Desktop\\heart-disease-prediction\\env\\lib\\site-packages\\pandas\\core\\indexes\\datetimes.py:327: UserWarning:\n",
      "\n",
      "Parsing '16-04-2013' in DD/MM/YYYY format. Provide format or specify infer_datetime_format=True for consistent parsing.\n",
      "\n",
      "c:\\Users\\vedan\\Desktop\\heart-disease-prediction\\env\\lib\\site-packages\\pandas\\core\\indexes\\datetimes.py:327: UserWarning:\n",
      "\n",
      "Parsing '17-04-2013' in DD/MM/YYYY format. Provide format or specify infer_datetime_format=True for consistent parsing.\n",
      "\n",
      "c:\\Users\\vedan\\Desktop\\heart-disease-prediction\\env\\lib\\site-packages\\pandas\\core\\indexes\\datetimes.py:327: UserWarning:\n",
      "\n",
      "Parsing '18-04-2013' in DD/MM/YYYY format. Provide format or specify infer_datetime_format=True for consistent parsing.\n",
      "\n",
      "c:\\Users\\vedan\\Desktop\\heart-disease-prediction\\env\\lib\\site-packages\\pandas\\core\\indexes\\datetimes.py:327: UserWarning:\n",
      "\n",
      "Parsing '19-04-2013' in DD/MM/YYYY format. Provide format or specify infer_datetime_format=True for consistent parsing.\n",
      "\n",
      "c:\\Users\\vedan\\Desktop\\heart-disease-prediction\\env\\lib\\site-packages\\pandas\\core\\indexes\\datetimes.py:327: UserWarning:\n",
      "\n",
      "Parsing '20-04-2013' in DD/MM/YYYY format. Provide format or specify infer_datetime_format=True for consistent parsing.\n",
      "\n",
      "c:\\Users\\vedan\\Desktop\\heart-disease-prediction\\env\\lib\\site-packages\\pandas\\core\\indexes\\datetimes.py:327: UserWarning:\n",
      "\n",
      "Parsing '21-04-2013' in DD/MM/YYYY format. Provide format or specify infer_datetime_format=True for consistent parsing.\n",
      "\n",
      "c:\\Users\\vedan\\Desktop\\heart-disease-prediction\\env\\lib\\site-packages\\pandas\\core\\indexes\\datetimes.py:327: UserWarning:\n",
      "\n",
      "Parsing '22-04-2013' in DD/MM/YYYY format. Provide format or specify infer_datetime_format=True for consistent parsing.\n",
      "\n",
      "c:\\Users\\vedan\\Desktop\\heart-disease-prediction\\env\\lib\\site-packages\\pandas\\core\\indexes\\datetimes.py:327: UserWarning:\n",
      "\n",
      "Parsing '23-04-2013' in DD/MM/YYYY format. Provide format or specify infer_datetime_format=True for consistent parsing.\n",
      "\n",
      "c:\\Users\\vedan\\Desktop\\heart-disease-prediction\\env\\lib\\site-packages\\pandas\\core\\indexes\\datetimes.py:327: UserWarning:\n",
      "\n",
      "Parsing '16-05-2013' in DD/MM/YYYY format. Provide format or specify infer_datetime_format=True for consistent parsing.\n",
      "\n",
      "c:\\Users\\vedan\\Desktop\\heart-disease-prediction\\env\\lib\\site-packages\\pandas\\core\\indexes\\datetimes.py:327: UserWarning:\n",
      "\n",
      "Parsing '24-04-2013' in DD/MM/YYYY format. Provide format or specify infer_datetime_format=True for consistent parsing.\n",
      "\n",
      "c:\\Users\\vedan\\Desktop\\heart-disease-prediction\\env\\lib\\site-packages\\pandas\\core\\indexes\\datetimes.py:327: UserWarning:\n",
      "\n",
      "Parsing '25-04-2013' in DD/MM/YYYY format. Provide format or specify infer_datetime_format=True for consistent parsing.\n",
      "\n",
      "c:\\Users\\vedan\\Desktop\\heart-disease-prediction\\env\\lib\\site-packages\\pandas\\core\\indexes\\datetimes.py:327: UserWarning:\n",
      "\n",
      "Parsing '26-04-2013' in DD/MM/YYYY format. Provide format or specify infer_datetime_format=True for consistent parsing.\n",
      "\n",
      "c:\\Users\\vedan\\Desktop\\heart-disease-prediction\\env\\lib\\site-packages\\pandas\\core\\indexes\\datetimes.py:327: UserWarning:\n",
      "\n",
      "Parsing '27-04-2013' in DD/MM/YYYY format. Provide format or specify infer_datetime_format=True for consistent parsing.\n",
      "\n",
      "c:\\Users\\vedan\\Desktop\\heart-disease-prediction\\env\\lib\\site-packages\\pandas\\core\\indexes\\datetimes.py:327: UserWarning:\n",
      "\n",
      "Parsing '28-04-2013' in DD/MM/YYYY format. Provide format or specify infer_datetime_format=True for consistent parsing.\n",
      "\n",
      "c:\\Users\\vedan\\Desktop\\heart-disease-prediction\\env\\lib\\site-packages\\pandas\\core\\indexes\\datetimes.py:327: UserWarning:\n",
      "\n",
      "Parsing '29-04-2013' in DD/MM/YYYY format. Provide format or specify infer_datetime_format=True for consistent parsing.\n",
      "\n",
      "c:\\Users\\vedan\\Desktop\\heart-disease-prediction\\env\\lib\\site-packages\\pandas\\core\\indexes\\datetimes.py:327: UserWarning:\n",
      "\n",
      "Parsing '30-04-2013' in DD/MM/YYYY format. Provide format or specify infer_datetime_format=True for consistent parsing.\n",
      "\n",
      "c:\\Users\\vedan\\Desktop\\heart-disease-prediction\\env\\lib\\site-packages\\pandas\\core\\indexes\\datetimes.py:327: UserWarning:\n",
      "\n",
      "Parsing '14-05-2013' in DD/MM/YYYY format. Provide format or specify infer_datetime_format=True for consistent parsing.\n",
      "\n",
      "c:\\Users\\vedan\\Desktop\\heart-disease-prediction\\env\\lib\\site-packages\\pandas\\core\\indexes\\datetimes.py:327: UserWarning:\n",
      "\n",
      "Parsing '13-05-2013' in DD/MM/YYYY format. Provide format or specify infer_datetime_format=True for consistent parsing.\n",
      "\n",
      "c:\\Users\\vedan\\Desktop\\heart-disease-prediction\\env\\lib\\site-packages\\pandas\\core\\indexes\\datetimes.py:327: UserWarning:\n",
      "\n",
      "Parsing '15-05-2013' in DD/MM/YYYY format. Provide format or specify infer_datetime_format=True for consistent parsing.\n",
      "\n",
      "c:\\Users\\vedan\\Desktop\\heart-disease-prediction\\env\\lib\\site-packages\\pandas\\core\\indexes\\datetimes.py:327: UserWarning:\n",
      "\n",
      "Parsing '17-05-2013' in DD/MM/YYYY format. Provide format or specify infer_datetime_format=True for consistent parsing.\n",
      "\n",
      "c:\\Users\\vedan\\Desktop\\heart-disease-prediction\\env\\lib\\site-packages\\pandas\\core\\indexes\\datetimes.py:327: UserWarning:\n",
      "\n",
      "Parsing '18-05-2013' in DD/MM/YYYY format. Provide format or specify infer_datetime_format=True for consistent parsing.\n",
      "\n",
      "c:\\Users\\vedan\\Desktop\\heart-disease-prediction\\env\\lib\\site-packages\\pandas\\core\\indexes\\datetimes.py:327: UserWarning:\n",
      "\n",
      "Parsing '19-05-2013' in DD/MM/YYYY format. Provide format or specify infer_datetime_format=True for consistent parsing.\n",
      "\n",
      "c:\\Users\\vedan\\Desktop\\heart-disease-prediction\\env\\lib\\site-packages\\pandas\\core\\indexes\\datetimes.py:327: UserWarning:\n",
      "\n",
      "Parsing '21-05-2013' in DD/MM/YYYY format. Provide format or specify infer_datetime_format=True for consistent parsing.\n",
      "\n",
      "c:\\Users\\vedan\\Desktop\\heart-disease-prediction\\env\\lib\\site-packages\\pandas\\core\\indexes\\datetimes.py:327: UserWarning:\n",
      "\n",
      "Parsing '22-05-2013' in DD/MM/YYYY format. Provide format or specify infer_datetime_format=True for consistent parsing.\n",
      "\n",
      "c:\\Users\\vedan\\Desktop\\heart-disease-prediction\\env\\lib\\site-packages\\pandas\\core\\indexes\\datetimes.py:327: UserWarning:\n",
      "\n",
      "Parsing '24-05-2013' in DD/MM/YYYY format. Provide format or specify infer_datetime_format=True for consistent parsing.\n",
      "\n",
      "c:\\Users\\vedan\\Desktop\\heart-disease-prediction\\env\\lib\\site-packages\\pandas\\core\\indexes\\datetimes.py:327: UserWarning:\n",
      "\n",
      "Parsing '26-05-2013' in DD/MM/YYYY format. Provide format or specify infer_datetime_format=True for consistent parsing.\n",
      "\n",
      "c:\\Users\\vedan\\Desktop\\heart-disease-prediction\\env\\lib\\site-packages\\pandas\\core\\indexes\\datetimes.py:327: UserWarning:\n",
      "\n",
      "Parsing '16-04-2014' in DD/MM/YYYY format. Provide format or specify infer_datetime_format=True for consistent parsing.\n",
      "\n",
      "c:\\Users\\vedan\\Desktop\\heart-disease-prediction\\env\\lib\\site-packages\\pandas\\core\\indexes\\datetimes.py:327: UserWarning:\n",
      "\n",
      "Parsing '17-04-2014' in DD/MM/YYYY format. Provide format or specify infer_datetime_format=True for consistent parsing.\n",
      "\n",
      "c:\\Users\\vedan\\Desktop\\heart-disease-prediction\\env\\lib\\site-packages\\pandas\\core\\indexes\\datetimes.py:327: UserWarning:\n",
      "\n",
      "Parsing '18-04-2014' in DD/MM/YYYY format. Provide format or specify infer_datetime_format=True for consistent parsing.\n",
      "\n",
      "c:\\Users\\vedan\\Desktop\\heart-disease-prediction\\env\\lib\\site-packages\\pandas\\core\\indexes\\datetimes.py:327: UserWarning:\n",
      "\n",
      "Parsing '19-04-2014' in DD/MM/YYYY format. Provide format or specify infer_datetime_format=True for consistent parsing.\n",
      "\n",
      "c:\\Users\\vedan\\Desktop\\heart-disease-prediction\\env\\lib\\site-packages\\pandas\\core\\indexes\\datetimes.py:327: UserWarning:\n",
      "\n",
      "Parsing '20-04-2014' in DD/MM/YYYY format. Provide format or specify infer_datetime_format=True for consistent parsing.\n",
      "\n",
      "c:\\Users\\vedan\\Desktop\\heart-disease-prediction\\env\\lib\\site-packages\\pandas\\core\\indexes\\datetimes.py:327: UserWarning:\n",
      "\n",
      "Parsing '21-04-2014' in DD/MM/YYYY format. Provide format or specify infer_datetime_format=True for consistent parsing.\n",
      "\n",
      "c:\\Users\\vedan\\Desktop\\heart-disease-prediction\\env\\lib\\site-packages\\pandas\\core\\indexes\\datetimes.py:327: UserWarning:\n",
      "\n",
      "Parsing '22-04-2014' in DD/MM/YYYY format. Provide format or specify infer_datetime_format=True for consistent parsing.\n",
      "\n",
      "c:\\Users\\vedan\\Desktop\\heart-disease-prediction\\env\\lib\\site-packages\\pandas\\core\\indexes\\datetimes.py:327: UserWarning:\n",
      "\n",
      "Parsing '23-04-2014' in DD/MM/YYYY format. Provide format or specify infer_datetime_format=True for consistent parsing.\n",
      "\n",
      "c:\\Users\\vedan\\Desktop\\heart-disease-prediction\\env\\lib\\site-packages\\pandas\\core\\indexes\\datetimes.py:327: UserWarning:\n",
      "\n",
      "Parsing '24-04-2014' in DD/MM/YYYY format. Provide format or specify infer_datetime_format=True for consistent parsing.\n",
      "\n",
      "c:\\Users\\vedan\\Desktop\\heart-disease-prediction\\env\\lib\\site-packages\\pandas\\core\\indexes\\datetimes.py:327: UserWarning:\n",
      "\n",
      "Parsing '25-04-2014' in DD/MM/YYYY format. Provide format or specify infer_datetime_format=True for consistent parsing.\n",
      "\n",
      "c:\\Users\\vedan\\Desktop\\heart-disease-prediction\\env\\lib\\site-packages\\pandas\\core\\indexes\\datetimes.py:327: UserWarning:\n",
      "\n",
      "Parsing '26-04-2014' in DD/MM/YYYY format. Provide format or specify infer_datetime_format=True for consistent parsing.\n",
      "\n",
      "c:\\Users\\vedan\\Desktop\\heart-disease-prediction\\env\\lib\\site-packages\\pandas\\core\\indexes\\datetimes.py:327: UserWarning:\n",
      "\n",
      "Parsing '27-04-2014' in DD/MM/YYYY format. Provide format or specify infer_datetime_format=True for consistent parsing.\n",
      "\n",
      "c:\\Users\\vedan\\Desktop\\heart-disease-prediction\\env\\lib\\site-packages\\pandas\\core\\indexes\\datetimes.py:327: UserWarning:\n",
      "\n",
      "Parsing '28-04-2014' in DD/MM/YYYY format. Provide format or specify infer_datetime_format=True for consistent parsing.\n",
      "\n",
      "c:\\Users\\vedan\\Desktop\\heart-disease-prediction\\env\\lib\\site-packages\\pandas\\core\\indexes\\datetimes.py:327: UserWarning:\n",
      "\n",
      "Parsing '29-04-2014' in DD/MM/YYYY format. Provide format or specify infer_datetime_format=True for consistent parsing.\n",
      "\n",
      "c:\\Users\\vedan\\Desktop\\heart-disease-prediction\\env\\lib\\site-packages\\pandas\\core\\indexes\\datetimes.py:327: UserWarning:\n",
      "\n",
      "Parsing '30-04-2014' in DD/MM/YYYY format. Provide format or specify infer_datetime_format=True for consistent parsing.\n",
      "\n",
      "c:\\Users\\vedan\\Desktop\\heart-disease-prediction\\env\\lib\\site-packages\\pandas\\core\\indexes\\datetimes.py:327: UserWarning:\n",
      "\n",
      "Parsing '13-05-2014' in DD/MM/YYYY format. Provide format or specify infer_datetime_format=True for consistent parsing.\n",
      "\n",
      "c:\\Users\\vedan\\Desktop\\heart-disease-prediction\\env\\lib\\site-packages\\pandas\\core\\indexes\\datetimes.py:327: UserWarning:\n",
      "\n",
      "Parsing '14-05-2014' in DD/MM/YYYY format. Provide format or specify infer_datetime_format=True for consistent parsing.\n",
      "\n",
      "c:\\Users\\vedan\\Desktop\\heart-disease-prediction\\env\\lib\\site-packages\\pandas\\core\\indexes\\datetimes.py:327: UserWarning:\n",
      "\n",
      "Parsing '15-05-2014' in DD/MM/YYYY format. Provide format or specify infer_datetime_format=True for consistent parsing.\n",
      "\n",
      "c:\\Users\\vedan\\Desktop\\heart-disease-prediction\\env\\lib\\site-packages\\pandas\\core\\indexes\\datetimes.py:327: UserWarning:\n",
      "\n",
      "Parsing '18-05-2014' in DD/MM/YYYY format. Provide format or specify infer_datetime_format=True for consistent parsing.\n",
      "\n",
      "c:\\Users\\vedan\\Desktop\\heart-disease-prediction\\env\\lib\\site-packages\\pandas\\core\\indexes\\datetimes.py:327: UserWarning:\n",
      "\n",
      "Parsing '19-05-2014' in DD/MM/YYYY format. Provide format or specify infer_datetime_format=True for consistent parsing.\n",
      "\n",
      "c:\\Users\\vedan\\Desktop\\heart-disease-prediction\\env\\lib\\site-packages\\pandas\\core\\indexes\\datetimes.py:327: UserWarning:\n",
      "\n",
      "Parsing '20-05-2014' in DD/MM/YYYY format. Provide format or specify infer_datetime_format=True for consistent parsing.\n",
      "\n",
      "c:\\Users\\vedan\\Desktop\\heart-disease-prediction\\env\\lib\\site-packages\\pandas\\core\\indexes\\datetimes.py:327: UserWarning:\n",
      "\n",
      "Parsing '21-05-2014' in DD/MM/YYYY format. Provide format or specify infer_datetime_format=True for consistent parsing.\n",
      "\n",
      "c:\\Users\\vedan\\Desktop\\heart-disease-prediction\\env\\lib\\site-packages\\pandas\\core\\indexes\\datetimes.py:327: UserWarning:\n",
      "\n",
      "Parsing '22-05-2014' in DD/MM/YYYY format. Provide format or specify infer_datetime_format=True for consistent parsing.\n",
      "\n",
      "c:\\Users\\vedan\\Desktop\\heart-disease-prediction\\env\\lib\\site-packages\\pandas\\core\\indexes\\datetimes.py:327: UserWarning:\n",
      "\n",
      "Parsing '23-05-2014' in DD/MM/YYYY format. Provide format or specify infer_datetime_format=True for consistent parsing.\n",
      "\n",
      "c:\\Users\\vedan\\Desktop\\heart-disease-prediction\\env\\lib\\site-packages\\pandas\\core\\indexes\\datetimes.py:327: UserWarning:\n",
      "\n",
      "Parsing '24-05-2014' in DD/MM/YYYY format. Provide format or specify infer_datetime_format=True for consistent parsing.\n",
      "\n",
      "c:\\Users\\vedan\\Desktop\\heart-disease-prediction\\env\\lib\\site-packages\\pandas\\core\\indexes\\datetimes.py:327: UserWarning:\n",
      "\n",
      "Parsing '25-05-2014' in DD/MM/YYYY format. Provide format or specify infer_datetime_format=True for consistent parsing.\n",
      "\n",
      "c:\\Users\\vedan\\Desktop\\heart-disease-prediction\\env\\lib\\site-packages\\pandas\\core\\indexes\\datetimes.py:327: UserWarning:\n",
      "\n",
      "Parsing '27-05-2014' in DD/MM/YYYY format. Provide format or specify infer_datetime_format=True for consistent parsing.\n",
      "\n",
      "c:\\Users\\vedan\\Desktop\\heart-disease-prediction\\env\\lib\\site-packages\\pandas\\core\\indexes\\datetimes.py:327: UserWarning:\n",
      "\n",
      "Parsing '28-05-2014' in DD/MM/YYYY format. Provide format or specify infer_datetime_format=True for consistent parsing.\n",
      "\n",
      "c:\\Users\\vedan\\Desktop\\heart-disease-prediction\\env\\lib\\site-packages\\pandas\\core\\indexes\\datetimes.py:327: UserWarning:\n",
      "\n",
      "Parsing '30-05-2014' in DD/MM/YYYY format. Provide format or specify infer_datetime_format=True for consistent parsing.\n",
      "\n",
      "c:\\Users\\vedan\\Desktop\\heart-disease-prediction\\env\\lib\\site-packages\\pandas\\core\\indexes\\datetimes.py:327: UserWarning:\n",
      "\n",
      "Parsing '13-04-2015' in DD/MM/YYYY format. Provide format or specify infer_datetime_format=True for consistent parsing.\n",
      "\n",
      "c:\\Users\\vedan\\Desktop\\heart-disease-prediction\\env\\lib\\site-packages\\pandas\\core\\indexes\\datetimes.py:327: UserWarning:\n",
      "\n",
      "Parsing '14-04-2015' in DD/MM/YYYY format. Provide format or specify infer_datetime_format=True for consistent parsing.\n",
      "\n",
      "c:\\Users\\vedan\\Desktop\\heart-disease-prediction\\env\\lib\\site-packages\\pandas\\core\\indexes\\datetimes.py:327: UserWarning:\n",
      "\n",
      "Parsing '30-04-2015' in DD/MM/YYYY format. Provide format or specify infer_datetime_format=True for consistent parsing.\n",
      "\n",
      "c:\\Users\\vedan\\Desktop\\heart-disease-prediction\\env\\lib\\site-packages\\pandas\\core\\indexes\\datetimes.py:327: UserWarning:\n",
      "\n",
      "Parsing '15-04-2015' in DD/MM/YYYY format. Provide format or specify infer_datetime_format=True for consistent parsing.\n",
      "\n",
      "c:\\Users\\vedan\\Desktop\\heart-disease-prediction\\env\\lib\\site-packages\\pandas\\core\\indexes\\datetimes.py:327: UserWarning:\n",
      "\n",
      "Parsing '16-04-2015' in DD/MM/YYYY format. Provide format or specify infer_datetime_format=True for consistent parsing.\n",
      "\n",
      "c:\\Users\\vedan\\Desktop\\heart-disease-prediction\\env\\lib\\site-packages\\pandas\\core\\indexes\\datetimes.py:327: UserWarning:\n",
      "\n",
      "Parsing '17-04-2015' in DD/MM/YYYY format. Provide format or specify infer_datetime_format=True for consistent parsing.\n",
      "\n",
      "c:\\Users\\vedan\\Desktop\\heart-disease-prediction\\env\\lib\\site-packages\\pandas\\core\\indexes\\datetimes.py:327: UserWarning:\n",
      "\n",
      "Parsing '18-04-2015' in DD/MM/YYYY format. Provide format or specify infer_datetime_format=True for consistent parsing.\n",
      "\n",
      "c:\\Users\\vedan\\Desktop\\heart-disease-prediction\\env\\lib\\site-packages\\pandas\\core\\indexes\\datetimes.py:327: UserWarning:\n",
      "\n",
      "Parsing '19-04-2015' in DD/MM/YYYY format. Provide format or specify infer_datetime_format=True for consistent parsing.\n",
      "\n",
      "c:\\Users\\vedan\\Desktop\\heart-disease-prediction\\env\\lib\\site-packages\\pandas\\core\\indexes\\datetimes.py:327: UserWarning:\n",
      "\n",
      "Parsing '20-04-2015' in DD/MM/YYYY format. Provide format or specify infer_datetime_format=True for consistent parsing.\n",
      "\n",
      "c:\\Users\\vedan\\Desktop\\heart-disease-prediction\\env\\lib\\site-packages\\pandas\\core\\indexes\\datetimes.py:327: UserWarning:\n",
      "\n",
      "Parsing '21-04-2015' in DD/MM/YYYY format. Provide format or specify infer_datetime_format=True for consistent parsing.\n",
      "\n",
      "c:\\Users\\vedan\\Desktop\\heart-disease-prediction\\env\\lib\\site-packages\\pandas\\core\\indexes\\datetimes.py:327: UserWarning:\n",
      "\n",
      "Parsing '22-04-2015' in DD/MM/YYYY format. Provide format or specify infer_datetime_format=True for consistent parsing.\n",
      "\n",
      "c:\\Users\\vedan\\Desktop\\heart-disease-prediction\\env\\lib\\site-packages\\pandas\\core\\indexes\\datetimes.py:327: UserWarning:\n",
      "\n",
      "Parsing '23-04-2015' in DD/MM/YYYY format. Provide format or specify infer_datetime_format=True for consistent parsing.\n",
      "\n",
      "c:\\Users\\vedan\\Desktop\\heart-disease-prediction\\env\\lib\\site-packages\\pandas\\core\\indexes\\datetimes.py:327: UserWarning:\n",
      "\n",
      "Parsing '24-04-2015' in DD/MM/YYYY format. Provide format or specify infer_datetime_format=True for consistent parsing.\n",
      "\n",
      "c:\\Users\\vedan\\Desktop\\heart-disease-prediction\\env\\lib\\site-packages\\pandas\\core\\indexes\\datetimes.py:327: UserWarning:\n",
      "\n",
      "Parsing '25-04-2015' in DD/MM/YYYY format. Provide format or specify infer_datetime_format=True for consistent parsing.\n",
      "\n",
      "c:\\Users\\vedan\\Desktop\\heart-disease-prediction\\env\\lib\\site-packages\\pandas\\core\\indexes\\datetimes.py:327: UserWarning:\n",
      "\n",
      "Parsing '26-04-2015' in DD/MM/YYYY format. Provide format or specify infer_datetime_format=True for consistent parsing.\n",
      "\n",
      "c:\\Users\\vedan\\Desktop\\heart-disease-prediction\\env\\lib\\site-packages\\pandas\\core\\indexes\\datetimes.py:327: UserWarning:\n",
      "\n",
      "Parsing '27-04-2015' in DD/MM/YYYY format. Provide format or specify infer_datetime_format=True for consistent parsing.\n",
      "\n",
      "c:\\Users\\vedan\\Desktop\\heart-disease-prediction\\env\\lib\\site-packages\\pandas\\core\\indexes\\datetimes.py:327: UserWarning:\n",
      "\n",
      "Parsing '29-04-2015' in DD/MM/YYYY format. Provide format or specify infer_datetime_format=True for consistent parsing.\n",
      "\n",
      "c:\\Users\\vedan\\Desktop\\heart-disease-prediction\\env\\lib\\site-packages\\pandas\\core\\indexes\\datetimes.py:327: UserWarning:\n",
      "\n",
      "Parsing '28-04-2015' in DD/MM/YYYY format. Provide format or specify infer_datetime_format=True for consistent parsing.\n",
      "\n",
      "c:\\Users\\vedan\\Desktop\\heart-disease-prediction\\env\\lib\\site-packages\\pandas\\core\\indexes\\datetimes.py:327: UserWarning:\n",
      "\n",
      "Parsing '13-05-2015' in DD/MM/YYYY format. Provide format or specify infer_datetime_format=True for consistent parsing.\n",
      "\n",
      "c:\\Users\\vedan\\Desktop\\heart-disease-prediction\\env\\lib\\site-packages\\pandas\\core\\indexes\\datetimes.py:327: UserWarning:\n",
      "\n",
      "Parsing '14-05-2015' in DD/MM/YYYY format. Provide format or specify infer_datetime_format=True for consistent parsing.\n",
      "\n",
      "c:\\Users\\vedan\\Desktop\\heart-disease-prediction\\env\\lib\\site-packages\\pandas\\core\\indexes\\datetimes.py:327: UserWarning:\n",
      "\n",
      "Parsing '15-05-2015' in DD/MM/YYYY format. Provide format or specify infer_datetime_format=True for consistent parsing.\n",
      "\n",
      "c:\\Users\\vedan\\Desktop\\heart-disease-prediction\\env\\lib\\site-packages\\pandas\\core\\indexes\\datetimes.py:327: UserWarning:\n",
      "\n",
      "Parsing '16-05-2015' in DD/MM/YYYY format. Provide format or specify infer_datetime_format=True for consistent parsing.\n",
      "\n",
      "c:\\Users\\vedan\\Desktop\\heart-disease-prediction\\env\\lib\\site-packages\\pandas\\core\\indexes\\datetimes.py:327: UserWarning:\n",
      "\n",
      "Parsing '17-05-2015' in DD/MM/YYYY format. Provide format or specify infer_datetime_format=True for consistent parsing.\n",
      "\n",
      "c:\\Users\\vedan\\Desktop\\heart-disease-prediction\\env\\lib\\site-packages\\pandas\\core\\indexes\\datetimes.py:327: UserWarning:\n",
      "\n",
      "Parsing '19-05-2015' in DD/MM/YYYY format. Provide format or specify infer_datetime_format=True for consistent parsing.\n",
      "\n",
      "c:\\Users\\vedan\\Desktop\\heart-disease-prediction\\env\\lib\\site-packages\\pandas\\core\\indexes\\datetimes.py:327: UserWarning:\n",
      "\n",
      "Parsing '20-05-2015' in DD/MM/YYYY format. Provide format or specify infer_datetime_format=True for consistent parsing.\n",
      "\n",
      "c:\\Users\\vedan\\Desktop\\heart-disease-prediction\\env\\lib\\site-packages\\pandas\\core\\indexes\\datetimes.py:327: UserWarning:\n",
      "\n",
      "Parsing '22-05-2015' in DD/MM/YYYY format. Provide format or specify infer_datetime_format=True for consistent parsing.\n",
      "\n",
      "c:\\Users\\vedan\\Desktop\\heart-disease-prediction\\env\\lib\\site-packages\\pandas\\core\\indexes\\datetimes.py:327: UserWarning:\n",
      "\n",
      "Parsing '24-05-2015' in DD/MM/YYYY format. Provide format or specify infer_datetime_format=True for consistent parsing.\n",
      "\n",
      "c:\\Users\\vedan\\Desktop\\heart-disease-prediction\\env\\lib\\site-packages\\pandas\\core\\indexes\\datetimes.py:327: UserWarning:\n",
      "\n",
      "Parsing '13-04-2016' in DD/MM/YYYY format. Provide format or specify infer_datetime_format=True for consistent parsing.\n",
      "\n",
      "c:\\Users\\vedan\\Desktop\\heart-disease-prediction\\env\\lib\\site-packages\\pandas\\core\\indexes\\datetimes.py:327: UserWarning:\n",
      "\n",
      "Parsing '14-04-2016' in DD/MM/YYYY format. Provide format or specify infer_datetime_format=True for consistent parsing.\n",
      "\n",
      "c:\\Users\\vedan\\Desktop\\heart-disease-prediction\\env\\lib\\site-packages\\pandas\\core\\indexes\\datetimes.py:327: UserWarning:\n",
      "\n",
      "Parsing '15-04-2016' in DD/MM/YYYY format. Provide format or specify infer_datetime_format=True for consistent parsing.\n",
      "\n",
      "c:\\Users\\vedan\\Desktop\\heart-disease-prediction\\env\\lib\\site-packages\\pandas\\core\\indexes\\datetimes.py:327: UserWarning:\n",
      "\n",
      "Parsing '16-04-2016' in DD/MM/YYYY format. Provide format or specify infer_datetime_format=True for consistent parsing.\n",
      "\n",
      "c:\\Users\\vedan\\Desktop\\heart-disease-prediction\\env\\lib\\site-packages\\pandas\\core\\indexes\\datetimes.py:327: UserWarning:\n",
      "\n",
      "Parsing '17-04-2016' in DD/MM/YYYY format. Provide format or specify infer_datetime_format=True for consistent parsing.\n",
      "\n",
      "c:\\Users\\vedan\\Desktop\\heart-disease-prediction\\env\\lib\\site-packages\\pandas\\core\\indexes\\datetimes.py:327: UserWarning:\n",
      "\n",
      "Parsing '18-04-2016' in DD/MM/YYYY format. Provide format or specify infer_datetime_format=True for consistent parsing.\n",
      "\n",
      "c:\\Users\\vedan\\Desktop\\heart-disease-prediction\\env\\lib\\site-packages\\pandas\\core\\indexes\\datetimes.py:327: UserWarning:\n",
      "\n",
      "Parsing '19-04-2016' in DD/MM/YYYY format. Provide format or specify infer_datetime_format=True for consistent parsing.\n",
      "\n",
      "c:\\Users\\vedan\\Desktop\\heart-disease-prediction\\env\\lib\\site-packages\\pandas\\core\\indexes\\datetimes.py:327: UserWarning:\n",
      "\n",
      "Parsing '20-04-2016' in DD/MM/YYYY format. Provide format or specify infer_datetime_format=True for consistent parsing.\n",
      "\n",
      "c:\\Users\\vedan\\Desktop\\heart-disease-prediction\\env\\lib\\site-packages\\pandas\\core\\indexes\\datetimes.py:327: UserWarning:\n",
      "\n",
      "Parsing '21-04-2016' in DD/MM/YYYY format. Provide format or specify infer_datetime_format=True for consistent parsing.\n",
      "\n",
      "c:\\Users\\vedan\\Desktop\\heart-disease-prediction\\env\\lib\\site-packages\\pandas\\core\\indexes\\datetimes.py:327: UserWarning:\n",
      "\n",
      "Parsing '22-04-2016' in DD/MM/YYYY format. Provide format or specify infer_datetime_format=True for consistent parsing.\n",
      "\n",
      "c:\\Users\\vedan\\Desktop\\heart-disease-prediction\\env\\lib\\site-packages\\pandas\\core\\indexes\\datetimes.py:327: UserWarning:\n",
      "\n",
      "Parsing '23-04-2016' in DD/MM/YYYY format. Provide format or specify infer_datetime_format=True for consistent parsing.\n",
      "\n",
      "c:\\Users\\vedan\\Desktop\\heart-disease-prediction\\env\\lib\\site-packages\\pandas\\core\\indexes\\datetimes.py:327: UserWarning:\n",
      "\n",
      "Parsing '24-04-2016' in DD/MM/YYYY format. Provide format or specify infer_datetime_format=True for consistent parsing.\n",
      "\n",
      "c:\\Users\\vedan\\Desktop\\heart-disease-prediction\\env\\lib\\site-packages\\pandas\\core\\indexes\\datetimes.py:327: UserWarning:\n",
      "\n",
      "Parsing '25-04-2016' in DD/MM/YYYY format. Provide format or specify infer_datetime_format=True for consistent parsing.\n",
      "\n",
      "c:\\Users\\vedan\\Desktop\\heart-disease-prediction\\env\\lib\\site-packages\\pandas\\core\\indexes\\datetimes.py:327: UserWarning:\n",
      "\n",
      "Parsing '26-04-2016' in DD/MM/YYYY format. Provide format or specify infer_datetime_format=True for consistent parsing.\n",
      "\n",
      "c:\\Users\\vedan\\Desktop\\heart-disease-prediction\\env\\lib\\site-packages\\pandas\\core\\indexes\\datetimes.py:327: UserWarning:\n",
      "\n",
      "Parsing '27-04-2016' in DD/MM/YYYY format. Provide format or specify infer_datetime_format=True for consistent parsing.\n",
      "\n",
      "c:\\Users\\vedan\\Desktop\\heart-disease-prediction\\env\\lib\\site-packages\\pandas\\core\\indexes\\datetimes.py:327: UserWarning:\n",
      "\n",
      "Parsing '28-04-2016' in DD/MM/YYYY format. Provide format or specify infer_datetime_format=True for consistent parsing.\n",
      "\n",
      "c:\\Users\\vedan\\Desktop\\heart-disease-prediction\\env\\lib\\site-packages\\pandas\\core\\indexes\\datetimes.py:327: UserWarning:\n",
      "\n",
      "Parsing '29-04-2016' in DD/MM/YYYY format. Provide format or specify infer_datetime_format=True for consistent parsing.\n",
      "\n",
      "c:\\Users\\vedan\\Desktop\\heart-disease-prediction\\env\\lib\\site-packages\\pandas\\core\\indexes\\datetimes.py:327: UserWarning:\n",
      "\n",
      "Parsing '30-04-2016' in DD/MM/YYYY format. Provide format or specify infer_datetime_format=True for consistent parsing.\n",
      "\n",
      "c:\\Users\\vedan\\Desktop\\heart-disease-prediction\\env\\lib\\site-packages\\pandas\\core\\indexes\\datetimes.py:327: UserWarning:\n",
      "\n",
      "Parsing '13-05-2016' in DD/MM/YYYY format. Provide format or specify infer_datetime_format=True for consistent parsing.\n",
      "\n",
      "c:\\Users\\vedan\\Desktop\\heart-disease-prediction\\env\\lib\\site-packages\\pandas\\core\\indexes\\datetimes.py:327: UserWarning:\n",
      "\n",
      "Parsing '14-05-2016' in DD/MM/YYYY format. Provide format or specify infer_datetime_format=True for consistent parsing.\n",
      "\n",
      "c:\\Users\\vedan\\Desktop\\heart-disease-prediction\\env\\lib\\site-packages\\pandas\\core\\indexes\\datetimes.py:327: UserWarning:\n",
      "\n",
      "Parsing '15-05-2016' in DD/MM/YYYY format. Provide format or specify infer_datetime_format=True for consistent parsing.\n",
      "\n",
      "c:\\Users\\vedan\\Desktop\\heart-disease-prediction\\env\\lib\\site-packages\\pandas\\core\\indexes\\datetimes.py:327: UserWarning:\n",
      "\n",
      "Parsing '16-05-2016' in DD/MM/YYYY format. Provide format or specify infer_datetime_format=True for consistent parsing.\n",
      "\n",
      "c:\\Users\\vedan\\Desktop\\heart-disease-prediction\\env\\lib\\site-packages\\pandas\\core\\indexes\\datetimes.py:327: UserWarning:\n",
      "\n",
      "Parsing '17-05-2016' in DD/MM/YYYY format. Provide format or specify infer_datetime_format=True for consistent parsing.\n",
      "\n",
      "c:\\Users\\vedan\\Desktop\\heart-disease-prediction\\env\\lib\\site-packages\\pandas\\core\\indexes\\datetimes.py:327: UserWarning:\n",
      "\n",
      "Parsing '18-05-2016' in DD/MM/YYYY format. Provide format or specify infer_datetime_format=True for consistent parsing.\n",
      "\n",
      "c:\\Users\\vedan\\Desktop\\heart-disease-prediction\\env\\lib\\site-packages\\pandas\\core\\indexes\\datetimes.py:327: UserWarning:\n",
      "\n",
      "Parsing '19-05-2016' in DD/MM/YYYY format. Provide format or specify infer_datetime_format=True for consistent parsing.\n",
      "\n",
      "c:\\Users\\vedan\\Desktop\\heart-disease-prediction\\env\\lib\\site-packages\\pandas\\core\\indexes\\datetimes.py:327: UserWarning:\n",
      "\n",
      "Parsing '20-05-2016' in DD/MM/YYYY format. Provide format or specify infer_datetime_format=True for consistent parsing.\n",
      "\n",
      "c:\\Users\\vedan\\Desktop\\heart-disease-prediction\\env\\lib\\site-packages\\pandas\\core\\indexes\\datetimes.py:327: UserWarning:\n",
      "\n",
      "Parsing '21-05-2016' in DD/MM/YYYY format. Provide format or specify infer_datetime_format=True for consistent parsing.\n",
      "\n",
      "c:\\Users\\vedan\\Desktop\\heart-disease-prediction\\env\\lib\\site-packages\\pandas\\core\\indexes\\datetimes.py:327: UserWarning:\n",
      "\n",
      "Parsing '22-05-2016' in DD/MM/YYYY format. Provide format or specify infer_datetime_format=True for consistent parsing.\n",
      "\n",
      "c:\\Users\\vedan\\Desktop\\heart-disease-prediction\\env\\lib\\site-packages\\pandas\\core\\indexes\\datetimes.py:327: UserWarning:\n",
      "\n",
      "Parsing '24-05-2016' in DD/MM/YYYY format. Provide format or specify infer_datetime_format=True for consistent parsing.\n",
      "\n",
      "c:\\Users\\vedan\\Desktop\\heart-disease-prediction\\env\\lib\\site-packages\\pandas\\core\\indexes\\datetimes.py:327: UserWarning:\n",
      "\n",
      "Parsing '25-05-2016' in DD/MM/YYYY format. Provide format or specify infer_datetime_format=True for consistent parsing.\n",
      "\n",
      "c:\\Users\\vedan\\Desktop\\heart-disease-prediction\\env\\lib\\site-packages\\pandas\\core\\indexes\\datetimes.py:327: UserWarning:\n",
      "\n",
      "Parsing '27-05-2016' in DD/MM/YYYY format. Provide format or specify infer_datetime_format=True for consistent parsing.\n",
      "\n",
      "c:\\Users\\vedan\\Desktop\\heart-disease-prediction\\env\\lib\\site-packages\\pandas\\core\\indexes\\datetimes.py:327: UserWarning:\n",
      "\n",
      "Parsing '29-05-2016' in DD/MM/YYYY format. Provide format or specify infer_datetime_format=True for consistent parsing.\n",
      "\n",
      "c:\\Users\\vedan\\Desktop\\heart-disease-prediction\\env\\lib\\site-packages\\pandas\\core\\indexes\\datetimes.py:327: UserWarning:\n",
      "\n",
      "Parsing '13-04-2017' in DD/MM/YYYY format. Provide format or specify infer_datetime_format=True for consistent parsing.\n",
      "\n",
      "c:\\Users\\vedan\\Desktop\\heart-disease-prediction\\env\\lib\\site-packages\\pandas\\core\\indexes\\datetimes.py:327: UserWarning:\n",
      "\n",
      "Parsing '14-04-2017' in DD/MM/YYYY format. Provide format or specify infer_datetime_format=True for consistent parsing.\n",
      "\n",
      "c:\\Users\\vedan\\Desktop\\heart-disease-prediction\\env\\lib\\site-packages\\pandas\\core\\indexes\\datetimes.py:327: UserWarning:\n",
      "\n",
      "Parsing '15-04-2017' in DD/MM/YYYY format. Provide format or specify infer_datetime_format=True for consistent parsing.\n",
      "\n",
      "c:\\Users\\vedan\\Desktop\\heart-disease-prediction\\env\\lib\\site-packages\\pandas\\core\\indexes\\datetimes.py:327: UserWarning:\n",
      "\n",
      "Parsing '16-04-2017' in DD/MM/YYYY format. Provide format or specify infer_datetime_format=True for consistent parsing.\n",
      "\n",
      "c:\\Users\\vedan\\Desktop\\heart-disease-prediction\\env\\lib\\site-packages\\pandas\\core\\indexes\\datetimes.py:327: UserWarning:\n",
      "\n",
      "Parsing '17-04-2017' in DD/MM/YYYY format. Provide format or specify infer_datetime_format=True for consistent parsing.\n",
      "\n",
      "c:\\Users\\vedan\\Desktop\\heart-disease-prediction\\env\\lib\\site-packages\\pandas\\core\\indexes\\datetimes.py:327: UserWarning:\n",
      "\n",
      "Parsing '18-04-2017' in DD/MM/YYYY format. Provide format or specify infer_datetime_format=True for consistent parsing.\n",
      "\n",
      "c:\\Users\\vedan\\Desktop\\heart-disease-prediction\\env\\lib\\site-packages\\pandas\\core\\indexes\\datetimes.py:327: UserWarning:\n",
      "\n",
      "Parsing '19-04-2017' in DD/MM/YYYY format. Provide format or specify infer_datetime_format=True for consistent parsing.\n",
      "\n",
      "c:\\Users\\vedan\\Desktop\\heart-disease-prediction\\env\\lib\\site-packages\\pandas\\core\\indexes\\datetimes.py:327: UserWarning:\n",
      "\n",
      "Parsing '20-04-2017' in DD/MM/YYYY format. Provide format or specify infer_datetime_format=True for consistent parsing.\n",
      "\n",
      "c:\\Users\\vedan\\Desktop\\heart-disease-prediction\\env\\lib\\site-packages\\pandas\\core\\indexes\\datetimes.py:327: UserWarning:\n",
      "\n",
      "Parsing '21-04-2017' in DD/MM/YYYY format. Provide format or specify infer_datetime_format=True for consistent parsing.\n",
      "\n",
      "c:\\Users\\vedan\\Desktop\\heart-disease-prediction\\env\\lib\\site-packages\\pandas\\core\\indexes\\datetimes.py:327: UserWarning:\n",
      "\n",
      "Parsing '22-04-2017' in DD/MM/YYYY format. Provide format or specify infer_datetime_format=True for consistent parsing.\n",
      "\n",
      "c:\\Users\\vedan\\Desktop\\heart-disease-prediction\\env\\lib\\site-packages\\pandas\\core\\indexes\\datetimes.py:327: UserWarning:\n",
      "\n",
      "Parsing '23-04-2017' in DD/MM/YYYY format. Provide format or specify infer_datetime_format=True for consistent parsing.\n",
      "\n",
      "c:\\Users\\vedan\\Desktop\\heart-disease-prediction\\env\\lib\\site-packages\\pandas\\core\\indexes\\datetimes.py:327: UserWarning:\n",
      "\n",
      "Parsing '24-04-2017' in DD/MM/YYYY format. Provide format or specify infer_datetime_format=True for consistent parsing.\n",
      "\n",
      "c:\\Users\\vedan\\Desktop\\heart-disease-prediction\\env\\lib\\site-packages\\pandas\\core\\indexes\\datetimes.py:327: UserWarning:\n",
      "\n",
      "Parsing '26-04-2017' in DD/MM/YYYY format. Provide format or specify infer_datetime_format=True for consistent parsing.\n",
      "\n",
      "c:\\Users\\vedan\\Desktop\\heart-disease-prediction\\env\\lib\\site-packages\\pandas\\core\\indexes\\datetimes.py:327: UserWarning:\n",
      "\n",
      "Parsing '27-04-2017' in DD/MM/YYYY format. Provide format or specify infer_datetime_format=True for consistent parsing.\n",
      "\n",
      "c:\\Users\\vedan\\Desktop\\heart-disease-prediction\\env\\lib\\site-packages\\pandas\\core\\indexes\\datetimes.py:327: UserWarning:\n",
      "\n",
      "Parsing '28-04-2017' in DD/MM/YYYY format. Provide format or specify infer_datetime_format=True for consistent parsing.\n",
      "\n",
      "c:\\Users\\vedan\\Desktop\\heart-disease-prediction\\env\\lib\\site-packages\\pandas\\core\\indexes\\datetimes.py:327: UserWarning:\n",
      "\n",
      "Parsing '29-04-2017' in DD/MM/YYYY format. Provide format or specify infer_datetime_format=True for consistent parsing.\n",
      "\n",
      "c:\\Users\\vedan\\Desktop\\heart-disease-prediction\\env\\lib\\site-packages\\pandas\\core\\indexes\\datetimes.py:327: UserWarning:\n",
      "\n",
      "Parsing '30-04-2017' in DD/MM/YYYY format. Provide format or specify infer_datetime_format=True for consistent parsing.\n",
      "\n",
      "c:\\Users\\vedan\\Desktop\\heart-disease-prediction\\env\\lib\\site-packages\\pandas\\core\\indexes\\datetimes.py:327: UserWarning:\n",
      "\n",
      "Parsing '13-05-2017' in DD/MM/YYYY format. Provide format or specify infer_datetime_format=True for consistent parsing.\n",
      "\n",
      "c:\\Users\\vedan\\Desktop\\heart-disease-prediction\\env\\lib\\site-packages\\pandas\\core\\indexes\\datetimes.py:327: UserWarning:\n",
      "\n",
      "Parsing '14-05-2017' in DD/MM/YYYY format. Provide format or specify infer_datetime_format=True for consistent parsing.\n",
      "\n",
      "c:\\Users\\vedan\\Desktop\\heart-disease-prediction\\env\\lib\\site-packages\\pandas\\core\\indexes\\datetimes.py:327: UserWarning:\n",
      "\n",
      "Parsing '16-05-2017' in DD/MM/YYYY format. Provide format or specify infer_datetime_format=True for consistent parsing.\n",
      "\n",
      "c:\\Users\\vedan\\Desktop\\heart-disease-prediction\\env\\lib\\site-packages\\pandas\\core\\indexes\\datetimes.py:327: UserWarning:\n",
      "\n",
      "Parsing '17-05-2017' in DD/MM/YYYY format. Provide format or specify infer_datetime_format=True for consistent parsing.\n",
      "\n",
      "c:\\Users\\vedan\\Desktop\\heart-disease-prediction\\env\\lib\\site-packages\\pandas\\core\\indexes\\datetimes.py:327: UserWarning:\n",
      "\n",
      "Parsing '19-05-2017' in DD/MM/YYYY format. Provide format or specify infer_datetime_format=True for consistent parsing.\n",
      "\n",
      "c:\\Users\\vedan\\Desktop\\heart-disease-prediction\\env\\lib\\site-packages\\pandas\\core\\indexes\\datetimes.py:327: UserWarning:\n",
      "\n",
      "Parsing '21-05-2017' in DD/MM/YYYY format. Provide format or specify infer_datetime_format=True for consistent parsing.\n",
      "\n",
      "c:\\Users\\vedan\\Desktop\\heart-disease-prediction\\env\\lib\\site-packages\\pandas\\core\\indexes\\datetimes.py:327: UserWarning:\n",
      "\n",
      "Parsing '13-04-2018' in DD/MM/YYYY format. Provide format or specify infer_datetime_format=True for consistent parsing.\n",
      "\n",
      "c:\\Users\\vedan\\Desktop\\heart-disease-prediction\\env\\lib\\site-packages\\pandas\\core\\indexes\\datetimes.py:327: UserWarning:\n",
      "\n",
      "Parsing '14-04-2018' in DD/MM/YYYY format. Provide format or specify infer_datetime_format=True for consistent parsing.\n",
      "\n",
      "c:\\Users\\vedan\\Desktop\\heart-disease-prediction\\env\\lib\\site-packages\\pandas\\core\\indexes\\datetimes.py:327: UserWarning:\n",
      "\n",
      "Parsing '15-04-2018' in DD/MM/YYYY format. Provide format or specify infer_datetime_format=True for consistent parsing.\n",
      "\n",
      "c:\\Users\\vedan\\Desktop\\heart-disease-prediction\\env\\lib\\site-packages\\pandas\\core\\indexes\\datetimes.py:327: UserWarning:\n",
      "\n",
      "Parsing '16-04-2018' in DD/MM/YYYY format. Provide format or specify infer_datetime_format=True for consistent parsing.\n",
      "\n",
      "c:\\Users\\vedan\\Desktop\\heart-disease-prediction\\env\\lib\\site-packages\\pandas\\core\\indexes\\datetimes.py:327: UserWarning:\n",
      "\n",
      "Parsing '17-04-2018' in DD/MM/YYYY format. Provide format or specify infer_datetime_format=True for consistent parsing.\n",
      "\n",
      "c:\\Users\\vedan\\Desktop\\heart-disease-prediction\\env\\lib\\site-packages\\pandas\\core\\indexes\\datetimes.py:327: UserWarning:\n",
      "\n",
      "Parsing '18-04-2018' in DD/MM/YYYY format. Provide format or specify infer_datetime_format=True for consistent parsing.\n",
      "\n",
      "c:\\Users\\vedan\\Desktop\\heart-disease-prediction\\env\\lib\\site-packages\\pandas\\core\\indexes\\datetimes.py:327: UserWarning:\n",
      "\n",
      "Parsing '19-04-2018' in DD/MM/YYYY format. Provide format or specify infer_datetime_format=True for consistent parsing.\n",
      "\n",
      "c:\\Users\\vedan\\Desktop\\heart-disease-prediction\\env\\lib\\site-packages\\pandas\\core\\indexes\\datetimes.py:327: UserWarning:\n",
      "\n",
      "Parsing '20-04-2018' in DD/MM/YYYY format. Provide format or specify infer_datetime_format=True for consistent parsing.\n",
      "\n",
      "c:\\Users\\vedan\\Desktop\\heart-disease-prediction\\env\\lib\\site-packages\\pandas\\core\\indexes\\datetimes.py:327: UserWarning:\n",
      "\n",
      "Parsing '21-04-2018' in DD/MM/YYYY format. Provide format or specify infer_datetime_format=True for consistent parsing.\n",
      "\n",
      "c:\\Users\\vedan\\Desktop\\heart-disease-prediction\\env\\lib\\site-packages\\pandas\\core\\indexes\\datetimes.py:327: UserWarning:\n",
      "\n",
      "Parsing '22-04-2018' in DD/MM/YYYY format. Provide format or specify infer_datetime_format=True for consistent parsing.\n",
      "\n",
      "c:\\Users\\vedan\\Desktop\\heart-disease-prediction\\env\\lib\\site-packages\\pandas\\core\\indexes\\datetimes.py:327: UserWarning:\n",
      "\n",
      "Parsing '23-04-2018' in DD/MM/YYYY format. Provide format or specify infer_datetime_format=True for consistent parsing.\n",
      "\n",
      "c:\\Users\\vedan\\Desktop\\heart-disease-prediction\\env\\lib\\site-packages\\pandas\\core\\indexes\\datetimes.py:327: UserWarning:\n",
      "\n",
      "Parsing '24-04-2018' in DD/MM/YYYY format. Provide format or specify infer_datetime_format=True for consistent parsing.\n",
      "\n",
      "c:\\Users\\vedan\\Desktop\\heart-disease-prediction\\env\\lib\\site-packages\\pandas\\core\\indexes\\datetimes.py:327: UserWarning:\n",
      "\n",
      "Parsing '25-04-2018' in DD/MM/YYYY format. Provide format or specify infer_datetime_format=True for consistent parsing.\n",
      "\n",
      "c:\\Users\\vedan\\Desktop\\heart-disease-prediction\\env\\lib\\site-packages\\pandas\\core\\indexes\\datetimes.py:327: UserWarning:\n",
      "\n",
      "Parsing '26-04-2018' in DD/MM/YYYY format. Provide format or specify infer_datetime_format=True for consistent parsing.\n",
      "\n",
      "c:\\Users\\vedan\\Desktop\\heart-disease-prediction\\env\\lib\\site-packages\\pandas\\core\\indexes\\datetimes.py:327: UserWarning:\n",
      "\n",
      "Parsing '27-04-2018' in DD/MM/YYYY format. Provide format or specify infer_datetime_format=True for consistent parsing.\n",
      "\n",
      "c:\\Users\\vedan\\Desktop\\heart-disease-prediction\\env\\lib\\site-packages\\pandas\\core\\indexes\\datetimes.py:327: UserWarning:\n",
      "\n",
      "Parsing '28-04-2018' in DD/MM/YYYY format. Provide format or specify infer_datetime_format=True for consistent parsing.\n",
      "\n",
      "c:\\Users\\vedan\\Desktop\\heart-disease-prediction\\env\\lib\\site-packages\\pandas\\core\\indexes\\datetimes.py:327: UserWarning:\n",
      "\n",
      "Parsing '29-04-2018' in DD/MM/YYYY format. Provide format or specify infer_datetime_format=True for consistent parsing.\n",
      "\n",
      "c:\\Users\\vedan\\Desktop\\heart-disease-prediction\\env\\lib\\site-packages\\pandas\\core\\indexes\\datetimes.py:327: UserWarning:\n",
      "\n",
      "Parsing '30-04-2018' in DD/MM/YYYY format. Provide format or specify infer_datetime_format=True for consistent parsing.\n",
      "\n",
      "c:\\Users\\vedan\\Desktop\\heart-disease-prediction\\env\\lib\\site-packages\\pandas\\core\\indexes\\datetimes.py:327: UserWarning:\n",
      "\n",
      "Parsing '13-05-2018' in DD/MM/YYYY format. Provide format or specify infer_datetime_format=True for consistent parsing.\n",
      "\n",
      "c:\\Users\\vedan\\Desktop\\heart-disease-prediction\\env\\lib\\site-packages\\pandas\\core\\indexes\\datetimes.py:327: UserWarning:\n",
      "\n",
      "Parsing '14-05-2018' in DD/MM/YYYY format. Provide format or specify infer_datetime_format=True for consistent parsing.\n",
      "\n",
      "c:\\Users\\vedan\\Desktop\\heart-disease-prediction\\env\\lib\\site-packages\\pandas\\core\\indexes\\datetimes.py:327: UserWarning:\n",
      "\n",
      "Parsing '15-05-2018' in DD/MM/YYYY format. Provide format or specify infer_datetime_format=True for consistent parsing.\n",
      "\n",
      "c:\\Users\\vedan\\Desktop\\heart-disease-prediction\\env\\lib\\site-packages\\pandas\\core\\indexes\\datetimes.py:327: UserWarning:\n",
      "\n",
      "Parsing '16-05-2018' in DD/MM/YYYY format. Provide format or specify infer_datetime_format=True for consistent parsing.\n",
      "\n",
      "c:\\Users\\vedan\\Desktop\\heart-disease-prediction\\env\\lib\\site-packages\\pandas\\core\\indexes\\datetimes.py:327: UserWarning:\n",
      "\n",
      "Parsing '17-05-2018' in DD/MM/YYYY format. Provide format or specify infer_datetime_format=True for consistent parsing.\n",
      "\n",
      "c:\\Users\\vedan\\Desktop\\heart-disease-prediction\\env\\lib\\site-packages\\pandas\\core\\indexes\\datetimes.py:327: UserWarning:\n",
      "\n",
      "Parsing '18-05-2018' in DD/MM/YYYY format. Provide format or specify infer_datetime_format=True for consistent parsing.\n",
      "\n",
      "c:\\Users\\vedan\\Desktop\\heart-disease-prediction\\env\\lib\\site-packages\\pandas\\core\\indexes\\datetimes.py:327: UserWarning:\n",
      "\n",
      "Parsing '19-05-2018' in DD/MM/YYYY format. Provide format or specify infer_datetime_format=True for consistent parsing.\n",
      "\n",
      "c:\\Users\\vedan\\Desktop\\heart-disease-prediction\\env\\lib\\site-packages\\pandas\\core\\indexes\\datetimes.py:327: UserWarning:\n",
      "\n",
      "Parsing '20-05-2018' in DD/MM/YYYY format. Provide format or specify infer_datetime_format=True for consistent parsing.\n",
      "\n",
      "c:\\Users\\vedan\\Desktop\\heart-disease-prediction\\env\\lib\\site-packages\\pandas\\core\\indexes\\datetimes.py:327: UserWarning:\n",
      "\n",
      "Parsing '22-05-2018' in DD/MM/YYYY format. Provide format or specify infer_datetime_format=True for consistent parsing.\n",
      "\n",
      "c:\\Users\\vedan\\Desktop\\heart-disease-prediction\\env\\lib\\site-packages\\pandas\\core\\indexes\\datetimes.py:327: UserWarning:\n",
      "\n",
      "Parsing '23-05-2018' in DD/MM/YYYY format. Provide format or specify infer_datetime_format=True for consistent parsing.\n",
      "\n",
      "c:\\Users\\vedan\\Desktop\\heart-disease-prediction\\env\\lib\\site-packages\\pandas\\core\\indexes\\datetimes.py:327: UserWarning:\n",
      "\n",
      "Parsing '25-05-2018' in DD/MM/YYYY format. Provide format or specify infer_datetime_format=True for consistent parsing.\n",
      "\n",
      "c:\\Users\\vedan\\Desktop\\heart-disease-prediction\\env\\lib\\site-packages\\pandas\\core\\indexes\\datetimes.py:327: UserWarning:\n",
      "\n",
      "Parsing '27-05-2018' in DD/MM/YYYY format. Provide format or specify infer_datetime_format=True for consistent parsing.\n",
      "\n",
      "c:\\Users\\vedan\\Desktop\\heart-disease-prediction\\env\\lib\\site-packages\\pandas\\core\\indexes\\datetimes.py:327: UserWarning:\n",
      "\n",
      "Parsing '23-03-2019' in DD/MM/YYYY format. Provide format or specify infer_datetime_format=True for consistent parsing.\n",
      "\n",
      "c:\\Users\\vedan\\Desktop\\heart-disease-prediction\\env\\lib\\site-packages\\pandas\\core\\indexes\\datetimes.py:327: UserWarning:\n",
      "\n",
      "Parsing '24-03-2019' in DD/MM/YYYY format. Provide format or specify infer_datetime_format=True for consistent parsing.\n",
      "\n",
      "c:\\Users\\vedan\\Desktop\\heart-disease-prediction\\env\\lib\\site-packages\\pandas\\core\\indexes\\datetimes.py:327: UserWarning:\n",
      "\n",
      "Parsing '25-03-2019' in DD/MM/YYYY format. Provide format or specify infer_datetime_format=True for consistent parsing.\n",
      "\n",
      "c:\\Users\\vedan\\Desktop\\heart-disease-prediction\\env\\lib\\site-packages\\pandas\\core\\indexes\\datetimes.py:327: UserWarning:\n",
      "\n",
      "Parsing '26-03-2019' in DD/MM/YYYY format. Provide format or specify infer_datetime_format=True for consistent parsing.\n",
      "\n",
      "c:\\Users\\vedan\\Desktop\\heart-disease-prediction\\env\\lib\\site-packages\\pandas\\core\\indexes\\datetimes.py:327: UserWarning:\n",
      "\n",
      "Parsing '27-03-2019' in DD/MM/YYYY format. Provide format or specify infer_datetime_format=True for consistent parsing.\n",
      "\n",
      "c:\\Users\\vedan\\Desktop\\heart-disease-prediction\\env\\lib\\site-packages\\pandas\\core\\indexes\\datetimes.py:327: UserWarning:\n",
      "\n",
      "Parsing '28-03-2019' in DD/MM/YYYY format. Provide format or specify infer_datetime_format=True for consistent parsing.\n",
      "\n",
      "c:\\Users\\vedan\\Desktop\\heart-disease-prediction\\env\\lib\\site-packages\\pandas\\core\\indexes\\datetimes.py:327: UserWarning:\n",
      "\n",
      "Parsing '29-03-2019' in DD/MM/YYYY format. Provide format or specify infer_datetime_format=True for consistent parsing.\n",
      "\n",
      "c:\\Users\\vedan\\Desktop\\heart-disease-prediction\\env\\lib\\site-packages\\pandas\\core\\indexes\\datetimes.py:327: UserWarning:\n",
      "\n",
      "Parsing '30-03-2019' in DD/MM/YYYY format. Provide format or specify infer_datetime_format=True for consistent parsing.\n",
      "\n",
      "c:\\Users\\vedan\\Desktop\\heart-disease-prediction\\env\\lib\\site-packages\\pandas\\core\\indexes\\datetimes.py:327: UserWarning:\n",
      "\n",
      "Parsing '31-03-2019' in DD/MM/YYYY format. Provide format or specify infer_datetime_format=True for consistent parsing.\n",
      "\n",
      "c:\\Users\\vedan\\Desktop\\heart-disease-prediction\\env\\lib\\site-packages\\pandas\\core\\indexes\\datetimes.py:327: UserWarning:\n",
      "\n",
      "Parsing '13-04-2019' in DD/MM/YYYY format. Provide format or specify infer_datetime_format=True for consistent parsing.\n",
      "\n",
      "c:\\Users\\vedan\\Desktop\\heart-disease-prediction\\env\\lib\\site-packages\\pandas\\core\\indexes\\datetimes.py:327: UserWarning:\n",
      "\n",
      "Parsing '14-04-2019' in DD/MM/YYYY format. Provide format or specify infer_datetime_format=True for consistent parsing.\n",
      "\n",
      "c:\\Users\\vedan\\Desktop\\heart-disease-prediction\\env\\lib\\site-packages\\pandas\\core\\indexes\\datetimes.py:327: UserWarning:\n",
      "\n",
      "Parsing '15-04-2019' in DD/MM/YYYY format. Provide format or specify infer_datetime_format=True for consistent parsing.\n",
      "\n",
      "c:\\Users\\vedan\\Desktop\\heart-disease-prediction\\env\\lib\\site-packages\\pandas\\core\\indexes\\datetimes.py:327: UserWarning:\n",
      "\n",
      "Parsing '16-04-2019' in DD/MM/YYYY format. Provide format or specify infer_datetime_format=True for consistent parsing.\n",
      "\n",
      "c:\\Users\\vedan\\Desktop\\heart-disease-prediction\\env\\lib\\site-packages\\pandas\\core\\indexes\\datetimes.py:327: UserWarning:\n",
      "\n",
      "Parsing '17-04-2019' in DD/MM/YYYY format. Provide format or specify infer_datetime_format=True for consistent parsing.\n",
      "\n",
      "c:\\Users\\vedan\\Desktop\\heart-disease-prediction\\env\\lib\\site-packages\\pandas\\core\\indexes\\datetimes.py:327: UserWarning:\n",
      "\n",
      "Parsing '18-04-2019' in DD/MM/YYYY format. Provide format or specify infer_datetime_format=True for consistent parsing.\n",
      "\n",
      "c:\\Users\\vedan\\Desktop\\heart-disease-prediction\\env\\lib\\site-packages\\pandas\\core\\indexes\\datetimes.py:327: UserWarning:\n",
      "\n",
      "Parsing '19-04-2019' in DD/MM/YYYY format. Provide format or specify infer_datetime_format=True for consistent parsing.\n",
      "\n",
      "c:\\Users\\vedan\\Desktop\\heart-disease-prediction\\env\\lib\\site-packages\\pandas\\core\\indexes\\datetimes.py:327: UserWarning:\n",
      "\n",
      "Parsing '20-04-2019' in DD/MM/YYYY format. Provide format or specify infer_datetime_format=True for consistent parsing.\n",
      "\n",
      "c:\\Users\\vedan\\Desktop\\heart-disease-prediction\\env\\lib\\site-packages\\pandas\\core\\indexes\\datetimes.py:327: UserWarning:\n",
      "\n",
      "Parsing '21-04-2019' in DD/MM/YYYY format. Provide format or specify infer_datetime_format=True for consistent parsing.\n",
      "\n",
      "c:\\Users\\vedan\\Desktop\\heart-disease-prediction\\env\\lib\\site-packages\\pandas\\core\\indexes\\datetimes.py:327: UserWarning:\n",
      "\n",
      "Parsing '22-04-2019' in DD/MM/YYYY format. Provide format or specify infer_datetime_format=True for consistent parsing.\n",
      "\n",
      "c:\\Users\\vedan\\Desktop\\heart-disease-prediction\\env\\lib\\site-packages\\pandas\\core\\indexes\\datetimes.py:327: UserWarning:\n",
      "\n",
      "Parsing '23-04-2019' in DD/MM/YYYY format. Provide format or specify infer_datetime_format=True for consistent parsing.\n",
      "\n",
      "c:\\Users\\vedan\\Desktop\\heart-disease-prediction\\env\\lib\\site-packages\\pandas\\core\\indexes\\datetimes.py:327: UserWarning:\n",
      "\n",
      "Parsing '24-04-2019' in DD/MM/YYYY format. Provide format or specify infer_datetime_format=True for consistent parsing.\n",
      "\n",
      "c:\\Users\\vedan\\Desktop\\heart-disease-prediction\\env\\lib\\site-packages\\pandas\\core\\indexes\\datetimes.py:327: UserWarning:\n",
      "\n",
      "Parsing '25-04-2019' in DD/MM/YYYY format. Provide format or specify infer_datetime_format=True for consistent parsing.\n",
      "\n",
      "c:\\Users\\vedan\\Desktop\\heart-disease-prediction\\env\\lib\\site-packages\\pandas\\core\\indexes\\datetimes.py:327: UserWarning:\n",
      "\n",
      "Parsing '26-04-2019' in DD/MM/YYYY format. Provide format or specify infer_datetime_format=True for consistent parsing.\n",
      "\n",
      "c:\\Users\\vedan\\Desktop\\heart-disease-prediction\\env\\lib\\site-packages\\pandas\\core\\indexes\\datetimes.py:327: UserWarning:\n",
      "\n",
      "Parsing '27-04-2019' in DD/MM/YYYY format. Provide format or specify infer_datetime_format=True for consistent parsing.\n",
      "\n",
      "c:\\Users\\vedan\\Desktop\\heart-disease-prediction\\env\\lib\\site-packages\\pandas\\core\\indexes\\datetimes.py:327: UserWarning:\n",
      "\n",
      "Parsing '28-04-2019' in DD/MM/YYYY format. Provide format or specify infer_datetime_format=True for consistent parsing.\n",
      "\n",
      "c:\\Users\\vedan\\Desktop\\heart-disease-prediction\\env\\lib\\site-packages\\pandas\\core\\indexes\\datetimes.py:327: UserWarning:\n",
      "\n",
      "Parsing '29-04-2019' in DD/MM/YYYY format. Provide format or specify infer_datetime_format=True for consistent parsing.\n",
      "\n",
      "c:\\Users\\vedan\\Desktop\\heart-disease-prediction\\env\\lib\\site-packages\\pandas\\core\\indexes\\datetimes.py:327: UserWarning:\n",
      "\n",
      "Parsing '30-04-2019' in DD/MM/YYYY format. Provide format or specify infer_datetime_format=True for consistent parsing.\n",
      "\n",
      "c:\\Users\\vedan\\Desktop\\heart-disease-prediction\\env\\lib\\site-packages\\pandas\\core\\indexes\\datetimes.py:327: UserWarning:\n",
      "\n",
      "Parsing '19-09-2020' in DD/MM/YYYY format. Provide format or specify infer_datetime_format=True for consistent parsing.\n",
      "\n",
      "c:\\Users\\vedan\\Desktop\\heart-disease-prediction\\env\\lib\\site-packages\\pandas\\core\\indexes\\datetimes.py:327: UserWarning:\n",
      "\n",
      "Parsing '20-09-2020' in DD/MM/YYYY format. Provide format or specify infer_datetime_format=True for consistent parsing.\n",
      "\n",
      "c:\\Users\\vedan\\Desktop\\heart-disease-prediction\\env\\lib\\site-packages\\pandas\\core\\indexes\\datetimes.py:327: UserWarning:\n",
      "\n",
      "Parsing '21-10-2020' in DD/MM/YYYY format. Provide format or specify infer_datetime_format=True for consistent parsing.\n",
      "\n",
      "c:\\Users\\vedan\\Desktop\\heart-disease-prediction\\env\\lib\\site-packages\\pandas\\core\\indexes\\datetimes.py:327: UserWarning:\n",
      "\n",
      "Parsing '22-09-2020' in DD/MM/YYYY format. Provide format or specify infer_datetime_format=True for consistent parsing.\n",
      "\n",
      "c:\\Users\\vedan\\Desktop\\heart-disease-prediction\\env\\lib\\site-packages\\pandas\\core\\indexes\\datetimes.py:327: UserWarning:\n",
      "\n",
      "Parsing '24-10-2020' in DD/MM/YYYY format. Provide format or specify infer_datetime_format=True for consistent parsing.\n",
      "\n",
      "c:\\Users\\vedan\\Desktop\\heart-disease-prediction\\env\\lib\\site-packages\\pandas\\core\\indexes\\datetimes.py:327: UserWarning:\n",
      "\n",
      "Parsing '28-10-2020' in DD/MM/YYYY format. Provide format or specify infer_datetime_format=True for consistent parsing.\n",
      "\n",
      "c:\\Users\\vedan\\Desktop\\heart-disease-prediction\\env\\lib\\site-packages\\pandas\\core\\indexes\\datetimes.py:327: UserWarning:\n",
      "\n",
      "Parsing '31-10-2020' in DD/MM/YYYY format. Provide format or specify infer_datetime_format=True for consistent parsing.\n",
      "\n",
      "c:\\Users\\vedan\\Desktop\\heart-disease-prediction\\env\\lib\\site-packages\\pandas\\core\\indexes\\datetimes.py:327: UserWarning:\n",
      "\n",
      "Parsing '30-09-2020' in DD/MM/YYYY format. Provide format or specify infer_datetime_format=True for consistent parsing.\n",
      "\n",
      "c:\\Users\\vedan\\Desktop\\heart-disease-prediction\\env\\lib\\site-packages\\pandas\\core\\indexes\\datetimes.py:327: UserWarning:\n",
      "\n",
      "Parsing '23-09-2020' in DD/MM/YYYY format. Provide format or specify infer_datetime_format=True for consistent parsing.\n",
      "\n",
      "c:\\Users\\vedan\\Desktop\\heart-disease-prediction\\env\\lib\\site-packages\\pandas\\core\\indexes\\datetimes.py:327: UserWarning:\n",
      "\n",
      "Parsing '17-10-2020' in DD/MM/YYYY format. Provide format or specify infer_datetime_format=True for consistent parsing.\n",
      "\n",
      "c:\\Users\\vedan\\Desktop\\heart-disease-prediction\\env\\lib\\site-packages\\pandas\\core\\indexes\\datetimes.py:327: UserWarning:\n",
      "\n",
      "Parsing '24-09-2020' in DD/MM/YYYY format. Provide format or specify infer_datetime_format=True for consistent parsing.\n",
      "\n",
      "c:\\Users\\vedan\\Desktop\\heart-disease-prediction\\env\\lib\\site-packages\\pandas\\core\\indexes\\datetimes.py:327: UserWarning:\n",
      "\n",
      "Parsing '18-10-2020' in DD/MM/YYYY format. Provide format or specify infer_datetime_format=True for consistent parsing.\n",
      "\n",
      "c:\\Users\\vedan\\Desktop\\heart-disease-prediction\\env\\lib\\site-packages\\pandas\\core\\indexes\\datetimes.py:327: UserWarning:\n",
      "\n",
      "Parsing '22-10-2020' in DD/MM/YYYY format. Provide format or specify infer_datetime_format=True for consistent parsing.\n",
      "\n",
      "c:\\Users\\vedan\\Desktop\\heart-disease-prediction\\env\\lib\\site-packages\\pandas\\core\\indexes\\datetimes.py:327: UserWarning:\n",
      "\n",
      "Parsing '26-10-2020' in DD/MM/YYYY format. Provide format or specify infer_datetime_format=True for consistent parsing.\n",
      "\n",
      "c:\\Users\\vedan\\Desktop\\heart-disease-prediction\\env\\lib\\site-packages\\pandas\\core\\indexes\\datetimes.py:327: UserWarning:\n",
      "\n",
      "Parsing '23-10-2020' in DD/MM/YYYY format. Provide format or specify infer_datetime_format=True for consistent parsing.\n",
      "\n",
      "c:\\Users\\vedan\\Desktop\\heart-disease-prediction\\env\\lib\\site-packages\\pandas\\core\\indexes\\datetimes.py:327: UserWarning:\n",
      "\n",
      "Parsing '27-10-2020' in DD/MM/YYYY format. Provide format or specify infer_datetime_format=True for consistent parsing.\n",
      "\n",
      "c:\\Users\\vedan\\Desktop\\heart-disease-prediction\\env\\lib\\site-packages\\pandas\\core\\indexes\\datetimes.py:327: UserWarning:\n",
      "\n",
      "Parsing '16-10-2020' in DD/MM/YYYY format. Provide format or specify infer_datetime_format=True for consistent parsing.\n",
      "\n",
      "c:\\Users\\vedan\\Desktop\\heart-disease-prediction\\env\\lib\\site-packages\\pandas\\core\\indexes\\datetimes.py:327: UserWarning:\n",
      "\n",
      "Parsing '27-09-2020' in DD/MM/YYYY format. Provide format or specify infer_datetime_format=True for consistent parsing.\n",
      "\n",
      "c:\\Users\\vedan\\Desktop\\heart-disease-prediction\\env\\lib\\site-packages\\pandas\\core\\indexes\\datetimes.py:327: UserWarning:\n",
      "\n",
      "Parsing '13-10-2020' in DD/MM/YYYY format. Provide format or specify infer_datetime_format=True for consistent parsing.\n",
      "\n",
      "c:\\Users\\vedan\\Desktop\\heart-disease-prediction\\env\\lib\\site-packages\\pandas\\core\\indexes\\datetimes.py:327: UserWarning:\n",
      "\n",
      "Parsing '15-10-2020' in DD/MM/YYYY format. Provide format or specify infer_datetime_format=True for consistent parsing.\n",
      "\n",
      "c:\\Users\\vedan\\Desktop\\heart-disease-prediction\\env\\lib\\site-packages\\pandas\\core\\indexes\\datetimes.py:327: UserWarning:\n",
      "\n",
      "Parsing '29-09-2020' in DD/MM/YYYY format. Provide format or specify infer_datetime_format=True for consistent parsing.\n",
      "\n",
      "c:\\Users\\vedan\\Desktop\\heart-disease-prediction\\env\\lib\\site-packages\\pandas\\core\\indexes\\datetimes.py:327: UserWarning:\n",
      "\n",
      "Parsing '19-10-2020' in DD/MM/YYYY format. Provide format or specify infer_datetime_format=True for consistent parsing.\n",
      "\n",
      "c:\\Users\\vedan\\Desktop\\heart-disease-prediction\\env\\lib\\site-packages\\pandas\\core\\indexes\\datetimes.py:327: UserWarning:\n",
      "\n",
      "Parsing '21-09-2020' in DD/MM/YYYY format. Provide format or specify infer_datetime_format=True for consistent parsing.\n",
      "\n",
      "c:\\Users\\vedan\\Desktop\\heart-disease-prediction\\env\\lib\\site-packages\\pandas\\core\\indexes\\datetimes.py:327: UserWarning:\n",
      "\n",
      "Parsing '29-10-2020' in DD/MM/YYYY format. Provide format or specify infer_datetime_format=True for consistent parsing.\n",
      "\n",
      "c:\\Users\\vedan\\Desktop\\heart-disease-prediction\\env\\lib\\site-packages\\pandas\\core\\indexes\\datetimes.py:327: UserWarning:\n",
      "\n",
      "Parsing '30-10-2020' in DD/MM/YYYY format. Provide format or specify infer_datetime_format=True for consistent parsing.\n",
      "\n",
      "c:\\Users\\vedan\\Desktop\\heart-disease-prediction\\env\\lib\\site-packages\\pandas\\core\\indexes\\datetimes.py:327: UserWarning:\n",
      "\n",
      "Parsing '25-09-2020' in DD/MM/YYYY format. Provide format or specify infer_datetime_format=True for consistent parsing.\n",
      "\n",
      "c:\\Users\\vedan\\Desktop\\heart-disease-prediction\\env\\lib\\site-packages\\pandas\\core\\indexes\\datetimes.py:327: UserWarning:\n",
      "\n",
      "Parsing '25-10-2020' in DD/MM/YYYY format. Provide format or specify infer_datetime_format=True for consistent parsing.\n",
      "\n",
      "c:\\Users\\vedan\\Desktop\\heart-disease-prediction\\env\\lib\\site-packages\\pandas\\core\\indexes\\datetimes.py:327: UserWarning:\n",
      "\n",
      "Parsing '14-10-2020' in DD/MM/YYYY format. Provide format or specify infer_datetime_format=True for consistent parsing.\n",
      "\n",
      "c:\\Users\\vedan\\Desktop\\heart-disease-prediction\\env\\lib\\site-packages\\pandas\\core\\indexes\\datetimes.py:327: UserWarning:\n",
      "\n",
      "Parsing '26-09-2020' in DD/MM/YYYY format. Provide format or specify infer_datetime_format=True for consistent parsing.\n",
      "\n",
      "c:\\Users\\vedan\\Desktop\\heart-disease-prediction\\env\\lib\\site-packages\\pandas\\core\\indexes\\datetimes.py:327: UserWarning:\n",
      "\n",
      "Parsing '20-10-2020' in DD/MM/YYYY format. Provide format or specify infer_datetime_format=True for consistent parsing.\n",
      "\n",
      "c:\\Users\\vedan\\Desktop\\heart-disease-prediction\\env\\lib\\site-packages\\pandas\\core\\indexes\\datetimes.py:327: UserWarning:\n",
      "\n",
      "Parsing '28-09-2020' in DD/MM/YYYY format. Provide format or specify infer_datetime_format=True for consistent parsing.\n",
      "\n"
     ]
    },
    {
     "data": {
      "text/html": [
       "<div>\n",
       "<style scoped>\n",
       "    .dataframe tbody tr th:only-of-type {\n",
       "        vertical-align: middle;\n",
       "    }\n",
       "\n",
       "    .dataframe tbody tr th {\n",
       "        vertical-align: top;\n",
       "    }\n",
       "\n",
       "    .dataframe thead th {\n",
       "        text-align: right;\n",
       "    }\n",
       "</style>\n",
       "<table border=\"1\" class=\"dataframe\">\n",
       "  <thead>\n",
       "    <tr style=\"text-align: right;\">\n",
       "      <th></th>\n",
       "      <th>id</th>\n",
       "      <th>city</th>\n",
       "      <th>date</th>\n",
       "      <th>player_of_match</th>\n",
       "      <th>venue</th>\n",
       "      <th>neutral_venue</th>\n",
       "      <th>team1</th>\n",
       "      <th>team2</th>\n",
       "      <th>toss_winner</th>\n",
       "      <th>toss_decision</th>\n",
       "      <th>winner</th>\n",
       "      <th>result</th>\n",
       "      <th>result_margin</th>\n",
       "      <th>eliminator</th>\n",
       "      <th>method</th>\n",
       "      <th>umpire1</th>\n",
       "      <th>umpire2</th>\n",
       "      <th>Season</th>\n",
       "    </tr>\n",
       "  </thead>\n",
       "  <tbody>\n",
       "    <tr>\n",
       "      <th>0</th>\n",
       "      <td>335982</td>\n",
       "      <td>Bangalore</td>\n",
       "      <td>18-04-2008</td>\n",
       "      <td>BB McCullum</td>\n",
       "      <td>M Chinnaswamy Stadium</td>\n",
       "      <td>0</td>\n",
       "      <td>Royal Challengers Bangalore</td>\n",
       "      <td>Kolkata Knight Riders</td>\n",
       "      <td>Royal Challengers Bangalore</td>\n",
       "      <td>field</td>\n",
       "      <td>Kolkata Knight Riders</td>\n",
       "      <td>runs</td>\n",
       "      <td>140.0</td>\n",
       "      <td>N</td>\n",
       "      <td>NaN</td>\n",
       "      <td>Asad Rauf</td>\n",
       "      <td>RE Koertzen</td>\n",
       "      <td>2008</td>\n",
       "    </tr>\n",
       "    <tr>\n",
       "      <th>1</th>\n",
       "      <td>335983</td>\n",
       "      <td>Chandigarh</td>\n",
       "      <td>19-04-2008</td>\n",
       "      <td>MEK Hussey</td>\n",
       "      <td>Punjab Cricket Association Stadium, Mohali</td>\n",
       "      <td>0</td>\n",
       "      <td>Kings XI Punjab</td>\n",
       "      <td>Chennai Super Kings</td>\n",
       "      <td>Chennai Super Kings</td>\n",
       "      <td>bat</td>\n",
       "      <td>Chennai Super Kings</td>\n",
       "      <td>runs</td>\n",
       "      <td>33.0</td>\n",
       "      <td>N</td>\n",
       "      <td>NaN</td>\n",
       "      <td>MR Benson</td>\n",
       "      <td>SL Shastri</td>\n",
       "      <td>2008</td>\n",
       "    </tr>\n",
       "    <tr>\n",
       "      <th>2</th>\n",
       "      <td>335984</td>\n",
       "      <td>Delhi</td>\n",
       "      <td>19-04-2008</td>\n",
       "      <td>MF Maharoof</td>\n",
       "      <td>Feroz Shah Kotla</td>\n",
       "      <td>0</td>\n",
       "      <td>Delhi Daredevils</td>\n",
       "      <td>Rajasthan Royals</td>\n",
       "      <td>Rajasthan Royals</td>\n",
       "      <td>bat</td>\n",
       "      <td>Delhi Daredevils</td>\n",
       "      <td>wickets</td>\n",
       "      <td>9.0</td>\n",
       "      <td>N</td>\n",
       "      <td>NaN</td>\n",
       "      <td>Aleem Dar</td>\n",
       "      <td>GA Pratapkumar</td>\n",
       "      <td>2008</td>\n",
       "    </tr>\n",
       "    <tr>\n",
       "      <th>3</th>\n",
       "      <td>335985</td>\n",
       "      <td>Mumbai</td>\n",
       "      <td>20-04-2008</td>\n",
       "      <td>MV Boucher</td>\n",
       "      <td>Wankhede Stadium</td>\n",
       "      <td>0</td>\n",
       "      <td>Mumbai Indians</td>\n",
       "      <td>Royal Challengers Bangalore</td>\n",
       "      <td>Mumbai Indians</td>\n",
       "      <td>bat</td>\n",
       "      <td>Royal Challengers Bangalore</td>\n",
       "      <td>wickets</td>\n",
       "      <td>5.0</td>\n",
       "      <td>N</td>\n",
       "      <td>NaN</td>\n",
       "      <td>SJ Davis</td>\n",
       "      <td>DJ Harper</td>\n",
       "      <td>2008</td>\n",
       "    </tr>\n",
       "    <tr>\n",
       "      <th>4</th>\n",
       "      <td>335986</td>\n",
       "      <td>Kolkata</td>\n",
       "      <td>20-04-2008</td>\n",
       "      <td>DJ Hussey</td>\n",
       "      <td>Eden Gardens</td>\n",
       "      <td>0</td>\n",
       "      <td>Kolkata Knight Riders</td>\n",
       "      <td>Deccan Chargers</td>\n",
       "      <td>Deccan Chargers</td>\n",
       "      <td>bat</td>\n",
       "      <td>Kolkata Knight Riders</td>\n",
       "      <td>wickets</td>\n",
       "      <td>5.0</td>\n",
       "      <td>N</td>\n",
       "      <td>NaN</td>\n",
       "      <td>BF Bowden</td>\n",
       "      <td>K Hariharan</td>\n",
       "      <td>2008</td>\n",
       "    </tr>\n",
       "  </tbody>\n",
       "</table>\n",
       "</div>"
      ],
      "text/plain": [
       "       id        city        date player_of_match  \\\n",
       "0  335982   Bangalore  18-04-2008     BB McCullum   \n",
       "1  335983  Chandigarh  19-04-2008      MEK Hussey   \n",
       "2  335984       Delhi  19-04-2008     MF Maharoof   \n",
       "3  335985      Mumbai  20-04-2008      MV Boucher   \n",
       "4  335986     Kolkata  20-04-2008       DJ Hussey   \n",
       "\n",
       "                                        venue  neutral_venue  \\\n",
       "0                       M Chinnaswamy Stadium              0   \n",
       "1  Punjab Cricket Association Stadium, Mohali              0   \n",
       "2                            Feroz Shah Kotla              0   \n",
       "3                            Wankhede Stadium              0   \n",
       "4                                Eden Gardens              0   \n",
       "\n",
       "                         team1                        team2  \\\n",
       "0  Royal Challengers Bangalore        Kolkata Knight Riders   \n",
       "1              Kings XI Punjab          Chennai Super Kings   \n",
       "2             Delhi Daredevils             Rajasthan Royals   \n",
       "3               Mumbai Indians  Royal Challengers Bangalore   \n",
       "4        Kolkata Knight Riders              Deccan Chargers   \n",
       "\n",
       "                   toss_winner toss_decision                       winner  \\\n",
       "0  Royal Challengers Bangalore         field        Kolkata Knight Riders   \n",
       "1          Chennai Super Kings           bat          Chennai Super Kings   \n",
       "2             Rajasthan Royals           bat             Delhi Daredevils   \n",
       "3               Mumbai Indians           bat  Royal Challengers Bangalore   \n",
       "4              Deccan Chargers           bat        Kolkata Knight Riders   \n",
       "\n",
       "    result  result_margin eliminator method    umpire1         umpire2  Season  \n",
       "0     runs          140.0          N    NaN  Asad Rauf     RE Koertzen    2008  \n",
       "1     runs           33.0          N    NaN  MR Benson      SL Shastri    2008  \n",
       "2  wickets            9.0          N    NaN  Aleem Dar  GA Pratapkumar    2008  \n",
       "3  wickets            5.0          N    NaN   SJ Davis       DJ Harper    2008  \n",
       "4  wickets            5.0          N    NaN  BF Bowden     K Hariharan    2008  "
      ]
     },
     "execution_count": 169,
     "metadata": {},
     "output_type": "execute_result"
    }
   ],
   "source": [
    "# Adding a new column\n",
    "match_data['Season'] = pd.DatetimeIndex(match_data['date']).year\n",
    "match_data.head()"
   ]
  },
  {
   "attachments": {},
   "cell_type": "markdown",
   "metadata": {},
   "source": [
    "## `Number of matches and teams analysis`"
   ]
  },
  {
   "attachments": {},
   "cell_type": "markdown",
   "metadata": {},
   "source": [
    "#### Number of matches in each season"
   ]
  },
  {
   "cell_type": "code",
   "execution_count": 227,
   "metadata": {},
   "outputs": [
    {
     "data": {
      "text/html": [
       "<style type=\"text/css\">\n",
       "#T_e1c87_row0_col0, #T_e1c87_row1_col1 {\n",
       "  background-color: #000000;\n",
       "  color: #f1f1f1;\n",
       "}\n",
       "#T_e1c87_row0_col1 {\n",
       "  background-color: #000034;\n",
       "  color: #f1f1f1;\n",
       "}\n",
       "#T_e1c87_row1_col0 {\n",
       "  background-color: #000054;\n",
       "  color: #f1f1f1;\n",
       "}\n",
       "#T_e1c87_row2_col0 {\n",
       "  background-color: #0000a8;\n",
       "  color: #f1f1f1;\n",
       "}\n",
       "#T_e1c87_row2_col1, #T_e1c87_row6_col1, #T_e1c87_row8_col1, #T_e1c87_row10_col1, #T_e1c87_row11_col1, #T_e1c87_row12_col1 {\n",
       "  background-color: #0000a0;\n",
       "  color: #f1f1f1;\n",
       "}\n",
       "#T_e1c87_row3_col0 {\n",
       "  background-color: #0100ff;\n",
       "  color: #f1f1f1;\n",
       "}\n",
       "#T_e1c87_row3_col1 {\n",
       "  background-color: #ffd827;\n",
       "  color: #000000;\n",
       "}\n",
       "#T_e1c87_row4_col0 {\n",
       "  background-color: #4200ff;\n",
       "  color: #f1f1f1;\n",
       "}\n",
       "#T_e1c87_row4_col1 {\n",
       "  background-color: #fff40b;\n",
       "  color: #000000;\n",
       "}\n",
       "#T_e1c87_row5_col0 {\n",
       "  background-color: #8400ff;\n",
       "  color: #f1f1f1;\n",
       "}\n",
       "#T_e1c87_row5_col1, #T_e1c87_row12_col0 {\n",
       "  background-color: #ffffff;\n",
       "  color: #000000;\n",
       "}\n",
       "#T_e1c87_row6_col0 {\n",
       "  background-color: #c92ad5;\n",
       "  color: #f1f1f1;\n",
       "}\n",
       "#T_e1c87_row7_col0 {\n",
       "  background-color: #ff54ab;\n",
       "  color: #f1f1f1;\n",
       "}\n",
       "#T_e1c87_row7_col1, #T_e1c87_row9_col1 {\n",
       "  background-color: #000068;\n",
       "  color: #f1f1f1;\n",
       "}\n",
       "#T_e1c87_row8_col0 {\n",
       "  background-color: #ff7e81;\n",
       "  color: #f1f1f1;\n",
       "}\n",
       "#T_e1c87_row9_col0 {\n",
       "  background-color: #ffaa55;\n",
       "  color: #000000;\n",
       "}\n",
       "#T_e1c87_row10_col0 {\n",
       "  background-color: #ffd42b;\n",
       "  color: #000000;\n",
       "}\n",
       "#T_e1c87_row11_col0 {\n",
       "  background-color: #fffe01;\n",
       "  color: #000000;\n",
       "}\n",
       "</style>\n",
       "<table id=\"T_e1c87\">\n",
       "  <thead>\n",
       "    <tr>\n",
       "      <th class=\"blank level0\" >&nbsp;</th>\n",
       "      <th id=\"T_e1c87_level0_col0\" class=\"col_heading level0 col0\" >Season</th>\n",
       "      <th id=\"T_e1c87_level0_col1\" class=\"col_heading level0 col1\" >matches</th>\n",
       "    </tr>\n",
       "  </thead>\n",
       "  <tbody>\n",
       "    <tr>\n",
       "      <th id=\"T_e1c87_level0_row0\" class=\"row_heading level0 row0\" >0</th>\n",
       "      <td id=\"T_e1c87_row0_col0\" class=\"data row0 col0\" >2008</td>\n",
       "      <td id=\"T_e1c87_row0_col1\" class=\"data row0 col1\" >58</td>\n",
       "    </tr>\n",
       "    <tr>\n",
       "      <th id=\"T_e1c87_level0_row1\" class=\"row_heading level0 row1\" >1</th>\n",
       "      <td id=\"T_e1c87_row1_col0\" class=\"data row1 col0\" >2009</td>\n",
       "      <td id=\"T_e1c87_row1_col1\" class=\"data row1 col1\" >57</td>\n",
       "    </tr>\n",
       "    <tr>\n",
       "      <th id=\"T_e1c87_level0_row2\" class=\"row_heading level0 row2\" >2</th>\n",
       "      <td id=\"T_e1c87_row2_col0\" class=\"data row2 col0\" >2010</td>\n",
       "      <td id=\"T_e1c87_row2_col1\" class=\"data row2 col1\" >60</td>\n",
       "    </tr>\n",
       "    <tr>\n",
       "      <th id=\"T_e1c87_level0_row3\" class=\"row_heading level0 row3\" >3</th>\n",
       "      <td id=\"T_e1c87_row3_col0\" class=\"data row3 col0\" >2011</td>\n",
       "      <td id=\"T_e1c87_row3_col1\" class=\"data row3 col1\" >73</td>\n",
       "    </tr>\n",
       "    <tr>\n",
       "      <th id=\"T_e1c87_level0_row4\" class=\"row_heading level0 row4\" >4</th>\n",
       "      <td id=\"T_e1c87_row4_col0\" class=\"data row4 col0\" >2012</td>\n",
       "      <td id=\"T_e1c87_row4_col1\" class=\"data row4 col1\" >74</td>\n",
       "    </tr>\n",
       "    <tr>\n",
       "      <th id=\"T_e1c87_level0_row5\" class=\"row_heading level0 row5\" >5</th>\n",
       "      <td id=\"T_e1c87_row5_col0\" class=\"data row5 col0\" >2013</td>\n",
       "      <td id=\"T_e1c87_row5_col1\" class=\"data row5 col1\" >76</td>\n",
       "    </tr>\n",
       "    <tr>\n",
       "      <th id=\"T_e1c87_level0_row6\" class=\"row_heading level0 row6\" >6</th>\n",
       "      <td id=\"T_e1c87_row6_col0\" class=\"data row6 col0\" >2014</td>\n",
       "      <td id=\"T_e1c87_row6_col1\" class=\"data row6 col1\" >60</td>\n",
       "    </tr>\n",
       "    <tr>\n",
       "      <th id=\"T_e1c87_level0_row7\" class=\"row_heading level0 row7\" >7</th>\n",
       "      <td id=\"T_e1c87_row7_col0\" class=\"data row7 col0\" >2015</td>\n",
       "      <td id=\"T_e1c87_row7_col1\" class=\"data row7 col1\" >59</td>\n",
       "    </tr>\n",
       "    <tr>\n",
       "      <th id=\"T_e1c87_level0_row8\" class=\"row_heading level0 row8\" >8</th>\n",
       "      <td id=\"T_e1c87_row8_col0\" class=\"data row8 col0\" >2016</td>\n",
       "      <td id=\"T_e1c87_row8_col1\" class=\"data row8 col1\" >60</td>\n",
       "    </tr>\n",
       "    <tr>\n",
       "      <th id=\"T_e1c87_level0_row9\" class=\"row_heading level0 row9\" >9</th>\n",
       "      <td id=\"T_e1c87_row9_col0\" class=\"data row9 col0\" >2017</td>\n",
       "      <td id=\"T_e1c87_row9_col1\" class=\"data row9 col1\" >59</td>\n",
       "    </tr>\n",
       "    <tr>\n",
       "      <th id=\"T_e1c87_level0_row10\" class=\"row_heading level0 row10\" >10</th>\n",
       "      <td id=\"T_e1c87_row10_col0\" class=\"data row10 col0\" >2018</td>\n",
       "      <td id=\"T_e1c87_row10_col1\" class=\"data row10 col1\" >60</td>\n",
       "    </tr>\n",
       "    <tr>\n",
       "      <th id=\"T_e1c87_level0_row11\" class=\"row_heading level0 row11\" >11</th>\n",
       "      <td id=\"T_e1c87_row11_col0\" class=\"data row11 col0\" >2019</td>\n",
       "      <td id=\"T_e1c87_row11_col1\" class=\"data row11 col1\" >60</td>\n",
       "    </tr>\n",
       "    <tr>\n",
       "      <th id=\"T_e1c87_level0_row12\" class=\"row_heading level0 row12\" >12</th>\n",
       "      <td id=\"T_e1c87_row12_col0\" class=\"data row12 col0\" >2020</td>\n",
       "      <td id=\"T_e1c87_row12_col1\" class=\"data row12 col1\" >60</td>\n",
       "    </tr>\n",
       "  </tbody>\n",
       "</table>\n"
      ],
      "text/plain": [
       "<pandas.io.formats.style.Styler at 0x13e64cc0dc0>"
      ]
     },
     "execution_count": 227,
     "metadata": {},
     "output_type": "execute_result"
    }
   ],
   "source": [
    "match_per_season=match_data.groupby(['Season'])['id'].count().reset_index().rename(columns={'id':'matches'})\n",
    "match_per_season.style.background_gradient(cmap='gnuplot2')"
   ]
  },
  {
   "attachments": {},
   "cell_type": "markdown",
   "metadata": {},
   "source": [
    "#### Max, Min and Avg. number of matches"
   ]
  },
  {
   "cell_type": "code",
   "execution_count": 171,
   "metadata": {},
   "outputs": [
    {
     "data": {
      "text/plain": [
       "76"
      ]
     },
     "execution_count": 171,
     "metadata": {},
     "output_type": "execute_result"
    }
   ],
   "source": [
    "max(match_per_season['matches'])"
   ]
  },
  {
   "cell_type": "code",
   "execution_count": 172,
   "metadata": {},
   "outputs": [
    {
     "data": {
      "text/plain": [
       "57"
      ]
     },
     "execution_count": 172,
     "metadata": {},
     "output_type": "execute_result"
    }
   ],
   "source": [
    "min(match_per_season['matches'])"
   ]
  },
  {
   "cell_type": "code",
   "execution_count": 173,
   "metadata": {},
   "outputs": [
    {
     "data": {
      "text/plain": [
       "68.0"
      ]
     },
     "execution_count": 173,
     "metadata": {},
     "output_type": "execute_result"
    }
   ],
   "source": [
    "sum(match_per_season['matches'])/12"
   ]
  },
  {
   "attachments": {},
   "cell_type": "markdown",
   "metadata": {},
   "source": [
    "#### Number of teams in each season"
   ]
  },
  {
   "cell_type": "code",
   "execution_count": 174,
   "metadata": {},
   "outputs": [
    {
     "data": {
      "text/html": [
       "<div>\n",
       "<style scoped>\n",
       "    .dataframe tbody tr th:only-of-type {\n",
       "        vertical-align: middle;\n",
       "    }\n",
       "\n",
       "    .dataframe tbody tr th {\n",
       "        vertical-align: top;\n",
       "    }\n",
       "\n",
       "    .dataframe thead th {\n",
       "        text-align: right;\n",
       "    }\n",
       "</style>\n",
       "<table border=\"1\" class=\"dataframe\">\n",
       "  <thead>\n",
       "    <tr style=\"text-align: right;\">\n",
       "      <th></th>\n",
       "      <th>Season</th>\n",
       "      <th>Number of teams</th>\n",
       "    </tr>\n",
       "  </thead>\n",
       "  <tbody>\n",
       "    <tr>\n",
       "      <th>0</th>\n",
       "      <td>2008</td>\n",
       "      <td>8</td>\n",
       "    </tr>\n",
       "    <tr>\n",
       "      <th>1</th>\n",
       "      <td>2009</td>\n",
       "      <td>7</td>\n",
       "    </tr>\n",
       "    <tr>\n",
       "      <th>2</th>\n",
       "      <td>2010</td>\n",
       "      <td>8</td>\n",
       "    </tr>\n",
       "    <tr>\n",
       "      <th>3</th>\n",
       "      <td>2011</td>\n",
       "      <td>10</td>\n",
       "    </tr>\n",
       "    <tr>\n",
       "      <th>4</th>\n",
       "      <td>2012</td>\n",
       "      <td>9</td>\n",
       "    </tr>\n",
       "    <tr>\n",
       "      <th>5</th>\n",
       "      <td>2013</td>\n",
       "      <td>9</td>\n",
       "    </tr>\n",
       "    <tr>\n",
       "      <th>6</th>\n",
       "      <td>2014</td>\n",
       "      <td>8</td>\n",
       "    </tr>\n",
       "    <tr>\n",
       "      <th>7</th>\n",
       "      <td>2015</td>\n",
       "      <td>8</td>\n",
       "    </tr>\n",
       "    <tr>\n",
       "      <th>8</th>\n",
       "      <td>2016</td>\n",
       "      <td>8</td>\n",
       "    </tr>\n",
       "    <tr>\n",
       "      <th>9</th>\n",
       "      <td>2017</td>\n",
       "      <td>8</td>\n",
       "    </tr>\n",
       "    <tr>\n",
       "      <th>10</th>\n",
       "      <td>2018</td>\n",
       "      <td>8</td>\n",
       "    </tr>\n",
       "    <tr>\n",
       "      <th>11</th>\n",
       "      <td>2019</td>\n",
       "      <td>8</td>\n",
       "    </tr>\n",
       "    <tr>\n",
       "      <th>12</th>\n",
       "      <td>2020</td>\n",
       "      <td>8</td>\n",
       "    </tr>\n",
       "  </tbody>\n",
       "</table>\n",
       "</div>"
      ],
      "text/plain": [
       "   Season  Number of teams\n",
       "0    2008                8\n",
       "1    2009                7\n",
       "2    2010                8\n",
       "3    2011               10\n",
       "4    2012                9\n",
       "5    2013                9\n",
       "6    2014                8\n",
       "7    2015                8\n",
       "8    2016                8\n",
       "9    2017                8\n",
       "10   2018                8\n",
       "11   2019                8\n",
       "12   2020                8"
      ]
     },
     "execution_count": 174,
     "metadata": {},
     "output_type": "execute_result"
    }
   ],
   "source": [
    "l = []\n",
    "k = []\n",
    "i =2008\n",
    "while i <=2020 :\n",
    "    number_of_teams = match_data[match_data['Season']==i]\n",
    "    number_of_teams = number_of_teams['team1'].unique() \n",
    "    a = str(i)\n",
    "    k.append(a)\n",
    "    i+=1\n",
    "    l.append(len(number_of_teams))\n",
    "\n",
    "data = {'Season':k,'Number of teams':l}\n",
    "season_matches = pd.DataFrame(data)\n",
    "season_matches\n"
   ]
  },
  {
   "cell_type": "code",
   "execution_count": 175,
   "metadata": {},
   "outputs": [],
   "source": [
    "season_matches['matches'] = match_per_season['matches']"
   ]
  },
  {
   "cell_type": "code",
   "execution_count": 176,
   "metadata": {},
   "outputs": [
    {
     "data": {
      "text/html": [
       "<div>\n",
       "<style scoped>\n",
       "    .dataframe tbody tr th:only-of-type {\n",
       "        vertical-align: middle;\n",
       "    }\n",
       "\n",
       "    .dataframe tbody tr th {\n",
       "        vertical-align: top;\n",
       "    }\n",
       "\n",
       "    .dataframe thead th {\n",
       "        text-align: right;\n",
       "    }\n",
       "</style>\n",
       "<table border=\"1\" class=\"dataframe\">\n",
       "  <thead>\n",
       "    <tr style=\"text-align: right;\">\n",
       "      <th></th>\n",
       "      <th>Season</th>\n",
       "      <th>Number of teams</th>\n",
       "      <th>matches</th>\n",
       "    </tr>\n",
       "  </thead>\n",
       "  <tbody>\n",
       "    <tr>\n",
       "      <th>0</th>\n",
       "      <td>2008</td>\n",
       "      <td>8</td>\n",
       "      <td>58</td>\n",
       "    </tr>\n",
       "    <tr>\n",
       "      <th>1</th>\n",
       "      <td>2009</td>\n",
       "      <td>7</td>\n",
       "      <td>57</td>\n",
       "    </tr>\n",
       "    <tr>\n",
       "      <th>2</th>\n",
       "      <td>2010</td>\n",
       "      <td>8</td>\n",
       "      <td>60</td>\n",
       "    </tr>\n",
       "    <tr>\n",
       "      <th>3</th>\n",
       "      <td>2011</td>\n",
       "      <td>10</td>\n",
       "      <td>73</td>\n",
       "    </tr>\n",
       "    <tr>\n",
       "      <th>4</th>\n",
       "      <td>2012</td>\n",
       "      <td>9</td>\n",
       "      <td>74</td>\n",
       "    </tr>\n",
       "    <tr>\n",
       "      <th>5</th>\n",
       "      <td>2013</td>\n",
       "      <td>9</td>\n",
       "      <td>76</td>\n",
       "    </tr>\n",
       "    <tr>\n",
       "      <th>6</th>\n",
       "      <td>2014</td>\n",
       "      <td>8</td>\n",
       "      <td>60</td>\n",
       "    </tr>\n",
       "    <tr>\n",
       "      <th>7</th>\n",
       "      <td>2015</td>\n",
       "      <td>8</td>\n",
       "      <td>59</td>\n",
       "    </tr>\n",
       "    <tr>\n",
       "      <th>8</th>\n",
       "      <td>2016</td>\n",
       "      <td>8</td>\n",
       "      <td>60</td>\n",
       "    </tr>\n",
       "    <tr>\n",
       "      <th>9</th>\n",
       "      <td>2017</td>\n",
       "      <td>8</td>\n",
       "      <td>59</td>\n",
       "    </tr>\n",
       "    <tr>\n",
       "      <th>10</th>\n",
       "      <td>2018</td>\n",
       "      <td>8</td>\n",
       "      <td>60</td>\n",
       "    </tr>\n",
       "    <tr>\n",
       "      <th>11</th>\n",
       "      <td>2019</td>\n",
       "      <td>8</td>\n",
       "      <td>60</td>\n",
       "    </tr>\n",
       "    <tr>\n",
       "      <th>12</th>\n",
       "      <td>2020</td>\n",
       "      <td>8</td>\n",
       "      <td>60</td>\n",
       "    </tr>\n",
       "  </tbody>\n",
       "</table>\n",
       "</div>"
      ],
      "text/plain": [
       "   Season  Number of teams  matches\n",
       "0    2008                8       58\n",
       "1    2009                7       57\n",
       "2    2010                8       60\n",
       "3    2011               10       73\n",
       "4    2012                9       74\n",
       "5    2013                9       76\n",
       "6    2014                8       60\n",
       "7    2015                8       59\n",
       "8    2016                8       60\n",
       "9    2017                8       59\n",
       "10   2018                8       60\n",
       "11   2019                8       60\n",
       "12   2020                8       60"
      ]
     },
     "execution_count": 176,
     "metadata": {},
     "output_type": "execute_result"
    }
   ],
   "source": [
    "season_matches"
   ]
  },
  {
   "cell_type": "code",
   "execution_count": 177,
   "metadata": {},
   "outputs": [
    {
     "data": {
      "image/png": "[encoded data removed]",
      "text/plain": [
       "<Figure size 432x288 with 2 Axes>"
      ]
     },
     "metadata": {
      "needs_background": "light"
     },
     "output_type": "display_data"
    }
   ],
   "source": [
    "matrix = season_matches[[\"Number of teams\", \"matches\"]].corr().round(2)\n",
    "sns.heatmap(matrix, annot=True)\n",
    "plt.show()"
   ]
  },
  {
   "attachments": {},
   "cell_type": "markdown",
   "metadata": {},
   "source": [
    "This shows that there is strong correlation between the number of matches, as IPL has been always using round robin format irrespective of number of teams\n",
    "\n",
    "Hence we can say that the number of matches played depend only on total number of teams in that season"
   ]
  },
  {
   "attachments": {},
   "cell_type": "markdown",
   "metadata": {},
   "source": [
    "#### Total number of matches played by a team"
   ]
  },
  {
   "cell_type": "code",
   "execution_count": 178,
   "metadata": {},
   "outputs": [
    {
     "data": {
      "text/html": [
       "<style type=\"text/css\">\n",
       "#T_53462_row0_col1 {\n",
       "  background-color: #ffffff;\n",
       "  color: #000000;\n",
       "}\n",
       "#T_53462_row1_col1 {\n",
       "  background-color: #ffff82;\n",
       "  color: #000000;\n",
       "}\n",
       "#T_53462_row2_col1 {\n",
       "  background-color: #ffff50;\n",
       "  color: #000000;\n",
       "}\n",
       "#T_53462_row3_col1 {\n",
       "  background-color: #ffff2a;\n",
       "  color: #000000;\n",
       "}\n",
       "#T_53462_row4_col1 {\n",
       "  background-color: #ffe619;\n",
       "  color: #000000;\n",
       "}\n",
       "#T_53462_row5_col1, #T_53462_row6_col1 {\n",
       "  background-color: #ffb847;\n",
       "  color: #000000;\n",
       "}\n",
       "#T_53462_row7_col1 {\n",
       "  background-color: #ff52ad;\n",
       "  color: #f1f1f1;\n",
       "}\n",
       "#T_53462_row8_col1 {\n",
       "  background-color: #3900ff;\n",
       "  color: #f1f1f1;\n",
       "}\n",
       "#T_53462_row9_col1 {\n",
       "  background-color: #0000ac;\n",
       "  color: #f1f1f1;\n",
       "}\n",
       "#T_53462_row10_col1 {\n",
       "  background-color: #000064;\n",
       "  color: #f1f1f1;\n",
       "}\n",
       "#T_53462_row11_col1, #T_53462_row12_col1 {\n",
       "  background-color: #000054;\n",
       "  color: #f1f1f1;\n",
       "}\n",
       "#T_53462_row13_col1 {\n",
       "  background-color: #000000;\n",
       "  color: #f1f1f1;\n",
       "}\n",
       "</style>\n",
       "<table id=\"T_53462\">\n",
       "  <thead>\n",
       "    <tr>\n",
       "      <th class=\"blank level0\" >&nbsp;</th>\n",
       "      <th id=\"T_53462_level0_col0\" class=\"col_heading level0 col0\" >Team Name</th>\n",
       "      <th id=\"T_53462_level0_col1\" class=\"col_heading level0 col1\" >Total Matches played</th>\n",
       "    </tr>\n",
       "  </thead>\n",
       "  <tbody>\n",
       "    <tr>\n",
       "      <th id=\"T_53462_level0_row0\" class=\"row_heading level0 row0\" >0</th>\n",
       "      <td id=\"T_53462_row0_col0\" class=\"data row0 col0\" >Mumbai Indians</td>\n",
       "      <td id=\"T_53462_row0_col1\" class=\"data row0 col1\" >203</td>\n",
       "    </tr>\n",
       "    <tr>\n",
       "      <th id=\"T_53462_level0_row1\" class=\"row_heading level0 row1\" >1</th>\n",
       "      <td id=\"T_53462_row1_col0\" class=\"data row1 col0\" >Royal Challengers Bangalore</td>\n",
       "      <td id=\"T_53462_row1_col1\" class=\"data row1 col1\" >195</td>\n",
       "    </tr>\n",
       "    <tr>\n",
       "      <th id=\"T_53462_level0_row2\" class=\"row_heading level0 row2\" >2</th>\n",
       "      <td id=\"T_53462_row2_col0\" class=\"data row2 col0\" >Kolkata Knight Riders</td>\n",
       "      <td id=\"T_53462_row2_col1\" class=\"data row2 col1\" >192</td>\n",
       "    </tr>\n",
       "    <tr>\n",
       "      <th id=\"T_53462_level0_row3\" class=\"row_heading level0 row3\" >3</th>\n",
       "      <td id=\"T_53462_row3_col0\" class=\"data row3 col0\" >Kings XI Punjab</td>\n",
       "      <td id=\"T_53462_row3_col1\" class=\"data row3 col1\" >190</td>\n",
       "    </tr>\n",
       "    <tr>\n",
       "      <th id=\"T_53462_level0_row4\" class=\"row_heading level0 row4\" >4</th>\n",
       "      <td id=\"T_53462_row4_col0\" class=\"data row4 col0\" >Chennai Super Kings</td>\n",
       "      <td id=\"T_53462_row4_col1\" class=\"data row4 col1\" >178</td>\n",
       "    </tr>\n",
       "    <tr>\n",
       "      <th id=\"T_53462_level0_row5\" class=\"row_heading level0 row5\" >5</th>\n",
       "      <td id=\"T_53462_row5_col0\" class=\"data row5 col0\" >Delhi Daredevils</td>\n",
       "      <td id=\"T_53462_row5_col1\" class=\"data row5 col1\" >161</td>\n",
       "    </tr>\n",
       "    <tr>\n",
       "      <th id=\"T_53462_level0_row6\" class=\"row_heading level0 row6\" >6</th>\n",
       "      <td id=\"T_53462_row6_col0\" class=\"data row6 col0\" >Rajasthan Royals</td>\n",
       "      <td id=\"T_53462_row6_col1\" class=\"data row6 col1\" >161</td>\n",
       "    </tr>\n",
       "    <tr>\n",
       "      <th id=\"T_53462_level0_row7\" class=\"row_heading level0 row7\" >7</th>\n",
       "      <td id=\"T_53462_row7_col0\" class=\"data row7 col0\" >Sunrisers Hyderabad</td>\n",
       "      <td id=\"T_53462_row7_col1\" class=\"data row7 col1\" >124</td>\n",
       "    </tr>\n",
       "    <tr>\n",
       "      <th id=\"T_53462_level0_row8\" class=\"row_heading level0 row8\" >8</th>\n",
       "      <td id=\"T_53462_row8_col0\" class=\"data row8 col0\" >Deccan Chargers</td>\n",
       "      <td id=\"T_53462_row8_col1\" class=\"data row8 col1\" >75</td>\n",
       "    </tr>\n",
       "    <tr>\n",
       "      <th id=\"T_53462_level0_row9\" class=\"row_heading level0 row9\" >9</th>\n",
       "      <td id=\"T_53462_row9_col0\" class=\"data row9 col0\" >Pune Warriors</td>\n",
       "      <td id=\"T_53462_row9_col1\" class=\"data row9 col1\" >46</td>\n",
       "    </tr>\n",
       "    <tr>\n",
       "      <th id=\"T_53462_level0_row10\" class=\"row_heading level0 row10\" >10</th>\n",
       "      <td id=\"T_53462_row10_col0\" class=\"data row10 col0\" >Delhi Capitals</td>\n",
       "      <td id=\"T_53462_row10_col1\" class=\"data row10 col1\" >33</td>\n",
       "    </tr>\n",
       "    <tr>\n",
       "      <th id=\"T_53462_level0_row11\" class=\"row_heading level0 row11\" >11</th>\n",
       "      <td id=\"T_53462_row11_col0\" class=\"data row11 col0\" >Gujarat Lions</td>\n",
       "      <td id=\"T_53462_row11_col1\" class=\"data row11 col1\" >30</td>\n",
       "    </tr>\n",
       "    <tr>\n",
       "      <th id=\"T_53462_level0_row12\" class=\"row_heading level0 row12\" >12</th>\n",
       "      <td id=\"T_53462_row12_col0\" class=\"data row12 col0\" >Rising Pune Supergiant</td>\n",
       "      <td id=\"T_53462_row12_col1\" class=\"data row12 col1\" >30</td>\n",
       "    </tr>\n",
       "    <tr>\n",
       "      <th id=\"T_53462_level0_row13\" class=\"row_heading level0 row13\" >13</th>\n",
       "      <td id=\"T_53462_row13_col0\" class=\"data row13 col0\" >Kochi Tuskers Kerala</td>\n",
       "      <td id=\"T_53462_row13_col1\" class=\"data row13 col1\" >14</td>\n",
       "    </tr>\n",
       "  </tbody>\n",
       "</table>\n"
      ],
      "text/plain": [
       "<pandas.io.formats.style.Styler at 0x13e621d32e0>"
      ]
     },
     "execution_count": 178,
     "metadata": {},
     "output_type": "execute_result"
    }
   ],
   "source": [
    "matches_played_byteams=pd.concat([match_data['team1'],match_data['team2']],axis=1)\n",
    "teams=(matches_played_byteams['team1'].value_counts()+matches_played_byteams['team2'].value_counts()).reset_index()\n",
    "teams.columns=['Team Name','Total Matches played']\n",
    "teams.sort_values(by=['Total Matches played'],ascending=False).reset_index().drop('index',axis=1).style.background_gradient(cmap='gnuplot2')"
   ]
  },
  {
   "attachments": {},
   "cell_type": "markdown",
   "metadata": {},
   "source": [
    "From the above table we see that there are large differences between total matches played by each team. Let's look at the number of seasons played by each team if it gives us the reason for this"
   ]
  },
  {
   "attachments": {},
   "cell_type": "markdown",
   "metadata": {},
   "source": [
    "#### Number of seasons played by each team"
   ]
  },
  {
   "cell_type": "code",
   "execution_count": 179,
   "metadata": {},
   "outputs": [
    {
     "data": {
      "text/plain": [
       "[11, 5, 2, 11, 2, 13, 1, 13, 13, 3, 10, 2, 13, 8]"
      ]
     },
     "execution_count": 179,
     "metadata": {},
     "output_type": "execute_result"
    }
   ],
   "source": [
    "teams1 = teams['Team Name']\n",
    "md = []\n",
    "\n",
    "for i in range(0,len(teams1)):\n",
    "    j = 2008\n",
    "    count = 0\n",
    "    while j<=2020:\n",
    "        teams_data = match_data[match_data['Season']==j]\n",
    "        if teams1[i] in teams_data['team1'].unique():\n",
    "            count+=1\n",
    "        j+=1\n",
    "        \n",
    "    md.append(count)\n",
    "\n",
    "md"
   ]
  },
  {
   "cell_type": "code",
   "execution_count": 180,
   "metadata": {},
   "outputs": [
    {
     "data": {
      "text/html": [
       "<style type=\"text/css\">\n",
       "#T_76142_row0_col1, #T_76142_row0_col2, #T_76142_row1_col2, #T_76142_row2_col2, #T_76142_row3_col2 {\n",
       "  background-color: #ffffff;\n",
       "  color: #000000;\n",
       "}\n",
       "#T_76142_row1_col1 {\n",
       "  background-color: #ffff82;\n",
       "  color: #000000;\n",
       "}\n",
       "#T_76142_row2_col1 {\n",
       "  background-color: #ffff50;\n",
       "  color: #000000;\n",
       "}\n",
       "#T_76142_row3_col1 {\n",
       "  background-color: #ffff2a;\n",
       "  color: #000000;\n",
       "}\n",
       "#T_76142_row4_col1 {\n",
       "  background-color: #ffe619;\n",
       "  color: #000000;\n",
       "}\n",
       "#T_76142_row4_col2, #T_76142_row5_col2 {\n",
       "  background-color: #ffd42b;\n",
       "  color: #000000;\n",
       "}\n",
       "#T_76142_row5_col1, #T_76142_row6_col1 {\n",
       "  background-color: #ffb847;\n",
       "  color: #000000;\n",
       "}\n",
       "#T_76142_row6_col2 {\n",
       "  background-color: #ffaa55;\n",
       "  color: #000000;\n",
       "}\n",
       "#T_76142_row7_col1 {\n",
       "  background-color: #ff52ad;\n",
       "  color: #f1f1f1;\n",
       "}\n",
       "#T_76142_row7_col2 {\n",
       "  background-color: #ff54ab;\n",
       "  color: #f1f1f1;\n",
       "}\n",
       "#T_76142_row8_col1 {\n",
       "  background-color: #3900ff;\n",
       "  color: #f1f1f1;\n",
       "}\n",
       "#T_76142_row8_col2 {\n",
       "  background-color: #4200ff;\n",
       "  color: #f1f1f1;\n",
       "}\n",
       "#T_76142_row9_col1 {\n",
       "  background-color: #0000ac;\n",
       "  color: #f1f1f1;\n",
       "}\n",
       "#T_76142_row9_col2 {\n",
       "  background-color: #0000a8;\n",
       "  color: #f1f1f1;\n",
       "}\n",
       "#T_76142_row10_col1 {\n",
       "  background-color: #000064;\n",
       "  color: #f1f1f1;\n",
       "}\n",
       "#T_76142_row10_col2, #T_76142_row11_col1, #T_76142_row11_col2, #T_76142_row12_col1, #T_76142_row12_col2 {\n",
       "  background-color: #000054;\n",
       "  color: #f1f1f1;\n",
       "}\n",
       "#T_76142_row13_col1, #T_76142_row13_col2 {\n",
       "  background-color: #000000;\n",
       "  color: #f1f1f1;\n",
       "}\n",
       "</style>\n",
       "<table id=\"T_76142\">\n",
       "  <thead>\n",
       "    <tr>\n",
       "      <th class=\"blank level0\" >&nbsp;</th>\n",
       "      <th id=\"T_76142_level0_col0\" class=\"col_heading level0 col0\" >Team Name</th>\n",
       "      <th id=\"T_76142_level0_col1\" class=\"col_heading level0 col1\" >Total Matches played</th>\n",
       "      <th id=\"T_76142_level0_col2\" class=\"col_heading level0 col2\" >Season Played</th>\n",
       "    </tr>\n",
       "  </thead>\n",
       "  <tbody>\n",
       "    <tr>\n",
       "      <th id=\"T_76142_level0_row0\" class=\"row_heading level0 row0\" >0</th>\n",
       "      <td id=\"T_76142_row0_col0\" class=\"data row0 col0\" >Mumbai Indians</td>\n",
       "      <td id=\"T_76142_row0_col1\" class=\"data row0 col1\" >203</td>\n",
       "      <td id=\"T_76142_row0_col2\" class=\"data row0 col2\" >13</td>\n",
       "    </tr>\n",
       "    <tr>\n",
       "      <th id=\"T_76142_level0_row1\" class=\"row_heading level0 row1\" >1</th>\n",
       "      <td id=\"T_76142_row1_col0\" class=\"data row1 col0\" >Royal Challengers Bangalore</td>\n",
       "      <td id=\"T_76142_row1_col1\" class=\"data row1 col1\" >195</td>\n",
       "      <td id=\"T_76142_row1_col2\" class=\"data row1 col2\" >13</td>\n",
       "    </tr>\n",
       "    <tr>\n",
       "      <th id=\"T_76142_level0_row2\" class=\"row_heading level0 row2\" >2</th>\n",
       "      <td id=\"T_76142_row2_col0\" class=\"data row2 col0\" >Kolkata Knight Riders</td>\n",
       "      <td id=\"T_76142_row2_col1\" class=\"data row2 col1\" >192</td>\n",
       "      <td id=\"T_76142_row2_col2\" class=\"data row2 col2\" >13</td>\n",
       "    </tr>\n",
       "    <tr>\n",
       "      <th id=\"T_76142_level0_row3\" class=\"row_heading level0 row3\" >3</th>\n",
       "      <td id=\"T_76142_row3_col0\" class=\"data row3 col0\" >Kings XI Punjab</td>\n",
       "      <td id=\"T_76142_row3_col1\" class=\"data row3 col1\" >190</td>\n",
       "      <td id=\"T_76142_row3_col2\" class=\"data row3 col2\" >13</td>\n",
       "    </tr>\n",
       "    <tr>\n",
       "      <th id=\"T_76142_level0_row4\" class=\"row_heading level0 row4\" >4</th>\n",
       "      <td id=\"T_76142_row4_col0\" class=\"data row4 col0\" >Chennai Super Kings</td>\n",
       "      <td id=\"T_76142_row4_col1\" class=\"data row4 col1\" >178</td>\n",
       "      <td id=\"T_76142_row4_col2\" class=\"data row4 col2\" >11</td>\n",
       "    </tr>\n",
       "    <tr>\n",
       "      <th id=\"T_76142_level0_row5\" class=\"row_heading level0 row5\" >5</th>\n",
       "      <td id=\"T_76142_row5_col0\" class=\"data row5 col0\" >Delhi Daredevils</td>\n",
       "      <td id=\"T_76142_row5_col1\" class=\"data row5 col1\" >161</td>\n",
       "      <td id=\"T_76142_row5_col2\" class=\"data row5 col2\" >11</td>\n",
       "    </tr>\n",
       "    <tr>\n",
       "      <th id=\"T_76142_level0_row6\" class=\"row_heading level0 row6\" >6</th>\n",
       "      <td id=\"T_76142_row6_col0\" class=\"data row6 col0\" >Rajasthan Royals</td>\n",
       "      <td id=\"T_76142_row6_col1\" class=\"data row6 col1\" >161</td>\n",
       "      <td id=\"T_76142_row6_col2\" class=\"data row6 col2\" >10</td>\n",
       "    </tr>\n",
       "    <tr>\n",
       "      <th id=\"T_76142_level0_row7\" class=\"row_heading level0 row7\" >7</th>\n",
       "      <td id=\"T_76142_row7_col0\" class=\"data row7 col0\" >Sunrisers Hyderabad</td>\n",
       "      <td id=\"T_76142_row7_col1\" class=\"data row7 col1\" >124</td>\n",
       "      <td id=\"T_76142_row7_col2\" class=\"data row7 col2\" >8</td>\n",
       "    </tr>\n",
       "    <tr>\n",
       "      <th id=\"T_76142_level0_row8\" class=\"row_heading level0 row8\" >8</th>\n",
       "      <td id=\"T_76142_row8_col0\" class=\"data row8 col0\" >Deccan Chargers</td>\n",
       "      <td id=\"T_76142_row8_col1\" class=\"data row8 col1\" >75</td>\n",
       "      <td id=\"T_76142_row8_col2\" class=\"data row8 col2\" >5</td>\n",
       "    </tr>\n",
       "    <tr>\n",
       "      <th id=\"T_76142_level0_row9\" class=\"row_heading level0 row9\" >9</th>\n",
       "      <td id=\"T_76142_row9_col0\" class=\"data row9 col0\" >Pune Warriors</td>\n",
       "      <td id=\"T_76142_row9_col1\" class=\"data row9 col1\" >46</td>\n",
       "      <td id=\"T_76142_row9_col2\" class=\"data row9 col2\" >3</td>\n",
       "    </tr>\n",
       "    <tr>\n",
       "      <th id=\"T_76142_level0_row10\" class=\"row_heading level0 row10\" >10</th>\n",
       "      <td id=\"T_76142_row10_col0\" class=\"data row10 col0\" >Delhi Capitals</td>\n",
       "      <td id=\"T_76142_row10_col1\" class=\"data row10 col1\" >33</td>\n",
       "      <td id=\"T_76142_row10_col2\" class=\"data row10 col2\" >2</td>\n",
       "    </tr>\n",
       "    <tr>\n",
       "      <th id=\"T_76142_level0_row11\" class=\"row_heading level0 row11\" >11</th>\n",
       "      <td id=\"T_76142_row11_col0\" class=\"data row11 col0\" >Gujarat Lions</td>\n",
       "      <td id=\"T_76142_row11_col1\" class=\"data row11 col1\" >30</td>\n",
       "      <td id=\"T_76142_row11_col2\" class=\"data row11 col2\" >2</td>\n",
       "    </tr>\n",
       "    <tr>\n",
       "      <th id=\"T_76142_level0_row12\" class=\"row_heading level0 row12\" >12</th>\n",
       "      <td id=\"T_76142_row12_col0\" class=\"data row12 col0\" >Rising Pune Supergiant</td>\n",
       "      <td id=\"T_76142_row12_col1\" class=\"data row12 col1\" >30</td>\n",
       "      <td id=\"T_76142_row12_col2\" class=\"data row12 col2\" >2</td>\n",
       "    </tr>\n",
       "    <tr>\n",
       "      <th id=\"T_76142_level0_row13\" class=\"row_heading level0 row13\" >13</th>\n",
       "      <td id=\"T_76142_row13_col0\" class=\"data row13 col0\" >Kochi Tuskers Kerala</td>\n",
       "      <td id=\"T_76142_row13_col1\" class=\"data row13 col1\" >14</td>\n",
       "      <td id=\"T_76142_row13_col2\" class=\"data row13 col2\" >1</td>\n",
       "    </tr>\n",
       "  </tbody>\n",
       "</table>\n"
      ],
      "text/plain": [
       "<pandas.io.formats.style.Styler at 0x13e62a65120>"
      ]
     },
     "execution_count": 180,
     "metadata": {},
     "output_type": "execute_result"
    }
   ],
   "source": [
    "teams['Season Played'] = md\n",
    "teams.sort_values(by=['Total Matches played'],ascending=False).reset_index().drop('index',axis=1).style.background_gradient(cmap='gnuplot2')"
   ]
  },
  {
   "attachments": {},
   "cell_type": "markdown",
   "metadata": {},
   "source": [
    "##### Reasons for such large differences between total matches played by each team\n",
    "- Kochi Tuskers Kerala have played only 1 season of IPL hence they played only 14 matches\n",
    "\n",
    "- Gujarat lions and Rising Pune Supergiant have played only 2 seasons and hence they have played only 30 matches\n",
    "\n",
    "- Pune Warriors have played only 3 seasons and thus have low number of matches\n",
    "\n",
    "- Delhi capital is the new name of Delhi Daredevils. Hence we can say that total matches and seasons played by the team were 194 and 13 respectively.\n",
    "\n",
    "- Deccan Chargers have played lesser number of matches as they were out from IPL after 5 seasons\n",
    "\n",
    "- Chennai Super Kings were also not present in 3 seasons and Rajasthan Royals were also not present for 3 seasons and hence have played relatively lesser number of matches\n",
    "\n",
    "- Mumbai Indians have played most number of matches as they have played in every season of IPL and have also reached play-offs more of the teams compared to the number of times other teams who played all the seasons of IPL"
   ]
  },
  {
   "attachments": {},
   "cell_type": "markdown",
   "metadata": {},
   "source": [
    "## `Runs Analysis`"
   ]
  },
  {
   "attachments": {},
   "cell_type": "markdown",
   "metadata": {},
   "source": [
    "#### Analysing the number of runs in each tournament"
   ]
  },
  {
   "cell_type": "code",
   "execution_count": 181,
   "metadata": {},
   "outputs": [
    {
     "data": {
      "text/html": [
       "<div>\n",
       "<style scoped>\n",
       "    .dataframe tbody tr th:only-of-type {\n",
       "        vertical-align: middle;\n",
       "    }\n",
       "\n",
       "    .dataframe tbody tr th {\n",
       "        vertical-align: top;\n",
       "    }\n",
       "\n",
       "    .dataframe thead th {\n",
       "        text-align: right;\n",
       "    }\n",
       "</style>\n",
       "<table border=\"1\" class=\"dataframe\">\n",
       "  <thead>\n",
       "    <tr style=\"text-align: right;\">\n",
       "      <th></th>\n",
       "      <th>Season</th>\n",
       "      <th>inning</th>\n",
       "      <th>over</th>\n",
       "      <th>ball</th>\n",
       "      <th>batsman</th>\n",
       "      <th>non_striker</th>\n",
       "      <th>bowler</th>\n",
       "      <th>batsman_runs</th>\n",
       "      <th>extra_runs</th>\n",
       "      <th>total_runs</th>\n",
       "      <th>non_boundary</th>\n",
       "      <th>is_wicket</th>\n",
       "      <th>dismissal_kind</th>\n",
       "      <th>player_dismissed</th>\n",
       "      <th>fielder</th>\n",
       "      <th>extras_type</th>\n",
       "      <th>batting_team</th>\n",
       "      <th>bowling_team</th>\n",
       "    </tr>\n",
       "  </thead>\n",
       "  <tbody>\n",
       "    <tr>\n",
       "      <th>0</th>\n",
       "      <td>2008</td>\n",
       "      <td>1</td>\n",
       "      <td>6</td>\n",
       "      <td>5</td>\n",
       "      <td>RT Ponting</td>\n",
       "      <td>BB McCullum</td>\n",
       "      <td>AA Noffke</td>\n",
       "      <td>1</td>\n",
       "      <td>0</td>\n",
       "      <td>1</td>\n",
       "      <td>0</td>\n",
       "      <td>0</td>\n",
       "      <td>NaN</td>\n",
       "      <td>NaN</td>\n",
       "      <td>NaN</td>\n",
       "      <td>NaN</td>\n",
       "      <td>Kolkata Knight Riders</td>\n",
       "      <td>Royal Challengers Bangalore</td>\n",
       "    </tr>\n",
       "    <tr>\n",
       "      <th>1</th>\n",
       "      <td>2008</td>\n",
       "      <td>1</td>\n",
       "      <td>6</td>\n",
       "      <td>6</td>\n",
       "      <td>BB McCullum</td>\n",
       "      <td>RT Ponting</td>\n",
       "      <td>AA Noffke</td>\n",
       "      <td>1</td>\n",
       "      <td>0</td>\n",
       "      <td>1</td>\n",
       "      <td>0</td>\n",
       "      <td>0</td>\n",
       "      <td>NaN</td>\n",
       "      <td>NaN</td>\n",
       "      <td>NaN</td>\n",
       "      <td>NaN</td>\n",
       "      <td>Kolkata Knight Riders</td>\n",
       "      <td>Royal Challengers Bangalore</td>\n",
       "    </tr>\n",
       "    <tr>\n",
       "      <th>2</th>\n",
       "      <td>2008</td>\n",
       "      <td>1</td>\n",
       "      <td>7</td>\n",
       "      <td>1</td>\n",
       "      <td>BB McCullum</td>\n",
       "      <td>RT Ponting</td>\n",
       "      <td>Z Khan</td>\n",
       "      <td>0</td>\n",
       "      <td>0</td>\n",
       "      <td>0</td>\n",
       "      <td>0</td>\n",
       "      <td>0</td>\n",
       "      <td>NaN</td>\n",
       "      <td>NaN</td>\n",
       "      <td>NaN</td>\n",
       "      <td>NaN</td>\n",
       "      <td>Kolkata Knight Riders</td>\n",
       "      <td>Royal Challengers Bangalore</td>\n",
       "    </tr>\n",
       "    <tr>\n",
       "      <th>3</th>\n",
       "      <td>2008</td>\n",
       "      <td>1</td>\n",
       "      <td>7</td>\n",
       "      <td>2</td>\n",
       "      <td>BB McCullum</td>\n",
       "      <td>RT Ponting</td>\n",
       "      <td>Z Khan</td>\n",
       "      <td>1</td>\n",
       "      <td>0</td>\n",
       "      <td>1</td>\n",
       "      <td>0</td>\n",
       "      <td>0</td>\n",
       "      <td>NaN</td>\n",
       "      <td>NaN</td>\n",
       "      <td>NaN</td>\n",
       "      <td>NaN</td>\n",
       "      <td>Kolkata Knight Riders</td>\n",
       "      <td>Royal Challengers Bangalore</td>\n",
       "    </tr>\n",
       "    <tr>\n",
       "      <th>4</th>\n",
       "      <td>2008</td>\n",
       "      <td>1</td>\n",
       "      <td>7</td>\n",
       "      <td>3</td>\n",
       "      <td>RT Ponting</td>\n",
       "      <td>BB McCullum</td>\n",
       "      <td>Z Khan</td>\n",
       "      <td>1</td>\n",
       "      <td>0</td>\n",
       "      <td>1</td>\n",
       "      <td>0</td>\n",
       "      <td>0</td>\n",
       "      <td>NaN</td>\n",
       "      <td>NaN</td>\n",
       "      <td>NaN</td>\n",
       "      <td>NaN</td>\n",
       "      <td>Kolkata Knight Riders</td>\n",
       "      <td>Royal Challengers Bangalore</td>\n",
       "    </tr>\n",
       "  </tbody>\n",
       "</table>\n",
       "</div>"
      ],
      "text/plain": [
       "   Season  inning  over  ball      batsman  non_striker     bowler  \\\n",
       "0    2008       1     6     5   RT Ponting  BB McCullum  AA Noffke   \n",
       "1    2008       1     6     6  BB McCullum   RT Ponting  AA Noffke   \n",
       "2    2008       1     7     1  BB McCullum   RT Ponting     Z Khan   \n",
       "3    2008       1     7     2  BB McCullum   RT Ponting     Z Khan   \n",
       "4    2008       1     7     3   RT Ponting  BB McCullum     Z Khan   \n",
       "\n",
       "   batsman_runs  extra_runs  total_runs  non_boundary  is_wicket  \\\n",
       "0             1           0           1             0          0   \n",
       "1             1           0           1             0          0   \n",
       "2             0           0           0             0          0   \n",
       "3             1           0           1             0          0   \n",
       "4             1           0           1             0          0   \n",
       "\n",
       "  dismissal_kind player_dismissed fielder extras_type           batting_team  \\\n",
       "0            NaN              NaN     NaN         NaN  Kolkata Knight Riders   \n",
       "1            NaN              NaN     NaN         NaN  Kolkata Knight Riders   \n",
       "2            NaN              NaN     NaN         NaN  Kolkata Knight Riders   \n",
       "3            NaN              NaN     NaN         NaN  Kolkata Knight Riders   \n",
       "4            NaN              NaN     NaN         NaN  Kolkata Knight Riders   \n",
       "\n",
       "                  bowling_team  \n",
       "0  Royal Challengers Bangalore  \n",
       "1  Royal Challengers Bangalore  \n",
       "2  Royal Challengers Bangalore  \n",
       "3  Royal Challengers Bangalore  \n",
       "4  Royal Challengers Bangalore  "
      ]
     },
     "execution_count": 181,
     "metadata": {},
     "output_type": "execute_result"
    }
   ],
   "source": [
    "season_data=match_data[['id','Season']].merge(ball_by_ball, left_on = 'id', right_on = 'id', how = 'left').drop('id', axis = 1)\n",
    "season_data.head()"
   ]
  },
  {
   "cell_type": "code",
   "execution_count": 182,
   "metadata": {},
   "outputs": [
    {
     "data": {
      "text/plain": [
       "[17937,\n",
       " 16320,\n",
       " 18864,\n",
       " 21154,\n",
       " 22453,\n",
       " 22541,\n",
       " 18909,\n",
       " 18332,\n",
       " 18862,\n",
       " 18769,\n",
       " 19901,\n",
       " 19400,\n",
       " 19352]"
      ]
     },
     "execution_count": 182,
     "metadata": {},
     "output_type": "execute_result"
    }
   ],
   "source": [
    "runs = []\n",
    "i =2008\n",
    "while i<=2020:\n",
    "    runs_scored = season_data[season_data['Season']==i]\n",
    "    runs_scored = sum(runs_scored['total_runs'])\n",
    "    \n",
    "    runs.append(runs_scored)\n",
    "    i+=1\n",
    "\n",
    "runs"
   ]
  },
  {
   "cell_type": "code",
   "execution_count": 183,
   "metadata": {},
   "outputs": [
    {
     "data": {
      "text/plain": [
       "['2008',\n",
       " '2009',\n",
       " '2010',\n",
       " '2011',\n",
       " '2012',\n",
       " '2013',\n",
       " '2014',\n",
       " '2015',\n",
       " '2016',\n",
       " '2017',\n",
       " '2018',\n",
       " '2019',\n",
       " '2020']"
      ]
     },
     "execution_count": 183,
     "metadata": {},
     "output_type": "execute_result"
    }
   ],
   "source": [
    "k"
   ]
  },
  {
   "cell_type": "code",
   "execution_count": 184,
   "metadata": {},
   "outputs": [
    {
     "data": {
      "image/png": "[encoded data removed]",
      "text/plain": [
       "<Figure size 432x288 with 1 Axes>"
      ]
     },
     "metadata": {
      "needs_background": "light"
     },
     "output_type": "display_data"
    }
   ],
   "source": [
    "plt.plot(k,runs)\n",
    "plt.grid(True ,color=\"grey\" ,linestyle=\"--\")\n",
    "plt.show()"
   ]
  },
  {
   "attachments": {},
   "cell_type": "markdown",
   "metadata": {},
   "source": [
    "What lead to sharp increase in total runs after 2009 and then a sharp decrease ?"
   ]
  },
  {
   "cell_type": "code",
   "execution_count": 185,
   "metadata": {},
   "outputs": [
    {
     "data": {
      "text/html": [
       "<div>\n",
       "<style scoped>\n",
       "    .dataframe tbody tr th:only-of-type {\n",
       "        vertical-align: middle;\n",
       "    }\n",
       "\n",
       "    .dataframe tbody tr th {\n",
       "        vertical-align: top;\n",
       "    }\n",
       "\n",
       "    .dataframe thead th {\n",
       "        text-align: right;\n",
       "    }\n",
       "</style>\n",
       "<table border=\"1\" class=\"dataframe\">\n",
       "  <thead>\n",
       "    <tr style=\"text-align: right;\">\n",
       "      <th></th>\n",
       "      <th>Season</th>\n",
       "      <th>Number of teams</th>\n",
       "      <th>total runs</th>\n",
       "    </tr>\n",
       "  </thead>\n",
       "  <tbody>\n",
       "    <tr>\n",
       "      <th>0</th>\n",
       "      <td>2008</td>\n",
       "      <td>8</td>\n",
       "      <td>17937</td>\n",
       "    </tr>\n",
       "    <tr>\n",
       "      <th>1</th>\n",
       "      <td>2009</td>\n",
       "      <td>7</td>\n",
       "      <td>16320</td>\n",
       "    </tr>\n",
       "    <tr>\n",
       "      <th>2</th>\n",
       "      <td>2010</td>\n",
       "      <td>8</td>\n",
       "      <td>18864</td>\n",
       "    </tr>\n",
       "    <tr>\n",
       "      <th>3</th>\n",
       "      <td>2011</td>\n",
       "      <td>10</td>\n",
       "      <td>21154</td>\n",
       "    </tr>\n",
       "    <tr>\n",
       "      <th>4</th>\n",
       "      <td>2012</td>\n",
       "      <td>9</td>\n",
       "      <td>22453</td>\n",
       "    </tr>\n",
       "    <tr>\n",
       "      <th>5</th>\n",
       "      <td>2013</td>\n",
       "      <td>9</td>\n",
       "      <td>22541</td>\n",
       "    </tr>\n",
       "    <tr>\n",
       "      <th>6</th>\n",
       "      <td>2014</td>\n",
       "      <td>8</td>\n",
       "      <td>18909</td>\n",
       "    </tr>\n",
       "    <tr>\n",
       "      <th>7</th>\n",
       "      <td>2015</td>\n",
       "      <td>8</td>\n",
       "      <td>18332</td>\n",
       "    </tr>\n",
       "    <tr>\n",
       "      <th>8</th>\n",
       "      <td>2016</td>\n",
       "      <td>8</td>\n",
       "      <td>18862</td>\n",
       "    </tr>\n",
       "    <tr>\n",
       "      <th>9</th>\n",
       "      <td>2017</td>\n",
       "      <td>8</td>\n",
       "      <td>18769</td>\n",
       "    </tr>\n",
       "    <tr>\n",
       "      <th>10</th>\n",
       "      <td>2018</td>\n",
       "      <td>8</td>\n",
       "      <td>19901</td>\n",
       "    </tr>\n",
       "    <tr>\n",
       "      <th>11</th>\n",
       "      <td>2019</td>\n",
       "      <td>8</td>\n",
       "      <td>19400</td>\n",
       "    </tr>\n",
       "    <tr>\n",
       "      <th>12</th>\n",
       "      <td>2020</td>\n",
       "      <td>8</td>\n",
       "      <td>19352</td>\n",
       "    </tr>\n",
       "  </tbody>\n",
       "</table>\n",
       "</div>"
      ],
      "text/plain": [
       "   Season  Number of teams  total runs\n",
       "0    2008                8       17937\n",
       "1    2009                7       16320\n",
       "2    2010                8       18864\n",
       "3    2011               10       21154\n",
       "4    2012                9       22453\n",
       "5    2013                9       22541\n",
       "6    2014                8       18909\n",
       "7    2015                8       18332\n",
       "8    2016                8       18862\n",
       "9    2017                8       18769\n",
       "10   2018                8       19901\n",
       "11   2019                8       19400\n",
       "12   2020                8       19352"
      ]
     },
     "execution_count": 185,
     "metadata": {},
     "output_type": "execute_result"
    }
   ],
   "source": [
    "data = {'Season':k,'Number of teams':l,'total runs':runs}\n",
    "season_run = pd.DataFrame(data)\n",
    "season_run"
   ]
  },
  {
   "cell_type": "code",
   "execution_count": 186,
   "metadata": {},
   "outputs": [
    {
     "data": {
      "image/png": "[encoded data removed]",
      "text/plain": [
       "<Figure size 432x288 with 2 Axes>"
      ]
     },
     "metadata": {
      "needs_background": "light"
     },
     "output_type": "display_data"
    }
   ],
   "source": [
    "matrix = season_run[[\"Number of teams\", \"total runs\"]].corr().round(2)\n",
    "sns.heatmap(matrix, annot=True)\n",
    "plt.show()"
   ]
  },
  {
   "attachments": {},
   "cell_type": "markdown",
   "metadata": {},
   "source": [
    "This shows that there is strong correlation beteen the number of teams and the runs scored. Since the total number of teams increase the number of matches and hence the total runs scored."
   ]
  },
  {
   "attachments": {},
   "cell_type": "markdown",
   "metadata": {},
   "source": [
    "We can also see from the plot that total runs were lowest in 2009, since the number of teams(and hence the total number of matches) were lowest in 2009"
   ]
  },
  {
   "attachments": {},
   "cell_type": "markdown",
   "metadata": {},
   "source": [
    "#### Average runs per match"
   ]
  },
  {
   "cell_type": "code",
   "execution_count": 187,
   "metadata": {},
   "outputs": [],
   "source": [
    "# Average runs\n",
    "season_run['Avg runs'] = season_run['total runs']/season_matches['matches']"
   ]
  },
  {
   "cell_type": "code",
   "execution_count": 188,
   "metadata": {},
   "outputs": [
    {
     "data": {
      "text/html": [
       "<div>\n",
       "<style scoped>\n",
       "    .dataframe tbody tr th:only-of-type {\n",
       "        vertical-align: middle;\n",
       "    }\n",
       "\n",
       "    .dataframe tbody tr th {\n",
       "        vertical-align: top;\n",
       "    }\n",
       "\n",
       "    .dataframe thead th {\n",
       "        text-align: right;\n",
       "    }\n",
       "</style>\n",
       "<table border=\"1\" class=\"dataframe\">\n",
       "  <thead>\n",
       "    <tr style=\"text-align: right;\">\n",
       "      <th></th>\n",
       "      <th>Season</th>\n",
       "      <th>Number of teams</th>\n",
       "      <th>total runs</th>\n",
       "      <th>Avg runs</th>\n",
       "    </tr>\n",
       "  </thead>\n",
       "  <tbody>\n",
       "    <tr>\n",
       "      <th>0</th>\n",
       "      <td>2008</td>\n",
       "      <td>8</td>\n",
       "      <td>17937</td>\n",
       "      <td>309.258621</td>\n",
       "    </tr>\n",
       "    <tr>\n",
       "      <th>1</th>\n",
       "      <td>2009</td>\n",
       "      <td>7</td>\n",
       "      <td>16320</td>\n",
       "      <td>286.315789</td>\n",
       "    </tr>\n",
       "    <tr>\n",
       "      <th>2</th>\n",
       "      <td>2010</td>\n",
       "      <td>8</td>\n",
       "      <td>18864</td>\n",
       "      <td>314.400000</td>\n",
       "    </tr>\n",
       "    <tr>\n",
       "      <th>3</th>\n",
       "      <td>2011</td>\n",
       "      <td>10</td>\n",
       "      <td>21154</td>\n",
       "      <td>289.780822</td>\n",
       "    </tr>\n",
       "    <tr>\n",
       "      <th>4</th>\n",
       "      <td>2012</td>\n",
       "      <td>9</td>\n",
       "      <td>22453</td>\n",
       "      <td>303.418919</td>\n",
       "    </tr>\n",
       "    <tr>\n",
       "      <th>5</th>\n",
       "      <td>2013</td>\n",
       "      <td>9</td>\n",
       "      <td>22541</td>\n",
       "      <td>296.592105</td>\n",
       "    </tr>\n",
       "    <tr>\n",
       "      <th>6</th>\n",
       "      <td>2014</td>\n",
       "      <td>8</td>\n",
       "      <td>18909</td>\n",
       "      <td>315.150000</td>\n",
       "    </tr>\n",
       "    <tr>\n",
       "      <th>7</th>\n",
       "      <td>2015</td>\n",
       "      <td>8</td>\n",
       "      <td>18332</td>\n",
       "      <td>310.711864</td>\n",
       "    </tr>\n",
       "    <tr>\n",
       "      <th>8</th>\n",
       "      <td>2016</td>\n",
       "      <td>8</td>\n",
       "      <td>18862</td>\n",
       "      <td>314.366667</td>\n",
       "    </tr>\n",
       "    <tr>\n",
       "      <th>9</th>\n",
       "      <td>2017</td>\n",
       "      <td>8</td>\n",
       "      <td>18769</td>\n",
       "      <td>318.118644</td>\n",
       "    </tr>\n",
       "    <tr>\n",
       "      <th>10</th>\n",
       "      <td>2018</td>\n",
       "      <td>8</td>\n",
       "      <td>19901</td>\n",
       "      <td>331.683333</td>\n",
       "    </tr>\n",
       "    <tr>\n",
       "      <th>11</th>\n",
       "      <td>2019</td>\n",
       "      <td>8</td>\n",
       "      <td>19400</td>\n",
       "      <td>323.333333</td>\n",
       "    </tr>\n",
       "    <tr>\n",
       "      <th>12</th>\n",
       "      <td>2020</td>\n",
       "      <td>8</td>\n",
       "      <td>19352</td>\n",
       "      <td>322.533333</td>\n",
       "    </tr>\n",
       "  </tbody>\n",
       "</table>\n",
       "</div>"
      ],
      "text/plain": [
       "   Season  Number of teams  total runs    Avg runs\n",
       "0    2008                8       17937  309.258621\n",
       "1    2009                7       16320  286.315789\n",
       "2    2010                8       18864  314.400000\n",
       "3    2011               10       21154  289.780822\n",
       "4    2012                9       22453  303.418919\n",
       "5    2013                9       22541  296.592105\n",
       "6    2014                8       18909  315.150000\n",
       "7    2015                8       18332  310.711864\n",
       "8    2016                8       18862  314.366667\n",
       "9    2017                8       18769  318.118644\n",
       "10   2018                8       19901  331.683333\n",
       "11   2019                8       19400  323.333333\n",
       "12   2020                8       19352  322.533333"
      ]
     },
     "execution_count": 188,
     "metadata": {},
     "output_type": "execute_result"
    }
   ],
   "source": [
    "season_run"
   ]
  },
  {
   "attachments": {},
   "cell_type": "markdown",
   "metadata": {},
   "source": [
    "##### Average runs per innings"
   ]
  },
  {
   "cell_type": "code",
   "execution_count": 189,
   "metadata": {},
   "outputs": [
    {
     "data": {
      "image/png": "[encoded data removed]",
      "text/plain": [
       "<Figure size 432x288 with 1 Axes>"
      ]
     },
     "metadata": {
      "needs_background": "light"
     },
     "output_type": "display_data"
    }
   ],
   "source": [
    "plt.plot(k,season_run['Avg runs']/2)\n",
    "plt.grid(True ,color=\"grey\" ,linestyle=\"--\")\n",
    "plt.show()"
   ]
  },
  {
   "attachments": {},
   "cell_type": "markdown",
   "metadata": {},
   "source": [
    "The above graph shows that the average runs scored per innings were lowest in 2009 and highest in 2018.\n",
    "\n",
    "The reason for lower average score in 2009 was because the tournament was held in South Africa, where the pitches are low scoring.\n",
    "\n",
    "The average runs scored per innigns was 155+ after 2013 due to entry of new young players in IPL who were quite aggressive with the bat."
   ]
  },
  {
   "attachments": {},
   "cell_type": "markdown",
   "metadata": {},
   "source": [
    "#### Analysing extra runs"
   ]
  },
  {
   "cell_type": "code",
   "execution_count": 190,
   "metadata": {},
   "outputs": [
    {
     "data": {
      "text/plain": [
       "[1128, 976, 1129, 1226, 1130, 1114, 987, 923, 900, 862, 803, 827, 844]"
      ]
     },
     "execution_count": 190,
     "metadata": {},
     "output_type": "execute_result"
    }
   ],
   "source": [
    "extra = []\n",
    "i = 2008\n",
    "while i<=2020:\n",
    "    extra_run = season_data[season_data['Season']==i]\n",
    "    extra_run = sum(extra_run['extra_runs'])\n",
    "    extra.append(extra_run)\n",
    "    i+=1\n",
    "extra"
   ]
  },
  {
   "cell_type": "code",
   "execution_count": 191,
   "metadata": {},
   "outputs": [
    {
     "data": {
      "image/png": "[encoded data removed]",
      "text/plain": [
       "<Figure size 432x288 with 1 Axes>"
      ]
     },
     "metadata": {
      "needs_background": "light"
     },
     "output_type": "display_data"
    }
   ],
   "source": [
    "plt.plot(k,extra)\n",
    "plt.grid(True ,color=\"grey\" ,linestyle=\"--\")\n",
    "plt.show()"
   ]
  },
  {
   "attachments": {},
   "cell_type": "markdown",
   "metadata": {},
   "source": [
    "##### Extra runs per matches"
   ]
  },
  {
   "cell_type": "code",
   "execution_count": 192,
   "metadata": {},
   "outputs": [
    {
     "data": {
      "image/png": "[encoded data removed]",
      "text/plain": [
       "<Figure size 432x288 with 1 Axes>"
      ]
     },
     "metadata": {
      "needs_background": "light"
     },
     "output_type": "display_data"
    }
   ],
   "source": [
    "avg_extra = extra/season_matches['matches']\n",
    "plt.plot(k,avg_extra)\n",
    "plt.grid(True ,color=\"grey\" ,linestyle=\"--\")\n",
    "plt.show()"
   ]
  },
  {
   "attachments": {},
   "cell_type": "markdown",
   "metadata": {},
   "source": [
    "This shows an interesting trend that the average extra runs per match has been decreasing over the years.\n",
    "The sharp drop came in the years between 2010 to 2013"
   ]
  },
  {
   "attachments": {},
   "cell_type": "markdown",
   "metadata": {},
   "source": [
    "It is also interesting to observe that the extra runs were lowest in `2018 season` which actually has the highest total runs scored"
   ]
  },
  {
   "attachments": {},
   "cell_type": "markdown",
   "metadata": {},
   "source": [
    "#### Team with highest avg runs"
   ]
  },
  {
   "cell_type": "code",
   "execution_count": 194,
   "metadata": {},
   "outputs": [
    {
     "data": {
      "text/plain": [
       "[28363,\n",
       " 11463,\n",
       " 5296,\n",
       " 24285,\n",
       " 4856,\n",
       " 30017,\n",
       " 1901,\n",
       " 29383,\n",
       " 32286,\n",
       " 6358,\n",
       " 24507,\n",
       " 4533,\n",
       " 30214,\n",
       " 19332]"
      ]
     },
     "execution_count": 194,
     "metadata": {},
     "output_type": "execute_result"
    }
   ],
   "source": [
    "th = teams['Team Name'].tolist()\n",
    "th\n",
    "runs_list = []\n",
    "for i in range(0,len(th)):\n",
    "    total_runs = season_data[season_data['batting_team']==th[i]]\n",
    "    total_runs = sum(total_runs['total_runs'])\n",
    "    runs_list.append(total_runs)\n",
    "runs_list"
   ]
  },
  {
   "cell_type": "code",
   "execution_count": 195,
   "metadata": {},
   "outputs": [
    {
     "data": {
      "text/html": [
       "<div>\n",
       "<style scoped>\n",
       "    .dataframe tbody tr th:only-of-type {\n",
       "        vertical-align: middle;\n",
       "    }\n",
       "\n",
       "    .dataframe tbody tr th {\n",
       "        vertical-align: top;\n",
       "    }\n",
       "\n",
       "    .dataframe thead th {\n",
       "        text-align: right;\n",
       "    }\n",
       "</style>\n",
       "<table border=\"1\" class=\"dataframe\">\n",
       "  <thead>\n",
       "    <tr style=\"text-align: right;\">\n",
       "      <th></th>\n",
       "      <th>Team</th>\n",
       "      <th>Runs</th>\n",
       "      <th>Average runs</th>\n",
       "    </tr>\n",
       "  </thead>\n",
       "  <tbody>\n",
       "    <tr>\n",
       "      <th>0</th>\n",
       "      <td>Gujarat Lions</td>\n",
       "      <td>4856</td>\n",
       "      <td>161.866667</td>\n",
       "    </tr>\n",
       "    <tr>\n",
       "      <th>1</th>\n",
       "      <td>Delhi Capitals</td>\n",
       "      <td>5296</td>\n",
       "      <td>160.484848</td>\n",
       "    </tr>\n",
       "    <tr>\n",
       "      <th>2</th>\n",
       "      <td>Chennai Super Kings</td>\n",
       "      <td>28363</td>\n",
       "      <td>159.342697</td>\n",
       "    </tr>\n",
       "    <tr>\n",
       "      <th>3</th>\n",
       "      <td>Mumbai Indians</td>\n",
       "      <td>32286</td>\n",
       "      <td>159.044335</td>\n",
       "    </tr>\n",
       "    <tr>\n",
       "      <th>4</th>\n",
       "      <td>Kings XI Punjab</td>\n",
       "      <td>30017</td>\n",
       "      <td>157.984211</td>\n",
       "    </tr>\n",
       "    <tr>\n",
       "      <th>5</th>\n",
       "      <td>Sunrisers Hyderabad</td>\n",
       "      <td>19332</td>\n",
       "      <td>155.903226</td>\n",
       "    </tr>\n",
       "    <tr>\n",
       "      <th>6</th>\n",
       "      <td>Royal Challengers Bangalore</td>\n",
       "      <td>30214</td>\n",
       "      <td>154.943590</td>\n",
       "    </tr>\n",
       "    <tr>\n",
       "      <th>7</th>\n",
       "      <td>Kolkata Knight Riders</td>\n",
       "      <td>29383</td>\n",
       "      <td>153.036458</td>\n",
       "    </tr>\n",
       "    <tr>\n",
       "      <th>8</th>\n",
       "      <td>Deccan Chargers</td>\n",
       "      <td>11463</td>\n",
       "      <td>152.840000</td>\n",
       "    </tr>\n",
       "    <tr>\n",
       "      <th>9</th>\n",
       "      <td>Rajasthan Royals</td>\n",
       "      <td>24507</td>\n",
       "      <td>152.217391</td>\n",
       "    </tr>\n",
       "    <tr>\n",
       "      <th>10</th>\n",
       "      <td>Rising Pune Supergiant</td>\n",
       "      <td>4533</td>\n",
       "      <td>151.100000</td>\n",
       "    </tr>\n",
       "    <tr>\n",
       "      <th>11</th>\n",
       "      <td>Delhi Daredevils</td>\n",
       "      <td>24285</td>\n",
       "      <td>150.838509</td>\n",
       "    </tr>\n",
       "    <tr>\n",
       "      <th>12</th>\n",
       "      <td>Pune Warriors</td>\n",
       "      <td>6358</td>\n",
       "      <td>138.217391</td>\n",
       "    </tr>\n",
       "    <tr>\n",
       "      <th>13</th>\n",
       "      <td>Kochi Tuskers Kerala</td>\n",
       "      <td>1901</td>\n",
       "      <td>135.785714</td>\n",
       "    </tr>\n",
       "  </tbody>\n",
       "</table>\n",
       "</div>"
      ],
      "text/plain": [
       "                           Team   Runs  Average runs\n",
       "0                 Gujarat Lions   4856    161.866667\n",
       "1                Delhi Capitals   5296    160.484848\n",
       "2           Chennai Super Kings  28363    159.342697\n",
       "3                Mumbai Indians  32286    159.044335\n",
       "4               Kings XI Punjab  30017    157.984211\n",
       "5           Sunrisers Hyderabad  19332    155.903226\n",
       "6   Royal Challengers Bangalore  30214    154.943590\n",
       "7         Kolkata Knight Riders  29383    153.036458\n",
       "8               Deccan Chargers  11463    152.840000\n",
       "9              Rajasthan Royals  24507    152.217391\n",
       "10       Rising Pune Supergiant   4533    151.100000\n",
       "11             Delhi Daredevils  24285    150.838509\n",
       "12                Pune Warriors   6358    138.217391\n",
       "13         Kochi Tuskers Kerala   1901    135.785714"
      ]
     },
     "execution_count": 195,
     "metadata": {},
     "output_type": "execute_result"
    }
   ],
   "source": [
    "team_run_dict = {'Team':teams['Team Name'], 'Runs':runs_list}\n",
    "team_run = pd.DataFrame(team_run_dict)\n",
    "team_run['Average runs'] = team_run['Runs']/teams['Total Matches played']\n",
    "team_run.sort_values(by=['Average runs'],ascending=False).reset_index().drop('index',axis=1)\n"
   ]
  },
  {
   "attachments": {},
   "cell_type": "markdown",
   "metadata": {},
   "source": [
    "This Shows that Gujarat lions was the team having highest average runs and Kochi Tuskars Kerala had lowest average runs"
   ]
  },
  {
   "attachments": {},
   "cell_type": "markdown",
   "metadata": {},
   "source": [
    "The above table shows an intersting trend, that the average runs of `Delhi Daredevils` changed by 10 when their name was changed to `Delhi Capitals`"
   ]
  },
  {
   "cell_type": "code",
   "execution_count": 196,
   "metadata": {},
   "outputs": [
    {
     "data": {
      "text/plain": [
       "<matplotlib.legend.Legend at 0x13e64b1eda0>"
      ]
     },
     "execution_count": 196,
     "metadata": {},
     "output_type": "execute_result"
    },
    {
     "data": {
      "image/png": "[encoded data removed]",
      "text/plain": [
       "<Figure size 1440x864 with 1 Axes>"
      ]
     },
     "metadata": {
      "needs_background": "light"
     },
     "output_type": "display_data"
    }
   ],
   "source": [
    "\n",
    "season_run_dict = {}\n",
    "plt.figure(figsize=(20, 12))\n",
    "for i in range(0,len(th)):\n",
    "    j = 2008\n",
    "    count = 0\n",
    "    lis = []\n",
    "    while j<=2020:\n",
    "        teams_data1 = season_data[season_data['Season']==j]\n",
    "        teams_data1 = teams_data1[teams_data1['batting_team']==th[i]]\n",
    "        lis.append(sum(teams_data1['total_runs']))\n",
    "        j+=1\n",
    "    season_run_dict[th[i]] = lis\n",
    "    plt.plot(season_run['Season'],lis)\n",
    "\n",
    "plt.legend(th)"
   ]
  },
  {
   "attachments": {},
   "cell_type": "markdown",
   "metadata": {},
   "source": [
    "The above plot appears quite messy, hence we plot the runs only for the teams who have played atleast 9 seasons"
   ]
  },
  {
   "cell_type": "code",
   "execution_count": 197,
   "metadata": {},
   "outputs": [
    {
     "data": {
      "text/html": [
       "<div>\n",
       "<style scoped>\n",
       "    .dataframe tbody tr th:only-of-type {\n",
       "        vertical-align: middle;\n",
       "    }\n",
       "\n",
       "    .dataframe tbody tr th {\n",
       "        vertical-align: top;\n",
       "    }\n",
       "\n",
       "    .dataframe thead th {\n",
       "        text-align: right;\n",
       "    }\n",
       "</style>\n",
       "<table border=\"1\" class=\"dataframe\">\n",
       "  <thead>\n",
       "    <tr style=\"text-align: right;\">\n",
       "      <th></th>\n",
       "      <th>Team Name</th>\n",
       "      <th>Total Matches played</th>\n",
       "      <th>Season Played</th>\n",
       "    </tr>\n",
       "  </thead>\n",
       "  <tbody>\n",
       "    <tr>\n",
       "      <th>0</th>\n",
       "      <td>Chennai Super Kings</td>\n",
       "      <td>178</td>\n",
       "      <td>11</td>\n",
       "    </tr>\n",
       "    <tr>\n",
       "      <th>1</th>\n",
       "      <td>Deccan Chargers</td>\n",
       "      <td>75</td>\n",
       "      <td>5</td>\n",
       "    </tr>\n",
       "    <tr>\n",
       "      <th>2</th>\n",
       "      <td>Delhi Capitals</td>\n",
       "      <td>33</td>\n",
       "      <td>2</td>\n",
       "    </tr>\n",
       "    <tr>\n",
       "      <th>3</th>\n",
       "      <td>Delhi Daredevils</td>\n",
       "      <td>161</td>\n",
       "      <td>11</td>\n",
       "    </tr>\n",
       "    <tr>\n",
       "      <th>4</th>\n",
       "      <td>Gujarat Lions</td>\n",
       "      <td>30</td>\n",
       "      <td>2</td>\n",
       "    </tr>\n",
       "    <tr>\n",
       "      <th>5</th>\n",
       "      <td>Kings XI Punjab</td>\n",
       "      <td>190</td>\n",
       "      <td>13</td>\n",
       "    </tr>\n",
       "    <tr>\n",
       "      <th>6</th>\n",
       "      <td>Kochi Tuskers Kerala</td>\n",
       "      <td>14</td>\n",
       "      <td>1</td>\n",
       "    </tr>\n",
       "    <tr>\n",
       "      <th>7</th>\n",
       "      <td>Kolkata Knight Riders</td>\n",
       "      <td>192</td>\n",
       "      <td>13</td>\n",
       "    </tr>\n",
       "    <tr>\n",
       "      <th>8</th>\n",
       "      <td>Mumbai Indians</td>\n",
       "      <td>203</td>\n",
       "      <td>13</td>\n",
       "    </tr>\n",
       "    <tr>\n",
       "      <th>9</th>\n",
       "      <td>Pune Warriors</td>\n",
       "      <td>46</td>\n",
       "      <td>3</td>\n",
       "    </tr>\n",
       "    <tr>\n",
       "      <th>10</th>\n",
       "      <td>Rajasthan Royals</td>\n",
       "      <td>161</td>\n",
       "      <td>10</td>\n",
       "    </tr>\n",
       "    <tr>\n",
       "      <th>11</th>\n",
       "      <td>Rising Pune Supergiant</td>\n",
       "      <td>30</td>\n",
       "      <td>2</td>\n",
       "    </tr>\n",
       "    <tr>\n",
       "      <th>12</th>\n",
       "      <td>Royal Challengers Bangalore</td>\n",
       "      <td>195</td>\n",
       "      <td>13</td>\n",
       "    </tr>\n",
       "    <tr>\n",
       "      <th>13</th>\n",
       "      <td>Sunrisers Hyderabad</td>\n",
       "      <td>124</td>\n",
       "      <td>8</td>\n",
       "    </tr>\n",
       "  </tbody>\n",
       "</table>\n",
       "</div>"
      ],
      "text/plain": [
       "                      Team Name  Total Matches played  Season Played\n",
       "0           Chennai Super Kings                   178             11\n",
       "1               Deccan Chargers                    75              5\n",
       "2                Delhi Capitals                    33              2\n",
       "3              Delhi Daredevils                   161             11\n",
       "4                 Gujarat Lions                    30              2\n",
       "5               Kings XI Punjab                   190             13\n",
       "6          Kochi Tuskers Kerala                    14              1\n",
       "7         Kolkata Knight Riders                   192             13\n",
       "8                Mumbai Indians                   203             13\n",
       "9                 Pune Warriors                    46              3\n",
       "10             Rajasthan Royals                   161             10\n",
       "11       Rising Pune Supergiant                    30              2\n",
       "12  Royal Challengers Bangalore                   195             13\n",
       "13          Sunrisers Hyderabad                   124              8"
      ]
     },
     "execution_count": 197,
     "metadata": {},
     "output_type": "execute_result"
    }
   ],
   "source": [
    "teams"
   ]
  },
  {
   "cell_type": "code",
   "execution_count": 198,
   "metadata": {},
   "outputs": [
    {
     "data": {
      "text/plain": [
       "<matplotlib.legend.Legend at 0x13e64bbf520>"
      ]
     },
     "execution_count": 198,
     "metadata": {},
     "output_type": "execute_result"
    },
    {
     "data": {
      "image/png": "[encoded data removed]",
      "text/plain": [
       "<Figure size 1440x864 with 1 Axes>"
      ]
     },
     "metadata": {
      "needs_background": "light"
     },
     "output_type": "display_data"
    }
   ],
   "source": [
    "\n",
    "season_run_dict = {}\n",
    "ss = teams['Season Played'].tolist()\n",
    "plt.figure(figsize=(20, 12))\n",
    "abc = []\n",
    "for i in range(0,len(th)):\n",
    "    j = 2008\n",
    "    count = 0\n",
    "    lis = []\n",
    "    if ss[i] <9:\n",
    "        continue\n",
    "    abc.append(th[i])\n",
    "    while j<=2020:\n",
    "        teams_data1 = season_data[season_data['Season']==j]\n",
    "        teams_data1 = teams_data1[teams_data1['batting_team']==th[i]]\n",
    "        lis.append(sum(teams_data1['total_runs']))\n",
    "        j+=1\n",
    "    season_run_dict[th[i]] = lis\n",
    "    plt.plot(season_run['Season'],lis)\n",
    "\n",
    "plt.legend(abc)"
   ]
  },
  {
   "attachments": {},
   "cell_type": "markdown",
   "metadata": {},
   "source": [
    "In the above plot we see that runs scored by some teams are zero when they are not the part of the season.\n",
    "We can also see that runs by each team keeps on fluctuating and we can't comment if a team is improving or degrading"
   ]
  },
  {
   "attachments": {},
   "cell_type": "markdown",
   "metadata": {},
   "source": [
    "#### Runs conceeded by teams"
   ]
  },
  {
   "cell_type": "code",
   "execution_count": 199,
   "metadata": {},
   "outputs": [
    {
     "data": {
      "text/plain": [
       "[27245,\n",
       " 11618,\n",
       " 5351,\n",
       " 24715,\n",
       " 5079,\n",
       " 30427,\n",
       " 1986,\n",
       " 29374,\n",
       " 31158,\n",
       " 6801,\n",
       " 24705,\n",
       " 4549,\n",
       " 30596,\n",
       " 18934]"
      ]
     },
     "execution_count": 199,
     "metadata": {},
     "output_type": "execute_result"
    }
   ],
   "source": [
    "th = teams['Team Name'].tolist()\n",
    "th\n",
    "runs_list = []\n",
    "for i in range(0,len(th)):\n",
    "    total_runs = season_data[season_data['bowling_team']==th[i]]\n",
    "    total_runs = sum(total_runs['total_runs'])\n",
    "    runs_list.append(total_runs)\n",
    "runs_list\n"
   ]
  },
  {
   "cell_type": "code",
   "execution_count": 200,
   "metadata": {},
   "outputs": [
    {
     "data": {
      "text/html": [
       "<div>\n",
       "<style scoped>\n",
       "    .dataframe tbody tr th:only-of-type {\n",
       "        vertical-align: middle;\n",
       "    }\n",
       "\n",
       "    .dataframe tbody tr th {\n",
       "        vertical-align: top;\n",
       "    }\n",
       "\n",
       "    .dataframe thead th {\n",
       "        text-align: right;\n",
       "    }\n",
       "</style>\n",
       "<table border=\"1\" class=\"dataframe\">\n",
       "  <thead>\n",
       "    <tr style=\"text-align: right;\">\n",
       "      <th></th>\n",
       "      <th>Team</th>\n",
       "      <th>Runs</th>\n",
       "      <th>Average Conceeded runs</th>\n",
       "    </tr>\n",
       "  </thead>\n",
       "  <tbody>\n",
       "    <tr>\n",
       "      <th>0</th>\n",
       "      <td>Gujarat Lions</td>\n",
       "      <td>5079</td>\n",
       "      <td>169.300000</td>\n",
       "    </tr>\n",
       "    <tr>\n",
       "      <th>1</th>\n",
       "      <td>Delhi Capitals</td>\n",
       "      <td>5351</td>\n",
       "      <td>162.151515</td>\n",
       "    </tr>\n",
       "    <tr>\n",
       "      <th>2</th>\n",
       "      <td>Kings XI Punjab</td>\n",
       "      <td>30427</td>\n",
       "      <td>160.142105</td>\n",
       "    </tr>\n",
       "    <tr>\n",
       "      <th>3</th>\n",
       "      <td>Royal Challengers Bangalore</td>\n",
       "      <td>30596</td>\n",
       "      <td>156.902564</td>\n",
       "    </tr>\n",
       "    <tr>\n",
       "      <th>4</th>\n",
       "      <td>Deccan Chargers</td>\n",
       "      <td>11618</td>\n",
       "      <td>154.906667</td>\n",
       "    </tr>\n",
       "    <tr>\n",
       "      <th>5</th>\n",
       "      <td>Delhi Daredevils</td>\n",
       "      <td>24715</td>\n",
       "      <td>153.509317</td>\n",
       "    </tr>\n",
       "    <tr>\n",
       "      <th>6</th>\n",
       "      <td>Mumbai Indians</td>\n",
       "      <td>31158</td>\n",
       "      <td>153.487685</td>\n",
       "    </tr>\n",
       "    <tr>\n",
       "      <th>7</th>\n",
       "      <td>Rajasthan Royals</td>\n",
       "      <td>24705</td>\n",
       "      <td>153.447205</td>\n",
       "    </tr>\n",
       "    <tr>\n",
       "      <th>8</th>\n",
       "      <td>Chennai Super Kings</td>\n",
       "      <td>27245</td>\n",
       "      <td>153.061798</td>\n",
       "    </tr>\n",
       "    <tr>\n",
       "      <th>9</th>\n",
       "      <td>Kolkata Knight Riders</td>\n",
       "      <td>29374</td>\n",
       "      <td>152.989583</td>\n",
       "    </tr>\n",
       "    <tr>\n",
       "      <th>10</th>\n",
       "      <td>Sunrisers Hyderabad</td>\n",
       "      <td>18934</td>\n",
       "      <td>152.693548</td>\n",
       "    </tr>\n",
       "    <tr>\n",
       "      <th>11</th>\n",
       "      <td>Rising Pune Supergiant</td>\n",
       "      <td>4549</td>\n",
       "      <td>151.633333</td>\n",
       "    </tr>\n",
       "    <tr>\n",
       "      <th>12</th>\n",
       "      <td>Pune Warriors</td>\n",
       "      <td>6801</td>\n",
       "      <td>147.847826</td>\n",
       "    </tr>\n",
       "    <tr>\n",
       "      <th>13</th>\n",
       "      <td>Kochi Tuskers Kerala</td>\n",
       "      <td>1986</td>\n",
       "      <td>141.857143</td>\n",
       "    </tr>\n",
       "  </tbody>\n",
       "</table>\n",
       "</div>"
      ],
      "text/plain": [
       "                           Team   Runs  Average Conceeded runs\n",
       "0                 Gujarat Lions   5079              169.300000\n",
       "1                Delhi Capitals   5351              162.151515\n",
       "2               Kings XI Punjab  30427              160.142105\n",
       "3   Royal Challengers Bangalore  30596              156.902564\n",
       "4               Deccan Chargers  11618              154.906667\n",
       "5              Delhi Daredevils  24715              153.509317\n",
       "6                Mumbai Indians  31158              153.487685\n",
       "7              Rajasthan Royals  24705              153.447205\n",
       "8           Chennai Super Kings  27245              153.061798\n",
       "9         Kolkata Knight Riders  29374              152.989583\n",
       "10          Sunrisers Hyderabad  18934              152.693548\n",
       "11       Rising Pune Supergiant   4549              151.633333\n",
       "12                Pune Warriors   6801              147.847826\n",
       "13         Kochi Tuskers Kerala   1986              141.857143"
      ]
     },
     "execution_count": 200,
     "metadata": {},
     "output_type": "execute_result"
    }
   ],
   "source": [
    "team_run_dict = {'Team':teams['Team Name'], 'Runs':runs_list}\n",
    "team_run = pd.DataFrame(team_run_dict)\n",
    "team_run['Average Conceeded runs'] = team_run['Runs']/teams['Total Matches played']\n",
    "team_run.sort_values(by=['Average Conceeded runs'],ascending=False).reset_index().drop('index',axis=1)"
   ]
  },
  {
   "attachments": {},
   "cell_type": "markdown",
   "metadata": {},
   "source": [
    "#### Player with highest runs"
   ]
  },
  {
   "cell_type": "code",
   "execution_count": 201,
   "metadata": {},
   "outputs": [
    {
     "name": "stdout",
     "output_type": "stream",
     "text": [
      "Max runs are scored by V Kohli [5878 runs]\n"
     ]
    }
   ],
   "source": [
    "players = season_data['batsman'].unique().tolist()\n",
    "pl = players[0]\n",
    "player_runs = season_data[season_data['batsman']==players[0]]\n",
    "max_runs = sum(player_runs['batsman_runs'])\n",
    "player_name = players[0]\n",
    "for i in range(1,len(players)):\n",
    "    player_runs = season_data[season_data['batsman']==players[i]]\n",
    "    player_runs = sum(player_runs['batsman_runs'])\n",
    "    if player_runs > max_runs:\n",
    "        max_runs = player_runs\n",
    "        player_name = players[i]\n",
    "\n",
    "print(f'Max runs are scored by {player_name} [{max_runs} runs]')"
   ]
  },
  {
   "attachments": {},
   "cell_type": "markdown",
   "metadata": {},
   "source": [
    "#### Player with max number of runs in each season"
   ]
  },
  {
   "cell_type": "code",
   "execution_count": 202,
   "metadata": {},
   "outputs": [
    {
     "name": "stdout",
     "output_type": "stream",
     "text": [
      "Max runs scored in IPL season 2008 are by SE Marsh [616 runs]\n",
      "Max runs scored in IPL season 2009 are by ML Hayden [572 runs]\n",
      "Max runs scored in IPL season 2010 are by SR Tendulkar [618 runs]\n",
      "Max runs scored in IPL season 2011 are by CH Gayle [608 runs]\n",
      "Max runs scored in IPL season 2012 are by CH Gayle [733 runs]\n",
      "Max runs scored in IPL season 2013 are by MEK Hussey [733 runs]\n",
      "Max runs scored in IPL season 2014 are by RV Uthappa [660 runs]\n",
      "Max runs scored in IPL season 2015 are by DA Warner [562 runs]\n",
      "Max runs scored in IPL season 2016 are by V Kohli [973 runs]\n",
      "Max runs scored in IPL season 2017 are by DA Warner [641 runs]\n",
      "Max runs scored in IPL season 2018 are by KS Williamson [735 runs]\n",
      "Max runs scored in IPL season 2019 are by DA Warner [692 runs]\n",
      "Max runs scored in IPL season 2020 are by KL Rahul [670 runs]\n"
     ]
    }
   ],
   "source": [
    "j =2008\n",
    "while j <=2020:\n",
    "    season_data1 = season_data[season_data['Season']==j]\n",
    "    players = season_data1['batsman'].unique().tolist()\n",
    "    pl = players[0]\n",
    "    player_runs = season_data1[season_data1['batsman']==players[0]]\n",
    "    max_runs = sum(player_runs['batsman_runs'])\n",
    "    player_name = players[0]\n",
    "    for i in range(1,len(players)):\n",
    "        player_runs = season_data1[season_data1['batsman']==players[i]]\n",
    "        player_runs = sum(player_runs['batsman_runs'])\n",
    "        if player_runs > max_runs:\n",
    "            max_runs = player_runs\n",
    "            player_name = players[i]\n",
    "\n",
    "    print(f'Max runs scored in IPL season {j} are by {player_name} [{max_runs} runs]')\n",
    "    j+=1"
   ]
  },
  {
   "attachments": {},
   "cell_type": "markdown",
   "metadata": {},
   "source": [
    "#### Team with highest number of boundaries"
   ]
  },
  {
   "cell_type": "code",
   "execution_count": 203,
   "metadata": {},
   "outputs": [
    {
     "name": "stdout",
     "output_type": "stream",
     "text": [
      "Boundaries by Chennai Super Kings are 3429\n",
      "Boundaries by Deccan Chargers are 1362\n",
      "Boundaries by Delhi Capitals are 649\n",
      "Boundaries by Delhi Daredevils are 2961\n",
      "Boundaries by Gujarat Lions are 616\n",
      "Boundaries by Kings XI Punjab are 3705\n",
      "Boundaries by Kochi Tuskers Kerala are 223\n",
      "Boundaries by Kolkata Knight Riders are 3648\n",
      "Boundaries by Mumbai Indians are 4045\n",
      "Boundaries by Pune Warriors are 723\n",
      "Boundaries by Rajasthan Royals are 2986\n",
      "Boundaries by Rising Pune Supergiant are 525\n",
      "Boundaries by Royal Challengers Bangalore are 3734\n",
      "Boundaries by Sunrisers Hyderabad are 2264\n",
      "Hence Team with max number of boundaries is Mumbai Indians with 4045 boundaries\n"
     ]
    }
   ],
   "source": [
    "teams_names = teams['Team Name'].tolist()\n",
    "teams_names_data = season_data[season_data['batting_team']==teams_names[0]]\n",
    "teams_names_data =teams_names_data['batsman_runs'].tolist()\n",
    "count = 0\n",
    "for j in teams_names_data:\n",
    "    if  j>=4:\n",
    "        count+=1\n",
    "\n",
    "max_boundary = count\n",
    "boundary_team_name = teams_names[0]\n",
    "print(f'Boundaries by {teams_names[0]} are {count}')\n",
    "\n",
    "for i in range(1,len(teams_names)):\n",
    "    teams_names_data = season_data[season_data['batting_team']==teams_names[i]]\n",
    "    teams_names_data =  teams_names_data['batsman_runs'].tolist()\n",
    "    count = 0\n",
    "    for j in teams_names_data:\n",
    "        if j>=4:\n",
    "            count+=1\n",
    "    print(f'Boundaries by {teams_names[i]} are {count}')\n",
    "    if count > max_boundary:\n",
    "        max_boundary = count\n",
    "        boundary_team_name = teams_names[i]\n",
    "        \n",
    "print(f'Hence Team with max number of boundaries is {boundary_team_name} with {max_boundary} boundaries')\n"
   ]
  },
  {
   "attachments": {},
   "cell_type": "markdown",
   "metadata": {},
   "source": [
    "#### Bowler conceeding highest number of runs per wickets bowled(bowler should have bowled at least 20 overs )"
   ]
  },
  {
   "cell_type": "code",
   "execution_count": 204,
   "metadata": {},
   "outputs": [
    {
     "name": "stdout",
     "output_type": "stream",
     "text": [
      "Bowler giving max runs is P Amarnath with 10.954545454545455 runs per over who bowled 22.0 overs in his IPL career\n"
     ]
    }
   ],
   "source": [
    "bowler_runs = season_data['bowler'].unique().tolist()\n",
    "runs_given =season_data[season_data['bowler'] ==bowler_runs[0]]\n",
    "\n",
    "p =0 \n",
    "while len(runs_given['bowler'].tolist())/6 <20:\n",
    "    p+=1\n",
    "    runs_given = season_data[season_data['bowler'] == bowler_runs[p]]\n",
    "\n",
    "overs_bowled = len(runs_given['bowler'].tolist())/6\n",
    "runs_given = sum(runs_given['total_runs'])\n",
    "bowler_run_name = bowler_runs[p]\n",
    "max_economy = runs_given/overs_bowled\n",
    "ovb = overs_bowled    \n",
    "\n",
    "for i in range(p+1,len(bowler_runs)):\n",
    "    runs_given =season_data[season_data['bowler'] ==bowler_runs[i]]\n",
    "    overs_bowled = len(runs_given['bowler'].tolist())/6\n",
    "    runs_given = sum(runs_given['total_runs'])\n",
    "    economy = runs_given/overs_bowled\n",
    "    if overs_bowled > 20:\n",
    "        if economy > max_economy:\n",
    "            max_economy = economy\n",
    "            bowler_run_name = bowler_runs[i]\n",
    "            ovb = overs_bowled\n",
    "\n",
    "\n",
    "print(f'Bowler giving max runs is {bowler_run_name} with {max_economy} runs per over who bowled {ovb} overs in his IPL career')        "
   ]
  },
  {
   "attachments": {},
   "cell_type": "markdown",
   "metadata": {},
   "source": [
    "#### Bowler conceeding highest number of extra runs(bowler should have bowled atleast 20 overs )"
   ]
  },
  {
   "cell_type": "code",
   "execution_count": 205,
   "metadata": {},
   "outputs": [
    {
     "name": "stdout",
     "output_type": "stream",
     "text": [
      "Bowler giving max extra runs is Umar Gul with 1.2549019607843137 extra runs per over who bowled 25.5 overs in his IPL career. Total extra runs by him were 192.0\n"
     ]
    }
   ],
   "source": [
    "bowler_runs = season_data['bowler'].unique().tolist()\n",
    "runs_given =season_data[season_data['bowler'] ==bowler_runs[0]]\n",
    "\n",
    "p =0 \n",
    "while len(runs_given['bowler'].tolist())/6 <20:\n",
    "    p+=1\n",
    "    runs_given = season_data[season_data['bowler'] == bowler_runs[p]]\n",
    "\n",
    "overs_bowled = len(runs_given['bowler'].tolist())/6\n",
    "runs_given = sum(runs_given['extra_runs'])\n",
    "bowler_run_name = bowler_runs[p]\n",
    "max_economy = runs_given/overs_bowled\n",
    "ovb = overs_bowled    \n",
    "\n",
    "for i in range(p+1,len(bowler_runs)):\n",
    "    runs_given =season_data[season_data['bowler'] ==bowler_runs[i]]\n",
    "    overs_bowled = len(runs_given['bowler'].tolist())/6\n",
    "    runs_given = sum(runs_given['extra_runs'])\n",
    "    economy = runs_given/overs_bowled\n",
    "    if overs_bowled > 20:\n",
    "        if economy > max_economy:\n",
    "            max_economy = economy\n",
    "            bowler_run_name = bowler_runs[i]\n",
    "            ovb = overs_bowled\n",
    "\n",
    "\n",
    "print(f'Bowler giving max extra runs is {bowler_run_name} with {max_economy} extra runs per over who bowled {ovb} overs in his IPL career. Total extra runs by him were {max_economy*ovb*6}')   "
   ]
  },
  {
   "attachments": {},
   "cell_type": "markdown",
   "metadata": {},
   "source": [
    "## `Wicket Analysis`"
   ]
  },
  {
   "attachments": {},
   "cell_type": "markdown",
   "metadata": {},
   "source": [
    "#### Analysing the number of Wickets in each tournament"
   ]
  },
  {
   "cell_type": "code",
   "execution_count": 206,
   "metadata": {},
   "outputs": [
    {
     "data": {
      "text/plain": [
       "[690, 697, 722, 813, 858, 910, 672, 687, 666, 709, 722, 681, 668]"
      ]
     },
     "execution_count": 206,
     "metadata": {},
     "output_type": "execute_result"
    }
   ],
   "source": [
    "total_wickets = []\n",
    "\n",
    "i=2008\n",
    "while i <=2020:\n",
    "    wickets = season_data[season_data['is_wicket']==1]\n",
    "    wickets = wickets[wickets['Season'] == i ]\n",
    "    total_wickets.append(sum(wickets['is_wicket']))\n",
    "    i+=1\n",
    "\n",
    "total_wickets\n",
    "    "
   ]
  },
  {
   "cell_type": "code",
   "execution_count": 207,
   "metadata": {},
   "outputs": [
    {
     "data": {
      "text/plain": [
       "0     11.896552\n",
       "1     12.228070\n",
       "2     12.033333\n",
       "3     11.136986\n",
       "4     11.594595\n",
       "5     11.973684\n",
       "6     11.200000\n",
       "7     11.644068\n",
       "8     11.100000\n",
       "9     12.016949\n",
       "10    12.033333\n",
       "11    11.350000\n",
       "12    11.133333\n",
       "Name: matches, dtype: float64"
      ]
     },
     "execution_count": 207,
     "metadata": {},
     "output_type": "execute_result"
    }
   ],
   "source": [
    "# Average wickets per match  \n",
    "avg_wickets = total_wickets/season_matches['matches']\n",
    "avg_wickets"
   ]
  },
  {
   "cell_type": "code",
   "execution_count": 208,
   "metadata": {},
   "outputs": [
    {
     "data": {
      "image/png": "[encoded data removed]",
      "text/plain": [
       "<Figure size 432x288 with 1 Axes>"
      ]
     },
     "metadata": {
      "needs_background": "light"
     },
     "output_type": "display_data"
    }
   ],
   "source": [
    "plt.plot(k,avg_wickets)\n",
    "plt.grid(True ,color=\"grey\" ,linestyle=\"--\")\n",
    "plt.show()"
   ]
  },
  {
   "attachments": {},
   "cell_type": "markdown",
   "metadata": {},
   "source": [
    "This shows an interesting trend that the average number of wickets per match are fluctuate around 11 and 12 and don't show much variation\n",
    "\n",
    "Also we can see that average wickers per match were maximum in 2009, which could be attributed to more bowler friendly pitches in South Africa"
   ]
  },
  {
   "attachments": {},
   "cell_type": "markdown",
   "metadata": {},
   "source": [
    "#### Is there a relation between number of wickets and average runs scored per innings?"
   ]
  },
  {
   "cell_type": "code",
   "execution_count": 209,
   "metadata": {},
   "outputs": [
    {
     "data": {
      "text/html": [
       "<div>\n",
       "<style scoped>\n",
       "    .dataframe tbody tr th:only-of-type {\n",
       "        vertical-align: middle;\n",
       "    }\n",
       "\n",
       "    .dataframe tbody tr th {\n",
       "        vertical-align: top;\n",
       "    }\n",
       "\n",
       "    .dataframe thead th {\n",
       "        text-align: right;\n",
       "    }\n",
       "</style>\n",
       "<table border=\"1\" class=\"dataframe\">\n",
       "  <thead>\n",
       "    <tr style=\"text-align: right;\">\n",
       "      <th></th>\n",
       "      <th>Season</th>\n",
       "      <th>Avg Runs per match</th>\n",
       "      <th>Avg Wickets per match</th>\n",
       "    </tr>\n",
       "  </thead>\n",
       "  <tbody>\n",
       "    <tr>\n",
       "      <th>0</th>\n",
       "      <td>2008</td>\n",
       "      <td>309.258621</td>\n",
       "      <td>11.896552</td>\n",
       "    </tr>\n",
       "    <tr>\n",
       "      <th>1</th>\n",
       "      <td>2009</td>\n",
       "      <td>286.315789</td>\n",
       "      <td>12.228070</td>\n",
       "    </tr>\n",
       "    <tr>\n",
       "      <th>2</th>\n",
       "      <td>2010</td>\n",
       "      <td>314.400000</td>\n",
       "      <td>12.033333</td>\n",
       "    </tr>\n",
       "    <tr>\n",
       "      <th>3</th>\n",
       "      <td>2011</td>\n",
       "      <td>289.780822</td>\n",
       "      <td>11.136986</td>\n",
       "    </tr>\n",
       "    <tr>\n",
       "      <th>4</th>\n",
       "      <td>2012</td>\n",
       "      <td>303.418919</td>\n",
       "      <td>11.594595</td>\n",
       "    </tr>\n",
       "    <tr>\n",
       "      <th>5</th>\n",
       "      <td>2013</td>\n",
       "      <td>296.592105</td>\n",
       "      <td>11.973684</td>\n",
       "    </tr>\n",
       "    <tr>\n",
       "      <th>6</th>\n",
       "      <td>2014</td>\n",
       "      <td>315.150000</td>\n",
       "      <td>11.200000</td>\n",
       "    </tr>\n",
       "    <tr>\n",
       "      <th>7</th>\n",
       "      <td>2015</td>\n",
       "      <td>310.711864</td>\n",
       "      <td>11.644068</td>\n",
       "    </tr>\n",
       "    <tr>\n",
       "      <th>8</th>\n",
       "      <td>2016</td>\n",
       "      <td>314.366667</td>\n",
       "      <td>11.100000</td>\n",
       "    </tr>\n",
       "    <tr>\n",
       "      <th>9</th>\n",
       "      <td>2017</td>\n",
       "      <td>318.118644</td>\n",
       "      <td>12.016949</td>\n",
       "    </tr>\n",
       "    <tr>\n",
       "      <th>10</th>\n",
       "      <td>2018</td>\n",
       "      <td>331.683333</td>\n",
       "      <td>12.033333</td>\n",
       "    </tr>\n",
       "    <tr>\n",
       "      <th>11</th>\n",
       "      <td>2019</td>\n",
       "      <td>323.333333</td>\n",
       "      <td>11.350000</td>\n",
       "    </tr>\n",
       "    <tr>\n",
       "      <th>12</th>\n",
       "      <td>2020</td>\n",
       "      <td>322.533333</td>\n",
       "      <td>11.133333</td>\n",
       "    </tr>\n",
       "  </tbody>\n",
       "</table>\n",
       "</div>"
      ],
      "text/plain": [
       "   Season  Avg Runs per match  Avg Wickets per match\n",
       "0    2008          309.258621              11.896552\n",
       "1    2009          286.315789              12.228070\n",
       "2    2010          314.400000              12.033333\n",
       "3    2011          289.780822              11.136986\n",
       "4    2012          303.418919              11.594595\n",
       "5    2013          296.592105              11.973684\n",
       "6    2014          315.150000              11.200000\n",
       "7    2015          310.711864              11.644068\n",
       "8    2016          314.366667              11.100000\n",
       "9    2017          318.118644              12.016949\n",
       "10   2018          331.683333              12.033333\n",
       "11   2019          323.333333              11.350000\n",
       "12   2020          322.533333              11.133333"
      ]
     },
     "execution_count": 209,
     "metadata": {},
     "output_type": "execute_result"
    }
   ],
   "source": [
    "data = {'Season':k,'Avg Runs per match':season_run['Avg runs'],'Avg Wickets per match':avg_wickets}\n",
    "run_wicket = pd.DataFrame(data)\n",
    "run_wicket"
   ]
  },
  {
   "cell_type": "code",
   "execution_count": 210,
   "metadata": {},
   "outputs": [
    {
     "data": {
      "image/png": "[encoded data removed]",
      "text/plain": [
       "<Figure size 432x288 with 2 Axes>"
      ]
     },
     "metadata": {
      "needs_background": "light"
     },
     "output_type": "display_data"
    }
   ],
   "source": [
    "matrix = run_wicket[[\"Avg Runs per match\", \"Avg Wickets per match\"]].corr().round(2)\n",
    "sns.heatmap(matrix, annot=True)\n",
    "plt.show()"
   ]
  },
  {
   "attachments": {},
   "cell_type": "markdown",
   "metadata": {},
   "source": [
    "This shows that there is not much correlation between total wickets per match and avg runs scored per match. \n",
    "\n",
    "Infact we can see that 2018 with highest number of avg run per match had 3rd highest number wickets per match  "
   ]
  },
  {
   "attachments": {},
   "cell_type": "markdown",
   "metadata": {},
   "source": [
    "#### Bowler with maximum number of Wickets"
   ]
  },
  {
   "cell_type": "code",
   "execution_count": 211,
   "metadata": {},
   "outputs": [
    {
     "name": "stdout",
     "output_type": "stream",
     "text": [
      "Bowler with maximum number of wickets SL Malinga with 188 wickets\n"
     ]
    }
   ],
   "source": [
    "bowlers = season_data['bowler'].unique().tolist()\n",
    "bowler_data = season_data[season_data['bowler']==bowlers[0]]\n",
    "count =0\n",
    "for i in bowler_data['is_wicket']:\n",
    "     if i==1:\n",
    "          count+=1\n",
    "max_wickets = count\n",
    "bowler_name = bowlers[0]\n",
    "for i in range(1,len(bowlers)):\n",
    "    bowler_data = season_data[season_data['bowler']==bowlers[i]]\n",
    "    count =0\n",
    "    for j in bowler_data['is_wicket']:\n",
    "         if j==1:\n",
    "              count+=1\n",
    "    if count>max_wickets:\n",
    "         max_wickets = count\n",
    "         bowler_name = bowlers[i]\n",
    "\n",
    "print(f'Bowler with maximum number of wickets {bowler_name} with {max_wickets} wickets')"
   ]
  },
  {
   "attachments": {},
   "cell_type": "markdown",
   "metadata": {},
   "source": [
    "#### Bowler with max number of wickets in each season"
   ]
  },
  {
   "cell_type": "code",
   "execution_count": 212,
   "metadata": {},
   "outputs": [
    {
     "name": "stdout",
     "output_type": "stream",
     "text": [
      "Bowler with maximum number of wickets in IPL season 2008 is Sohail Tanvir with 24 wickets\n",
      "Bowler with maximum number of wickets in IPL season 2009 is RP Singh with 26 wickets\n",
      "Bowler with maximum number of wickets in IPL season 2010 is PP Ojha with 22 wickets\n",
      "Bowler with maximum number of wickets in IPL season 2011 is SL Malinga with 30 wickets\n",
      "Bowler with maximum number of wickets in IPL season 2012 is M Morkel with 30 wickets\n",
      "Bowler with maximum number of wickets in IPL season 2013 is DJ Bravo with 34 wickets\n",
      "Bowler with maximum number of wickets in IPL season 2014 is MM Sharma with 26 wickets\n",
      "Bowler with maximum number of wickets in IPL season 2015 is DJ Bravo with 28 wickets\n",
      "Bowler with maximum number of wickets in IPL season 2016 is B Kumar with 24 wickets\n",
      "Bowler with maximum number of wickets in IPL season 2017 is B Kumar with 28 wickets\n",
      "Bowler with maximum number of wickets in IPL season 2018 is AJ Tye with 28 wickets\n",
      "Bowler with maximum number of wickets in IPL season 2019 is K Rabada with 28 wickets\n",
      "Bowler with maximum number of wickets in IPL season 2020 is K Rabada with 30 wickets\n"
     ]
    }
   ],
   "source": [
    "k =2008\n",
    "while k<=2020:\n",
    "    season_data2 = season_data[season_data['Season']==k]\n",
    "    bowlers = season_data2['bowler'].unique().tolist()\n",
    "    bowler_data = season_data2[season_data2['bowler']==bowlers[0]]\n",
    "    count =0\n",
    "    for i in bowler_data['is_wicket']:\n",
    "        if i==1:\n",
    "            count+=1\n",
    "    max_wickets = count\n",
    "    bowler_name = bowlers[0]\n",
    "    for i in range(1,len(bowlers)):\n",
    "        bowler_data = season_data2[season_data2['bowler']==bowlers[i]]\n",
    "        count =0\n",
    "        for j in bowler_data['is_wicket']:\n",
    "            if j==1:\n",
    "                  count+=1\n",
    "        if count>max_wickets:\n",
    "            max_wickets = count\n",
    "            bowler_name = bowlers[i]\n",
    "\n",
    "    print(f'Bowler with maximum number of wickets in IPL season {k} is {bowler_name} with {max_wickets} wickets')\n",
    "    k+=1"
   ]
  },
  {
   "attachments": {},
   "cell_type": "markdown",
   "metadata": {},
   "source": [
    "## Win/Loss Analysis"
   ]
  },
  {
   "attachments": {},
   "cell_type": "markdown",
   "metadata": {},
   "source": [
    "#### Relation between team batting or bowling first and the winner"
   ]
  },
  {
   "cell_type": "code",
   "execution_count": 213,
   "metadata": {},
   "outputs": [
    {
     "data": {
      "text/plain": [
       "wickets    435\n",
       "runs       364\n",
       "tie         13\n",
       "Name: result, dtype: int64"
      ]
     },
     "execution_count": 213,
     "metadata": {},
     "output_type": "execute_result"
    }
   ],
   "source": [
    "match_data['result'].value_counts()"
   ]
  },
  {
   "attachments": {},
   "cell_type": "markdown",
   "metadata": {},
   "source": [
    "We can see that 435 out of 816 matches was won by team batting second while 364 matches was won by team batting first."
   ]
  },
  {
   "attachments": {},
   "cell_type": "markdown",
   "metadata": {},
   "source": [
    "#### Number of times team have won the tournament"
   ]
  },
  {
   "cell_type": "code",
   "execution_count": 214,
   "metadata": {},
   "outputs": [],
   "source": [
    "winning_teams = match_data[['Season','winner']]\n",
    "\n",
    "winners_team = {}\n",
    "for i in sorted(winning_teams.Season.unique()):\n",
    "    winners_team[i] = winning_teams[winning_teams.Season == i]['winner'].tail(1).values[0]\n",
    "    \n",
    "winners = pd.Series(winners_team)\n",
    "winners = pd.DataFrame(winners, columns=['team'])"
   ]
  },
  {
   "cell_type": "code",
   "execution_count": 215,
   "metadata": {},
   "outputs": [
    {
     "data": {
      "text/html": [
       "<div>\n",
       "<style scoped>\n",
       "    .dataframe tbody tr th:only-of-type {\n",
       "        vertical-align: middle;\n",
       "    }\n",
       "\n",
       "    .dataframe tbody tr th {\n",
       "        vertical-align: top;\n",
       "    }\n",
       "\n",
       "    .dataframe thead th {\n",
       "        text-align: right;\n",
       "    }\n",
       "</style>\n",
       "<table border=\"1\" class=\"dataframe\">\n",
       "  <thead>\n",
       "    <tr style=\"text-align: right;\">\n",
       "      <th></th>\n",
       "      <th>team</th>\n",
       "    </tr>\n",
       "  </thead>\n",
       "  <tbody>\n",
       "    <tr>\n",
       "      <th>2008</th>\n",
       "      <td>Rajasthan Royals</td>\n",
       "    </tr>\n",
       "    <tr>\n",
       "      <th>2009</th>\n",
       "      <td>Deccan Chargers</td>\n",
       "    </tr>\n",
       "    <tr>\n",
       "      <th>2010</th>\n",
       "      <td>Chennai Super Kings</td>\n",
       "    </tr>\n",
       "    <tr>\n",
       "      <th>2011</th>\n",
       "      <td>Chennai Super Kings</td>\n",
       "    </tr>\n",
       "    <tr>\n",
       "      <th>2012</th>\n",
       "      <td>Kolkata Knight Riders</td>\n",
       "    </tr>\n",
       "    <tr>\n",
       "      <th>2013</th>\n",
       "      <td>Mumbai Indians</td>\n",
       "    </tr>\n",
       "    <tr>\n",
       "      <th>2014</th>\n",
       "      <td>Kolkata Knight Riders</td>\n",
       "    </tr>\n",
       "    <tr>\n",
       "      <th>2015</th>\n",
       "      <td>Mumbai Indians</td>\n",
       "    </tr>\n",
       "    <tr>\n",
       "      <th>2016</th>\n",
       "      <td>Sunrisers Hyderabad</td>\n",
       "    </tr>\n",
       "    <tr>\n",
       "      <th>2017</th>\n",
       "      <td>Mumbai Indians</td>\n",
       "    </tr>\n",
       "    <tr>\n",
       "      <th>2018</th>\n",
       "      <td>Chennai Super Kings</td>\n",
       "    </tr>\n",
       "    <tr>\n",
       "      <th>2019</th>\n",
       "      <td>Mumbai Indians</td>\n",
       "    </tr>\n",
       "    <tr>\n",
       "      <th>2020</th>\n",
       "      <td>Mumbai Indians</td>\n",
       "    </tr>\n",
       "  </tbody>\n",
       "</table>\n",
       "</div>"
      ],
      "text/plain": [
       "                       team\n",
       "2008       Rajasthan Royals\n",
       "2009        Deccan Chargers\n",
       "2010    Chennai Super Kings\n",
       "2011    Chennai Super Kings\n",
       "2012  Kolkata Knight Riders\n",
       "2013         Mumbai Indians\n",
       "2014  Kolkata Knight Riders\n",
       "2015         Mumbai Indians\n",
       "2016    Sunrisers Hyderabad\n",
       "2017         Mumbai Indians\n",
       "2018    Chennai Super Kings\n",
       "2019         Mumbai Indians\n",
       "2020         Mumbai Indians"
      ]
     },
     "execution_count": 215,
     "metadata": {},
     "output_type": "execute_result"
    }
   ],
   "source": [
    "winners"
   ]
  },
  {
   "cell_type": "code",
   "execution_count": 216,
   "metadata": {},
   "outputs": [
    {
     "data": {
      "application/vnd.plotly.v1+json": {
       "config": {
        "plotlyServerURL": "https://plot.ly"
       },
       "data": [
        {
         "alignmentgroup": "True",
         "hovertemplate": "Team Name=%{x}<br>Count=%{y}<extra></extra>",
         "legendgroup": "",
         "marker": {
          "color": "#636efa",
          "pattern": {
           "shape": ""
          }
         },
         "name": "",
         "offsetgroup": "",
         "orientation": "v",
         "showlegend": false,
         "textposition": "auto",
         "type": "bar",
         "x": [
          "Mumbai Indians",
          "Chennai Super Kings",
          "Kolkata Knight Riders",
          "Rajasthan Royals",
          "Deccan Chargers",
          "Sunrisers Hyderabad"
         ],
         "xaxis": "x",
         "y": [
          5,
          3,
          2,
          1,
          1,
          1
         ],
         "yaxis": "y"
        }
       ],
       "layout": {
        "barmode": "relative",
        "legend": {
         "tracegroupgap": 0
        },
        "margin": {
         "t": 60
        },
        "template": {
         "data": {
          "bar": [
           {
            "error_x": {
             "color": "rgb(36,36,36)"
            },
            "error_y": {
             "color": "rgb(36,36,36)"
            },
            "marker": {
             "line": {
              "color": "white",
              "width": 0.5
             },
             "pattern": {
              "fillmode": "overlay",
              "size": 10,
              "solidity": 0.2
             }
            },
            "type": "bar"
           }
          ],
          "barpolar": [
           {
            "marker": {
             "line": {
              "color": "white",
              "width": 0.5
             },
             "pattern": {
              "fillmode": "overlay",
              "size": 10,
              "solidity": 0.2
             }
            },
            "type": "barpolar"
           }
          ],
          "carpet": [
           {
            "aaxis": {
             "endlinecolor": "rgb(36,36,36)",
             "gridcolor": "white",
             "linecolor": "white",
             "minorgridcolor": "white",
             "startlinecolor": "rgb(36,36,36)"
            },
            "baxis": {
             "endlinecolor": "rgb(36,36,36)",
             "gridcolor": "white",
             "linecolor": "white",
             "minorgridcolor": "white",
             "startlinecolor": "rgb(36,36,36)"
            },
            "type": "carpet"
           }
          ],
          "choropleth": [
           {
            "colorbar": {
             "outlinewidth": 1,
             "tickcolor": "rgb(36,36,36)",
             "ticks": "outside"
            },
            "type": "choropleth"
           }
          ],
          "contour": [
           {
            "colorbar": {
             "outlinewidth": 1,
             "tickcolor": "rgb(36,36,36)",
             "ticks": "outside"
            },
            "colorscale": [
             [
              0,
              "#440154"
             ],
             [
              0.1111111111111111,
              "#482878"
             ],
             [
              0.2222222222222222,
              "#3e4989"
             ],
             [
              0.3333333333333333,
              "#31688e"
             ],
             [
              0.4444444444444444,
              "#26828e"
             ],
             [
              0.5555555555555556,
              "#1f9e89"
             ],
             [
              0.6666666666666666,
              "#35b779"
             ],
             [
              0.7777777777777778,
              "#6ece58"
             ],
             [
              0.8888888888888888,
              "#b5de2b"
             ],
             [
              1,
              "#fde725"
             ]
            ],
            "type": "contour"
           }
          ],
          "contourcarpet": [
           {
            "colorbar": {
             "outlinewidth": 1,
             "tickcolor": "rgb(36,36,36)",
             "ticks": "outside"
            },
            "type": "contourcarpet"
           }
          ],
          "heatmap": [
           {
            "colorbar": {
             "outlinewidth": 1,
             "tickcolor": "rgb(36,36,36)",
             "ticks": "outside"
            },
            "colorscale": [
             [
              0,
              "#440154"
             ],
             [
              0.1111111111111111,
              "#482878"
             ],
             [
              0.2222222222222222,
              "#3e4989"
             ],
             [
              0.3333333333333333,
              "#31688e"
             ],
             [
              0.4444444444444444,
              "#26828e"
             ],
             [
              0.5555555555555556,
              "#1f9e89"
             ],
             [
              0.6666666666666666,
              "#35b779"
             ],
             [
              0.7777777777777778,
              "#6ece58"
             ],
             [
              0.8888888888888888,
              "#b5de2b"
             ],
             [
              1,
              "#fde725"
             ]
            ],
            "type": "heatmap"
           }
          ],
          "heatmapgl": [
           {
            "colorbar": {
             "outlinewidth": 1,
             "tickcolor": "rgb(36,36,36)",
             "ticks": "outside"
            },
            "colorscale": [
             [
              0,
              "#440154"
             ],
             [
              0.1111111111111111,
              "#482878"
             ],
             [
              0.2222222222222222,
              "#3e4989"
             ],
             [
              0.3333333333333333,
              "#31688e"
             ],
             [
              0.4444444444444444,
              "#26828e"
             ],
             [
              0.5555555555555556,
              "#1f9e89"
             ],
             [
              0.6666666666666666,
              "#35b779"
             ],
             [
              0.7777777777777778,
              "#6ece58"
             ],
             [
              0.8888888888888888,
              "#b5de2b"
             ],
             [
              1,
              "#fde725"
             ]
            ],
            "type": "heatmapgl"
           }
          ],
          "histogram": [
           {
            "marker": {
             "line": {
              "color": "white",
              "width": 0.6
             }
            },
            "type": "histogram"
           }
          ],
          "histogram2d": [
           {
            "colorbar": {
             "outlinewidth": 1,
             "tickcolor": "rgb(36,36,36)",
             "ticks": "outside"
            },
            "colorscale": [
             [
              0,
              "#440154"
             ],
             [
              0.1111111111111111,
              "#482878"
             ],
             [
              0.2222222222222222,
              "#3e4989"
             ],
             [
              0.3333333333333333,
              "#31688e"
             ],
             [
              0.4444444444444444,
              "#26828e"
             ],
             [
              0.5555555555555556,
              "#1f9e89"
             ],
             [
              0.6666666666666666,
              "#35b779"
             ],
             [
              0.7777777777777778,
              "#6ece58"
             ],
             [
              0.8888888888888888,
              "#b5de2b"
             ],
             [
              1,
              "#fde725"
             ]
            ],
            "type": "histogram2d"
           }
          ],
          "histogram2dcontour": [
           {
            "colorbar": {
             "outlinewidth": 1,
             "tickcolor": "rgb(36,36,36)",
             "ticks": "outside"
            },
            "colorscale": [
             [
              0,
              "#440154"
             ],
             [
              0.1111111111111111,
              "#482878"
             ],
             [
              0.2222222222222222,
              "#3e4989"
             ],
             [
              0.3333333333333333,
              "#31688e"
             ],
             [
              0.4444444444444444,
              "#26828e"
             ],
             [
              0.5555555555555556,
              "#1f9e89"
             ],
             [
              0.6666666666666666,
              "#35b779"
             ],
             [
              0.7777777777777778,
              "#6ece58"
             ],
             [
              0.8888888888888888,
              "#b5de2b"
             ],
             [
              1,
              "#fde725"
             ]
            ],
            "type": "histogram2dcontour"
           }
          ],
          "mesh3d": [
           {
            "colorbar": {
             "outlinewidth": 1,
             "tickcolor": "rgb(36,36,36)",
             "ticks": "outside"
            },
            "type": "mesh3d"
           }
          ],
          "parcoords": [
           {
            "line": {
             "colorbar": {
              "outlinewidth": 1,
              "tickcolor": "rgb(36,36,36)",
              "ticks": "outside"
             }
            },
            "type": "parcoords"
           }
          ],
          "pie": [
           {
            "automargin": true,
            "type": "pie"
           }
          ],
          "scatter": [
           {
            "marker": {
             "colorbar": {
              "outlinewidth": 1,
              "tickcolor": "rgb(36,36,36)",
              "ticks": "outside"
             }
            },
            "type": "scatter"
           }
          ],
          "scatter3d": [
           {
            "line": {
             "colorbar": {
              "outlinewidth": 1,
              "tickcolor": "rgb(36,36,36)",
              "ticks": "outside"
             }
            },
            "marker": {
             "colorbar": {
              "outlinewidth": 1,
              "tickcolor": "rgb(36,36,36)",
              "ticks": "outside"
             }
            },
            "type": "scatter3d"
           }
          ],
          "scattercarpet": [
           {
            "marker": {
             "colorbar": {
              "outlinewidth": 1,
              "tickcolor": "rgb(36,36,36)",
              "ticks": "outside"
             }
            },
            "type": "scattercarpet"
           }
          ],
          "scattergeo": [
           {
            "marker": {
             "colorbar": {
              "outlinewidth": 1,
              "tickcolor": "rgb(36,36,36)",
              "ticks": "outside"
             }
            },
            "type": "scattergeo"
           }
          ],
          "scattergl": [
           {
            "marker": {
             "colorbar": {
              "outlinewidth": 1,
              "tickcolor": "rgb(36,36,36)",
              "ticks": "outside"
             }
            },
            "type": "scattergl"
           }
          ],
          "scattermapbox": [
           {
            "marker": {
             "colorbar": {
              "outlinewidth": 1,
              "tickcolor": "rgb(36,36,36)",
              "ticks": "outside"
             }
            },
            "type": "scattermapbox"
           }
          ],
          "scatterpolar": [
           {
            "marker": {
             "colorbar": {
              "outlinewidth": 1,
              "tickcolor": "rgb(36,36,36)",
              "ticks": "outside"
             }
            },
            "type": "scatterpolar"
           }
          ],
          "scatterpolargl": [
           {
            "marker": {
             "colorbar": {
              "outlinewidth": 1,
              "tickcolor": "rgb(36,36,36)",
              "ticks": "outside"
             }
            },
            "type": "scatterpolargl"
           }
          ],
          "scatterternary": [
           {
            "marker": {
             "colorbar": {
              "outlinewidth": 1,
              "tickcolor": "rgb(36,36,36)",
              "ticks": "outside"
             }
            },
            "type": "scatterternary"
           }
          ],
          "surface": [
           {
            "colorbar": {
             "outlinewidth": 1,
             "tickcolor": "rgb(36,36,36)",
             "ticks": "outside"
            },
            "colorscale": [
             [
              0,
              "#440154"
             ],
             [
              0.1111111111111111,
              "#482878"
             ],
             [
              0.2222222222222222,
              "#3e4989"
             ],
             [
              0.3333333333333333,
              "#31688e"
             ],
             [
              0.4444444444444444,
              "#26828e"
             ],
             [
              0.5555555555555556,
              "#1f9e89"
             ],
             [
              0.6666666666666666,
              "#35b779"
             ],
             [
              0.7777777777777778,
              "#6ece58"
             ],
             [
              0.8888888888888888,
              "#b5de2b"
             ],
             [
              1,
              "#fde725"
             ]
            ],
            "type": "surface"
           }
          ],
          "table": [
           {
            "cells": {
             "fill": {
              "color": "rgb(237,237,237)"
             },
             "line": {
              "color": "white"
             }
            },
            "header": {
             "fill": {
              "color": "rgb(217,217,217)"
             },
             "line": {
              "color": "white"
             }
            },
            "type": "table"
           }
          ]
         },
         "layout": {
          "annotationdefaults": {
           "arrowhead": 0,
           "arrowwidth": 1
          },
          "autotypenumbers": "strict",
          "coloraxis": {
           "colorbar": {
            "outlinewidth": 1,
            "tickcolor": "rgb(36,36,36)",
            "ticks": "outside"
           }
          },
          "colorscale": {
           "diverging": [
            [
             0,
             "rgb(103,0,31)"
            ],
            [
             0.1,
             "rgb(178,24,43)"
            ],
            [
             0.2,
             "rgb(214,96,77)"
            ],
            [
             0.3,
             "rgb(244,165,130)"
            ],
            [
             0.4,
             "rgb(253,219,199)"
            ],
            [
             0.5,
             "rgb(247,247,247)"
            ],
            [
             0.6,
             "rgb(209,229,240)"
            ],
            [
             0.7,
             "rgb(146,197,222)"
            ],
            [
             0.8,
             "rgb(67,147,195)"
            ],
            [
             0.9,
             "rgb(33,102,172)"
            ],
            [
             1,
             "rgb(5,48,97)"
            ]
           ],
           "sequential": [
            [
             0,
             "#440154"
            ],
            [
             0.1111111111111111,
             "#482878"
            ],
            [
             0.2222222222222222,
             "#3e4989"
            ],
            [
             0.3333333333333333,
             "#31688e"
            ],
            [
             0.4444444444444444,
             "#26828e"
            ],
            [
             0.5555555555555556,
             "#1f9e89"
            ],
            [
             0.6666666666666666,
             "#35b779"
            ],
            [
             0.7777777777777778,
             "#6ece58"
            ],
            [
             0.8888888888888888,
             "#b5de2b"
            ],
            [
             1,
             "#fde725"
            ]
           ],
           "sequentialminus": [
            [
             0,
             "#440154"
            ],
            [
             0.1111111111111111,
             "#482878"
            ],
            [
             0.2222222222222222,
             "#3e4989"
            ],
            [
             0.3333333333333333,
             "#31688e"
            ],
            [
             0.4444444444444444,
             "#26828e"
            ],
            [
             0.5555555555555556,
             "#1f9e89"
            ],
            [
             0.6666666666666666,
             "#35b779"
            ],
            [
             0.7777777777777778,
             "#6ece58"
            ],
            [
             0.8888888888888888,
             "#b5de2b"
            ],
            [
             1,
             "#fde725"
            ]
           ]
          },
          "colorway": [
           "#1F77B4",
           "#FF7F0E",
           "#2CA02C",
           "#D62728",
           "#9467BD",
           "#8C564B",
           "#E377C2",
           "#7F7F7F",
           "#BCBD22",
           "#17BECF"
          ],
          "font": {
           "color": "rgb(36,36,36)"
          },
          "geo": {
           "bgcolor": "white",
           "lakecolor": "white",
           "landcolor": "white",
           "showlakes": true,
           "showland": true,
           "subunitcolor": "white"
          },
          "hoverlabel": {
           "align": "left"
          },
          "hovermode": "closest",
          "mapbox": {
           "style": "light"
          },
          "paper_bgcolor": "white",
          "plot_bgcolor": "white",
          "polar": {
           "angularaxis": {
            "gridcolor": "rgb(232,232,232)",
            "linecolor": "rgb(36,36,36)",
            "showgrid": false,
            "showline": true,
            "ticks": "outside"
           },
           "bgcolor": "white",
           "radialaxis": {
            "gridcolor": "rgb(232,232,232)",
            "linecolor": "rgb(36,36,36)",
            "showgrid": false,
            "showline": true,
            "ticks": "outside"
           }
          },
          "scene": {
           "xaxis": {
            "backgroundcolor": "white",
            "gridcolor": "rgb(232,232,232)",
            "gridwidth": 2,
            "linecolor": "rgb(36,36,36)",
            "showbackground": true,
            "showgrid": false,
            "showline": true,
            "ticks": "outside",
            "zeroline": false,
            "zerolinecolor": "rgb(36,36,36)"
           },
           "yaxis": {
            "backgroundcolor": "white",
            "gridcolor": "rgb(232,232,232)",
            "gridwidth": 2,
            "linecolor": "rgb(36,36,36)",
            "showbackground": true,
            "showgrid": false,
            "showline": true,
            "ticks": "outside",
            "zeroline": false,
            "zerolinecolor": "rgb(36,36,36)"
           },
           "zaxis": {
            "backgroundcolor": "white",
            "gridcolor": "rgb(232,232,232)",
            "gridwidth": 2,
            "linecolor": "rgb(36,36,36)",
            "showbackground": true,
            "showgrid": false,
            "showline": true,
            "ticks": "outside",
            "zeroline": false,
            "zerolinecolor": "rgb(36,36,36)"
           }
          },
          "shapedefaults": {
           "fillcolor": "black",
           "line": {
            "width": 0
           },
           "opacity": 0.3
          },
          "ternary": {
           "aaxis": {
            "gridcolor": "rgb(232,232,232)",
            "linecolor": "rgb(36,36,36)",
            "showgrid": false,
            "showline": true,
            "ticks": "outside"
           },
           "baxis": {
            "gridcolor": "rgb(232,232,232)",
            "linecolor": "rgb(36,36,36)",
            "showgrid": false,
            "showline": true,
            "ticks": "outside"
           },
           "bgcolor": "white",
           "caxis": {
            "gridcolor": "rgb(232,232,232)",
            "linecolor": "rgb(36,36,36)",
            "showgrid": false,
            "showline": true,
            "ticks": "outside"
           }
          },
          "title": {
           "x": 0.05
          },
          "xaxis": {
           "automargin": true,
           "gridcolor": "rgb(232,232,232)",
           "linecolor": "rgb(36,36,36)",
           "showgrid": false,
           "showline": true,
           "ticks": "outside",
           "title": {
            "standoff": 15
           },
           "zeroline": false,
           "zerolinecolor": "rgb(36,36,36)"
          },
          "yaxis": {
           "automargin": true,
           "gridcolor": "rgb(232,232,232)",
           "linecolor": "rgb(36,36,36)",
           "showgrid": false,
           "showline": true,
           "ticks": "outside",
           "title": {
            "standoff": 15
           },
           "zeroline": false,
           "zerolinecolor": "rgb(36,36,36)"
          }
         }
        },
        "title": {
         "font": {
          "size": 26
         },
         "text": "Winners of IPL"
        },
        "xaxis": {
         "anchor": "y",
         "domain": [
          0,
          1
         ],
         "title": {
          "text": "Team Name"
         }
        },
        "yaxis": {
         "anchor": "x",
         "domain": [
          0,
          1
         ],
         "title": {
          "text": "Count"
         }
        }
       }
      }
     },
     "metadata": {},
     "output_type": "display_data"
    }
   ],
   "source": [
    "fig=px.bar( y=winners['team'].value_counts(),x=winners['team'].value_counts().index,labels=dict(x=\"Team Name\",y=\"Count\"))\n",
    "fig.update_layout(title=\"Winners of IPL\",\n",
    "                  titlefont={'size': 26},template='simple_white'     \n",
    "                  )\n",
    "\n",
    "fig.show()"
   ]
  },
  {
   "attachments": {},
   "cell_type": "markdown",
   "metadata": {},
   "source": [
    "#### Number of Tosses won by teams"
   ]
  },
  {
   "cell_type": "code",
   "execution_count": 217,
   "metadata": {},
   "outputs": [
    {
     "data": {
      "text/plain": [
       "Mumbai Indians                 106\n",
       "Kolkata Knight Riders           98\n",
       "Chennai Super Kings             97\n",
       "Royal Challengers Bangalore     87\n",
       "Rajasthan Royals                87\n",
       "Kings XI Punjab                 85\n",
       "Delhi Daredevils                80\n",
       "Sunrisers Hyderabad             57\n",
       "Deccan Chargers                 43\n",
       "Pune Warriors                   20\n",
       "Delhi Capitals                  20\n",
       "Gujarat Lions                   15\n",
       "Rising Pune Supergiant          13\n",
       "Kochi Tuskers Kerala             8\n",
       "Name: toss_winner, dtype: int64"
      ]
     },
     "execution_count": 217,
     "metadata": {},
     "output_type": "execute_result"
    }
   ],
   "source": [
    "match_data['toss_winner'].value_counts()"
   ]
  },
  {
   "attachments": {},
   "cell_type": "markdown",
   "metadata": {},
   "source": [
    "#### Decision made after winning Toss"
   ]
  },
  {
   "cell_type": "code",
   "execution_count": 218,
   "metadata": {},
   "outputs": [
    {
     "data": {
      "application/vnd.plotly.v1+json": {
       "config": {
        "plotlyServerURL": "https://plot.ly"
       },
       "data": [
        {
         "hole": 0.3,
         "hoverinfo": "label+percent",
         "labels": [
          "field",
          "bat"
         ],
         "marker": {
          "colors": [
           "blue",
           "red"
          ],
          "line": {
           "color": "#000000",
           "width": 3
          }
         },
         "textfont": {
          "size": 20
         },
         "textinfo": "label+percent",
         "type": "pie",
         "values": [
          60.78431372549019,
          39.21568627450981
         ]
        }
       ],
       "layout": {
        "template": {
         "data": {
          "bar": [
           {
            "error_x": {
             "color": "#2a3f5f"
            },
            "error_y": {
             "color": "#2a3f5f"
            },
            "marker": {
             "line": {
              "color": "#E5ECF6",
              "width": 0.5
             },
             "pattern": {
              "fillmode": "overlay",
              "size": 10,
              "solidity": 0.2
             }
            },
            "type": "bar"
           }
          ],
          "barpolar": [
           {
            "marker": {
             "line": {
              "color": "#E5ECF6",
              "width": 0.5
             },
             "pattern": {
              "fillmode": "overlay",
              "size": 10,
              "solidity": 0.2
             }
            },
            "type": "barpolar"
           }
          ],
          "carpet": [
           {
            "aaxis": {
             "endlinecolor": "#2a3f5f",
             "gridcolor": "white",
             "linecolor": "white",
             "minorgridcolor": "white",
             "startlinecolor": "#2a3f5f"
            },
            "baxis": {
             "endlinecolor": "#2a3f5f",
             "gridcolor": "white",
             "linecolor": "white",
             "minorgridcolor": "white",
             "startlinecolor": "#2a3f5f"
            },
            "type": "carpet"
           }
          ],
          "choropleth": [
           {
            "colorbar": {
             "outlinewidth": 0,
             "ticks": ""
            },
            "type": "choropleth"
           }
          ],
          "contour": [
           {
            "colorbar": {
             "outlinewidth": 0,
             "ticks": ""
            },
            "colorscale": [
             [
              0,
              "#0d0887"
             ],
             [
              0.1111111111111111,
              "#46039f"
             ],
             [
              0.2222222222222222,
              "#7201a8"
             ],
             [
              0.3333333333333333,
              "#9c179e"
             ],
             [
              0.4444444444444444,
              "#bd3786"
             ],
             [
              0.5555555555555556,
              "#d8576b"
             ],
             [
              0.6666666666666666,
              "#ed7953"
             ],
             [
              0.7777777777777778,
              "#fb9f3a"
             ],
             [
              0.8888888888888888,
              "#fdca26"
             ],
             [
              1,
              "#f0f921"
             ]
            ],
            "type": "contour"
           }
          ],
          "contourcarpet": [
           {
            "colorbar": {
             "outlinewidth": 0,
             "ticks": ""
            },
            "type": "contourcarpet"
           }
          ],
          "heatmap": [
           {
            "colorbar": {
             "outlinewidth": 0,
             "ticks": ""
            },
            "colorscale": [
             [
              0,
              "#0d0887"
             ],
             [
              0.1111111111111111,
              "#46039f"
             ],
             [
              0.2222222222222222,
              "#7201a8"
             ],
             [
              0.3333333333333333,
              "#9c179e"
             ],
             [
              0.4444444444444444,
              "#bd3786"
             ],
             [
              0.5555555555555556,
              "#d8576b"
             ],
             [
              0.6666666666666666,
              "#ed7953"
             ],
             [
              0.7777777777777778,
              "#fb9f3a"
             ],
             [
              0.8888888888888888,
              "#fdca26"
             ],
             [
              1,
              "#f0f921"
             ]
            ],
            "type": "heatmap"
           }
          ],
          "heatmapgl": [
           {
            "colorbar": {
             "outlinewidth": 0,
             "ticks": ""
            },
            "colorscale": [
             [
              0,
              "#0d0887"
             ],
             [
              0.1111111111111111,
              "#46039f"
             ],
             [
              0.2222222222222222,
              "#7201a8"
             ],
             [
              0.3333333333333333,
              "#9c179e"
             ],
             [
              0.4444444444444444,
              "#bd3786"
             ],
             [
              0.5555555555555556,
              "#d8576b"
             ],
             [
              0.6666666666666666,
              "#ed7953"
             ],
             [
              0.7777777777777778,
              "#fb9f3a"
             ],
             [
              0.8888888888888888,
              "#fdca26"
             ],
             [
              1,
              "#f0f921"
             ]
            ],
            "type": "heatmapgl"
           }
          ],
          "histogram": [
           {
            "marker": {
             "pattern": {
              "fillmode": "overlay",
              "size": 10,
              "solidity": 0.2
             }
            },
            "type": "histogram"
           }
          ],
          "histogram2d": [
           {
            "colorbar": {
             "outlinewidth": 0,
             "ticks": ""
            },
            "colorscale": [
             [
              0,
              "#0d0887"
             ],
             [
              0.1111111111111111,
              "#46039f"
             ],
             [
              0.2222222222222222,
              "#7201a8"
             ],
             [
              0.3333333333333333,
              "#9c179e"
             ],
             [
              0.4444444444444444,
              "#bd3786"
             ],
             [
              0.5555555555555556,
              "#d8576b"
             ],
             [
              0.6666666666666666,
              "#ed7953"
             ],
             [
              0.7777777777777778,
              "#fb9f3a"
             ],
             [
              0.8888888888888888,
              "#fdca26"
             ],
             [
              1,
              "#f0f921"
             ]
            ],
            "type": "histogram2d"
           }
          ],
          "histogram2dcontour": [
           {
            "colorbar": {
             "outlinewidth": 0,
             "ticks": ""
            },
            "colorscale": [
             [
              0,
              "#0d0887"
             ],
             [
              0.1111111111111111,
              "#46039f"
             ],
             [
              0.2222222222222222,
              "#7201a8"
             ],
             [
              0.3333333333333333,
              "#9c179e"
             ],
             [
              0.4444444444444444,
              "#bd3786"
             ],
             [
              0.5555555555555556,
              "#d8576b"
             ],
             [
              0.6666666666666666,
              "#ed7953"
             ],
             [
              0.7777777777777778,
              "#fb9f3a"
             ],
             [
              0.8888888888888888,
              "#fdca26"
             ],
             [
              1,
              "#f0f921"
             ]
            ],
            "type": "histogram2dcontour"
           }
          ],
          "mesh3d": [
           {
            "colorbar": {
             "outlinewidth": 0,
             "ticks": ""
            },
            "type": "mesh3d"
           }
          ],
          "parcoords": [
           {
            "line": {
             "colorbar": {
              "outlinewidth": 0,
              "ticks": ""
             }
            },
            "type": "parcoords"
           }
          ],
          "pie": [
           {
            "automargin": true,
            "type": "pie"
           }
          ],
          "scatter": [
           {
            "marker": {
             "colorbar": {
              "outlinewidth": 0,
              "ticks": ""
             }
            },
            "type": "scatter"
           }
          ],
          "scatter3d": [
           {
            "line": {
             "colorbar": {
              "outlinewidth": 0,
              "ticks": ""
             }
            },
            "marker": {
             "colorbar": {
              "outlinewidth": 0,
              "ticks": ""
             }
            },
            "type": "scatter3d"
           }
          ],
          "scattercarpet": [
           {
            "marker": {
             "colorbar": {
              "outlinewidth": 0,
              "ticks": ""
             }
            },
            "type": "scattercarpet"
           }
          ],
          "scattergeo": [
           {
            "marker": {
             "colorbar": {
              "outlinewidth": 0,
              "ticks": ""
             }
            },
            "type": "scattergeo"
           }
          ],
          "scattergl": [
           {
            "marker": {
             "colorbar": {
              "outlinewidth": 0,
              "ticks": ""
             }
            },
            "type": "scattergl"
           }
          ],
          "scattermapbox": [
           {
            "marker": {
             "colorbar": {
              "outlinewidth": 0,
              "ticks": ""
             }
            },
            "type": "scattermapbox"
           }
          ],
          "scatterpolar": [
           {
            "marker": {
             "colorbar": {
              "outlinewidth": 0,
              "ticks": ""
             }
            },
            "type": "scatterpolar"
           }
          ],
          "scatterpolargl": [
           {
            "marker": {
             "colorbar": {
              "outlinewidth": 0,
              "ticks": ""
             }
            },
            "type": "scatterpolargl"
           }
          ],
          "scatterternary": [
           {
            "marker": {
             "colorbar": {
              "outlinewidth": 0,
              "ticks": ""
             }
            },
            "type": "scatterternary"
           }
          ],
          "surface": [
           {
            "colorbar": {
             "outlinewidth": 0,
             "ticks": ""
            },
            "colorscale": [
             [
              0,
              "#0d0887"
             ],
             [
              0.1111111111111111,
              "#46039f"
             ],
             [
              0.2222222222222222,
              "#7201a8"
             ],
             [
              0.3333333333333333,
              "#9c179e"
             ],
             [
              0.4444444444444444,
              "#bd3786"
             ],
             [
              0.5555555555555556,
              "#d8576b"
             ],
             [
              0.6666666666666666,
              "#ed7953"
             ],
             [
              0.7777777777777778,
              "#fb9f3a"
             ],
             [
              0.8888888888888888,
              "#fdca26"
             ],
             [
              1,
              "#f0f921"
             ]
            ],
            "type": "surface"
           }
          ],
          "table": [
           {
            "cells": {
             "fill": {
              "color": "#EBF0F8"
             },
             "line": {
              "color": "white"
             }
            },
            "header": {
             "fill": {
              "color": "#C8D4E3"
             },
             "line": {
              "color": "white"
             }
            },
            "type": "table"
           }
          ]
         },
         "layout": {
          "annotationdefaults": {
           "arrowcolor": "#2a3f5f",
           "arrowhead": 0,
           "arrowwidth": 1
          },
          "autotypenumbers": "strict",
          "coloraxis": {
           "colorbar": {
            "outlinewidth": 0,
            "ticks": ""
           }
          },
          "colorscale": {
           "diverging": [
            [
             0,
             "#8e0152"
            ],
            [
             0.1,
             "#c51b7d"
            ],
            [
             0.2,
             "#de77ae"
            ],
            [
             0.3,
             "#f1b6da"
            ],
            [
             0.4,
             "#fde0ef"
            ],
            [
             0.5,
             "#f7f7f7"
            ],
            [
             0.6,
             "#e6f5d0"
            ],
            [
             0.7,
             "#b8e186"
            ],
            [
             0.8,
             "#7fbc41"
            ],
            [
             0.9,
             "#4d9221"
            ],
            [
             1,
             "#276419"
            ]
           ],
           "sequential": [
            [
             0,
             "#0d0887"
            ],
            [
             0.1111111111111111,
             "#46039f"
            ],
            [
             0.2222222222222222,
             "#7201a8"
            ],
            [
             0.3333333333333333,
             "#9c179e"
            ],
            [
             0.4444444444444444,
             "#bd3786"
            ],
            [
             0.5555555555555556,
             "#d8576b"
            ],
            [
             0.6666666666666666,
             "#ed7953"
            ],
            [
             0.7777777777777778,
             "#fb9f3a"
            ],
            [
             0.8888888888888888,
             "#fdca26"
            ],
            [
             1,
             "#f0f921"
            ]
           ],
           "sequentialminus": [
            [
             0,
             "#0d0887"
            ],
            [
             0.1111111111111111,
             "#46039f"
            ],
            [
             0.2222222222222222,
             "#7201a8"
            ],
            [
             0.3333333333333333,
             "#9c179e"
            ],
            [
             0.4444444444444444,
             "#bd3786"
            ],
            [
             0.5555555555555556,
             "#d8576b"
            ],
            [
             0.6666666666666666,
             "#ed7953"
            ],
            [
             0.7777777777777778,
             "#fb9f3a"
            ],
            [
             0.8888888888888888,
             "#fdca26"
            ],
            [
             1,
             "#f0f921"
            ]
           ]
          },
          "colorway": [
           "#636efa",
           "#EF553B",
           "#00cc96",
           "#ab63fa",
           "#FFA15A",
           "#19d3f3",
           "#FF6692",
           "#B6E880",
           "#FF97FF",
           "#FECB52"
          ],
          "font": {
           "color": "#2a3f5f"
          },
          "geo": {
           "bgcolor": "white",
           "lakecolor": "white",
           "landcolor": "#E5ECF6",
           "showlakes": true,
           "showland": true,
           "subunitcolor": "white"
          },
          "hoverlabel": {
           "align": "left"
          },
          "hovermode": "closest",
          "mapbox": {
           "style": "light"
          },
          "paper_bgcolor": "white",
          "plot_bgcolor": "#E5ECF6",
          "polar": {
           "angularaxis": {
            "gridcolor": "white",
            "linecolor": "white",
            "ticks": ""
           },
           "bgcolor": "#E5ECF6",
           "radialaxis": {
            "gridcolor": "white",
            "linecolor": "white",
            "ticks": ""
           }
          },
          "scene": {
           "xaxis": {
            "backgroundcolor": "#E5ECF6",
            "gridcolor": "white",
            "gridwidth": 2,
            "linecolor": "white",
            "showbackground": true,
            "ticks": "",
            "zerolinecolor": "white"
           },
           "yaxis": {
            "backgroundcolor": "#E5ECF6",
            "gridcolor": "white",
            "gridwidth": 2,
            "linecolor": "white",
            "showbackground": true,
            "ticks": "",
            "zerolinecolor": "white"
           },
           "zaxis": {
            "backgroundcolor": "#E5ECF6",
            "gridcolor": "white",
            "gridwidth": 2,
            "linecolor": "white",
            "showbackground": true,
            "ticks": "",
            "zerolinecolor": "white"
           }
          },
          "shapedefaults": {
           "line": {
            "color": "#2a3f5f"
           }
          },
          "ternary": {
           "aaxis": {
            "gridcolor": "white",
            "linecolor": "white",
            "ticks": ""
           },
           "baxis": {
            "gridcolor": "white",
            "linecolor": "white",
            "ticks": ""
           },
           "bgcolor": "#E5ECF6",
           "caxis": {
            "gridcolor": "white",
            "linecolor": "white",
            "ticks": ""
           }
          },
          "title": {
           "x": 0.05
          },
          "xaxis": {
           "automargin": true,
           "gridcolor": "white",
           "linecolor": "white",
           "ticks": "",
           "title": {
            "standoff": 15
           },
           "zerolinecolor": "white",
           "zerolinewidth": 2
          },
          "yaxis": {
           "automargin": true,
           "gridcolor": "white",
           "linecolor": "white",
           "ticks": "",
           "title": {
            "standoff": 15
           },
           "zerolinecolor": "white",
           "zerolinewidth": 2
          }
         }
        },
        "title": {
         "font": {
          "size": 30
         },
         "text": "Toss decision percentage"
        }
       }
      }
     },
     "metadata": {},
     "output_type": "display_data"
    }
   ],
   "source": [
    "temp_series = match_data.toss_decision.value_counts()\n",
    "labels = (np.array(temp_series.index))\n",
    "values = (np.array((temp_series / temp_series.sum())*100))\n",
    "colors = ['blue', 'red']\n",
    "fig = go.Figure(data=[go.Pie(labels=labels,\n",
    "                             values=values,hole=.3)])\n",
    "fig.update_traces(hoverinfo='label+percent', textinfo='label+percent', textfont_size=20,\n",
    "                  marker=dict(colors=colors, line=dict(color='#000000', width=3)))\n",
    "fig.update_layout(title=\"Toss decision percentage\",\n",
    "                  titlefont={'size': 30},\n",
    "                  )\n",
    "fig.show()"
   ]
  },
  {
   "attachments": {},
   "cell_type": "markdown",
   "metadata": {},
   "source": [
    "#### Toss decision in each season"
   ]
  },
  {
   "cell_type": "code",
   "execution_count": 219,
   "metadata": {},
   "outputs": [
    {
     "data": {
      "application/vnd.plotly.v1+json": {
       "config": {
        "plotlyServerURL": "https://plot.ly"
       },
       "data": [
        {
         "alignmentgroup": "True",
         "bingroup": "x",
         "hovertemplate": "toss_decision=field<br>Season=%{x}<br>count=%{y}<extra></extra>",
         "legendgroup": "field",
         "marker": {
          "color": "blue",
          "line": {
           "color": "black",
           "width": 2.5
          },
          "pattern": {
           "shape": ""
          }
         },
         "name": "field",
         "offsetgroup": "field",
         "opacity": 1,
         "orientation": "v",
         "showlegend": true,
         "type": "histogram",
         "x": [
          2008,
          2008,
          2008,
          2008,
          2008,
          2008,
          2008,
          2008,
          2008,
          2008,
          2008,
          2008,
          2008,
          2008,
          2008,
          2008,
          2008,
          2008,
          2008,
          2008,
          2008,
          2008,
          2008,
          2008,
          2008,
          2008,
          2008,
          2008,
          2008,
          2008,
          2008,
          2008,
          2009,
          2009,
          2009,
          2009,
          2009,
          2009,
          2009,
          2009,
          2009,
          2009,
          2009,
          2009,
          2009,
          2009,
          2009,
          2009,
          2009,
          2009,
          2009,
          2009,
          2009,
          2009,
          2010,
          2010,
          2010,
          2010,
          2010,
          2010,
          2010,
          2010,
          2010,
          2010,
          2010,
          2010,
          2010,
          2010,
          2010,
          2010,
          2010,
          2010,
          2010,
          2010,
          2010,
          2011,
          2011,
          2011,
          2011,
          2011,
          2011,
          2011,
          2011,
          2011,
          2011,
          2011,
          2011,
          2011,
          2011,
          2011,
          2011,
          2011,
          2011,
          2011,
          2011,
          2011,
          2011,
          2011,
          2011,
          2011,
          2011,
          2011,
          2011,
          2011,
          2011,
          2011,
          2011,
          2011,
          2011,
          2011,
          2011,
          2011,
          2011,
          2011,
          2011,
          2011,
          2011,
          2011,
          2011,
          2011,
          2011,
          2011,
          2011,
          2012,
          2012,
          2012,
          2012,
          2012,
          2012,
          2012,
          2012,
          2012,
          2012,
          2012,
          2012,
          2012,
          2012,
          2012,
          2012,
          2012,
          2012,
          2012,
          2012,
          2012,
          2012,
          2012,
          2012,
          2012,
          2012,
          2012,
          2012,
          2012,
          2012,
          2012,
          2012,
          2012,
          2012,
          2012,
          2012,
          2012,
          2013,
          2013,
          2013,
          2013,
          2013,
          2013,
          2013,
          2013,
          2013,
          2013,
          2013,
          2013,
          2013,
          2013,
          2013,
          2013,
          2013,
          2013,
          2013,
          2013,
          2013,
          2013,
          2013,
          2013,
          2013,
          2013,
          2013,
          2013,
          2013,
          2013,
          2013,
          2014,
          2014,
          2014,
          2014,
          2014,
          2014,
          2014,
          2014,
          2014,
          2014,
          2014,
          2014,
          2014,
          2014,
          2014,
          2014,
          2014,
          2014,
          2014,
          2014,
          2014,
          2014,
          2014,
          2014,
          2014,
          2014,
          2014,
          2014,
          2014,
          2014,
          2014,
          2014,
          2014,
          2014,
          2014,
          2014,
          2014,
          2014,
          2014,
          2014,
          2014,
          2015,
          2015,
          2015,
          2015,
          2015,
          2015,
          2015,
          2015,
          2015,
          2015,
          2015,
          2015,
          2015,
          2015,
          2015,
          2015,
          2015,
          2015,
          2015,
          2015,
          2015,
          2015,
          2015,
          2015,
          2015,
          2015,
          2015,
          2015,
          2015,
          2015,
          2015,
          2015,
          2015,
          2015,
          2016,
          2016,
          2016,
          2016,
          2016,
          2016,
          2016,
          2016,
          2016,
          2016,
          2016,
          2016,
          2016,
          2016,
          2016,
          2016,
          2016,
          2016,
          2016,
          2016,
          2016,
          2016,
          2016,
          2016,
          2016,
          2016,
          2016,
          2016,
          2016,
          2016,
          2016,
          2016,
          2016,
          2016,
          2016,
          2016,
          2016,
          2016,
          2016,
          2016,
          2016,
          2016,
          2016,
          2016,
          2016,
          2016,
          2016,
          2016,
          2016,
          2017,
          2017,
          2017,
          2017,
          2017,
          2017,
          2017,
          2017,
          2017,
          2017,
          2017,
          2017,
          2017,
          2017,
          2017,
          2017,
          2017,
          2017,
          2017,
          2017,
          2017,
          2017,
          2017,
          2017,
          2017,
          2017,
          2017,
          2017,
          2017,
          2017,
          2017,
          2017,
          2017,
          2017,
          2017,
          2017,
          2017,
          2017,
          2017,
          2017,
          2017,
          2017,
          2017,
          2017,
          2017,
          2017,
          2017,
          2017,
          2018,
          2018,
          2018,
          2018,
          2018,
          2018,
          2018,
          2018,
          2018,
          2018,
          2018,
          2018,
          2018,
          2018,
          2018,
          2018,
          2018,
          2018,
          2018,
          2018,
          2018,
          2018,
          2018,
          2018,
          2018,
          2018,
          2018,
          2018,
          2018,
          2018,
          2018,
          2018,
          2018,
          2018,
          2018,
          2018,
          2018,
          2018,
          2018,
          2018,
          2018,
          2018,
          2018,
          2018,
          2018,
          2018,
          2018,
          2018,
          2018,
          2018,
          2019,
          2019,
          2019,
          2019,
          2019,
          2019,
          2019,
          2019,
          2019,
          2019,
          2019,
          2019,
          2019,
          2019,
          2019,
          2019,
          2019,
          2019,
          2019,
          2019,
          2019,
          2019,
          2019,
          2019,
          2019,
          2019,
          2019,
          2019,
          2019,
          2019,
          2019,
          2019,
          2019,
          2019,
          2019,
          2019,
          2019,
          2019,
          2019,
          2019,
          2019,
          2019,
          2019,
          2019,
          2019,
          2019,
          2019,
          2019,
          2019,
          2019,
          2020,
          2020,
          2020,
          2020,
          2020,
          2020,
          2020,
          2020,
          2020,
          2020,
          2020,
          2020,
          2020,
          2020,
          2020,
          2020,
          2020,
          2020,
          2020,
          2020,
          2020,
          2020,
          2020,
          2020,
          2020,
          2020,
          2020,
          2020,
          2020,
          2020,
          2020,
          2020,
          2020
         ],
         "xaxis": "x",
         "yaxis": "y"
        },
        {
         "alignmentgroup": "True",
         "bingroup": "x",
         "hovertemplate": "toss_decision=bat<br>Season=%{x}<br>count=%{y}<extra></extra>",
         "legendgroup": "bat",
         "marker": {
          "color": "red",
          "line": {
           "color": "black",
           "width": 2.5
          },
          "pattern": {
           "shape": ""
          }
         },
         "name": "bat",
         "offsetgroup": "bat",
         "opacity": 1,
         "orientation": "v",
         "showlegend": true,
         "type": "histogram",
         "x": [
          2008,
          2008,
          2008,
          2008,
          2008,
          2008,
          2008,
          2008,
          2008,
          2008,
          2008,
          2008,
          2008,
          2008,
          2008,
          2008,
          2008,
          2008,
          2008,
          2008,
          2008,
          2008,
          2008,
          2008,
          2008,
          2008,
          2009,
          2009,
          2009,
          2009,
          2009,
          2009,
          2009,
          2009,
          2009,
          2009,
          2009,
          2009,
          2009,
          2009,
          2009,
          2009,
          2009,
          2009,
          2009,
          2009,
          2009,
          2009,
          2009,
          2009,
          2009,
          2009,
          2009,
          2009,
          2009,
          2009,
          2009,
          2009,
          2009,
          2009,
          2009,
          2010,
          2010,
          2010,
          2010,
          2010,
          2010,
          2010,
          2010,
          2010,
          2010,
          2010,
          2010,
          2010,
          2010,
          2010,
          2010,
          2010,
          2010,
          2010,
          2010,
          2010,
          2010,
          2010,
          2010,
          2010,
          2010,
          2010,
          2010,
          2010,
          2010,
          2010,
          2010,
          2010,
          2010,
          2010,
          2010,
          2010,
          2010,
          2010,
          2011,
          2011,
          2011,
          2011,
          2011,
          2011,
          2011,
          2011,
          2011,
          2011,
          2011,
          2011,
          2011,
          2011,
          2011,
          2011,
          2011,
          2011,
          2011,
          2011,
          2011,
          2011,
          2011,
          2011,
          2011,
          2012,
          2012,
          2012,
          2012,
          2012,
          2012,
          2012,
          2012,
          2012,
          2012,
          2012,
          2012,
          2012,
          2012,
          2012,
          2012,
          2012,
          2012,
          2012,
          2012,
          2012,
          2012,
          2012,
          2012,
          2012,
          2012,
          2012,
          2012,
          2012,
          2012,
          2012,
          2012,
          2012,
          2012,
          2012,
          2012,
          2012,
          2013,
          2013,
          2013,
          2013,
          2013,
          2013,
          2013,
          2013,
          2013,
          2013,
          2013,
          2013,
          2013,
          2013,
          2013,
          2013,
          2013,
          2013,
          2013,
          2013,
          2013,
          2013,
          2013,
          2013,
          2013,
          2013,
          2013,
          2013,
          2013,
          2013,
          2013,
          2013,
          2013,
          2013,
          2013,
          2013,
          2013,
          2013,
          2013,
          2013,
          2013,
          2013,
          2013,
          2013,
          2013,
          2014,
          2014,
          2014,
          2014,
          2014,
          2014,
          2014,
          2014,
          2014,
          2014,
          2014,
          2014,
          2014,
          2014,
          2014,
          2014,
          2014,
          2014,
          2014,
          2015,
          2015,
          2015,
          2015,
          2015,
          2015,
          2015,
          2015,
          2015,
          2015,
          2015,
          2015,
          2015,
          2015,
          2015,
          2015,
          2015,
          2015,
          2015,
          2015,
          2015,
          2015,
          2015,
          2015,
          2015,
          2016,
          2016,
          2016,
          2016,
          2016,
          2016,
          2016,
          2016,
          2016,
          2016,
          2016,
          2017,
          2017,
          2017,
          2017,
          2017,
          2017,
          2017,
          2017,
          2017,
          2017,
          2017,
          2018,
          2018,
          2018,
          2018,
          2018,
          2018,
          2018,
          2018,
          2018,
          2018,
          2019,
          2019,
          2019,
          2019,
          2019,
          2019,
          2019,
          2019,
          2019,
          2019,
          2020,
          2020,
          2020,
          2020,
          2020,
          2020,
          2020,
          2020,
          2020,
          2020,
          2020,
          2020,
          2020,
          2020,
          2020,
          2020,
          2020,
          2020,
          2020,
          2020,
          2020,
          2020,
          2020,
          2020,
          2020,
          2020,
          2020
         ],
         "xaxis": "x",
         "yaxis": "y"
        }
       ],
       "layout": {
        "barmode": "group",
        "legend": {
         "title": {
          "text": "toss_decision"
         },
         "tracegroupgap": 0
        },
        "margin": {
         "t": 60
        },
        "template": {
         "data": {
          "bar": [
           {
            "error_x": {
             "color": "rgb(36,36,36)"
            },
            "error_y": {
             "color": "rgb(36,36,36)"
            },
            "marker": {
             "line": {
              "color": "white",
              "width": 0.5
             },
             "pattern": {
              "fillmode": "overlay",
              "size": 10,
              "solidity": 0.2
             }
            },
            "type": "bar"
           }
          ],
          "barpolar": [
           {
            "marker": {
             "line": {
              "color": "white",
              "width": 0.5
             },
             "pattern": {
              "fillmode": "overlay",
              "size": 10,
              "solidity": 0.2
             }
            },
            "type": "barpolar"
           }
          ],
          "carpet": [
           {
            "aaxis": {
             "endlinecolor": "rgb(36,36,36)",
             "gridcolor": "white",
             "linecolor": "white",
             "minorgridcolor": "white",
             "startlinecolor": "rgb(36,36,36)"
            },
            "baxis": {
             "endlinecolor": "rgb(36,36,36)",
             "gridcolor": "white",
             "linecolor": "white",
             "minorgridcolor": "white",
             "startlinecolor": "rgb(36,36,36)"
            },
            "type": "carpet"
           }
          ],
          "choropleth": [
           {
            "colorbar": {
             "outlinewidth": 1,
             "tickcolor": "rgb(36,36,36)",
             "ticks": "outside"
            },
            "type": "choropleth"
           }
          ],
          "contour": [
           {
            "colorbar": {
             "outlinewidth": 1,
             "tickcolor": "rgb(36,36,36)",
             "ticks": "outside"
            },
            "colorscale": [
             [
              0,
              "#440154"
             ],
             [
              0.1111111111111111,
              "#482878"
             ],
             [
              0.2222222222222222,
              "#3e4989"
             ],
             [
              0.3333333333333333,
              "#31688e"
             ],
             [
              0.4444444444444444,
              "#26828e"
             ],
             [
              0.5555555555555556,
              "#1f9e89"
             ],
             [
              0.6666666666666666,
              "#35b779"
             ],
             [
              0.7777777777777778,
              "#6ece58"
             ],
             [
              0.8888888888888888,
              "#b5de2b"
             ],
             [
              1,
              "#fde725"
             ]
            ],
            "type": "contour"
           }
          ],
          "contourcarpet": [
           {
            "colorbar": {
             "outlinewidth": 1,
             "tickcolor": "rgb(36,36,36)",
             "ticks": "outside"
            },
            "type": "contourcarpet"
           }
          ],
          "heatmap": [
           {
            "colorbar": {
             "outlinewidth": 1,
             "tickcolor": "rgb(36,36,36)",
             "ticks": "outside"
            },
            "colorscale": [
             [
              0,
              "#440154"
             ],
             [
              0.1111111111111111,
              "#482878"
             ],
             [
              0.2222222222222222,
              "#3e4989"
             ],
             [
              0.3333333333333333,
              "#31688e"
             ],
             [
              0.4444444444444444,
              "#26828e"
             ],
             [
              0.5555555555555556,
              "#1f9e89"
             ],
             [
              0.6666666666666666,
              "#35b779"
             ],
             [
              0.7777777777777778,
              "#6ece58"
             ],
             [
              0.8888888888888888,
              "#b5de2b"
             ],
             [
              1,
              "#fde725"
             ]
            ],
            "type": "heatmap"
           }
          ],
          "heatmapgl": [
           {
            "colorbar": {
             "outlinewidth": 1,
             "tickcolor": "rgb(36,36,36)",
             "ticks": "outside"
            },
            "colorscale": [
             [
              0,
              "#440154"
             ],
             [
              0.1111111111111111,
              "#482878"
             ],
             [
              0.2222222222222222,
              "#3e4989"
             ],
             [
              0.3333333333333333,
              "#31688e"
             ],
             [
              0.4444444444444444,
              "#26828e"
             ],
             [
              0.5555555555555556,
              "#1f9e89"
             ],
             [
              0.6666666666666666,
              "#35b779"
             ],
             [
              0.7777777777777778,
              "#6ece58"
             ],
             [
              0.8888888888888888,
              "#b5de2b"
             ],
             [
              1,
              "#fde725"
             ]
            ],
            "type": "heatmapgl"
           }
          ],
          "histogram": [
           {
            "marker": {
             "line": {
              "color": "white",
              "width": 0.6
             }
            },
            "type": "histogram"
           }
          ],
          "histogram2d": [
           {
            "colorbar": {
             "outlinewidth": 1,
             "tickcolor": "rgb(36,36,36)",
             "ticks": "outside"
            },
            "colorscale": [
             [
              0,
              "#440154"
             ],
             [
              0.1111111111111111,
              "#482878"
             ],
             [
              0.2222222222222222,
              "#3e4989"
             ],
             [
              0.3333333333333333,
              "#31688e"
             ],
             [
              0.4444444444444444,
              "#26828e"
             ],
             [
              0.5555555555555556,
              "#1f9e89"
             ],
             [
              0.6666666666666666,
              "#35b779"
             ],
             [
              0.7777777777777778,
              "#6ece58"
             ],
             [
              0.8888888888888888,
              "#b5de2b"
             ],
             [
              1,
              "#fde725"
             ]
            ],
            "type": "histogram2d"
           }
          ],
          "histogram2dcontour": [
           {
            "colorbar": {
             "outlinewidth": 1,
             "tickcolor": "rgb(36,36,36)",
             "ticks": "outside"
            },
            "colorscale": [
             [
              0,
              "#440154"
             ],
             [
              0.1111111111111111,
              "#482878"
             ],
             [
              0.2222222222222222,
              "#3e4989"
             ],
             [
              0.3333333333333333,
              "#31688e"
             ],
             [
              0.4444444444444444,
              "#26828e"
             ],
             [
              0.5555555555555556,
              "#1f9e89"
             ],
             [
              0.6666666666666666,
              "#35b779"
             ],
             [
              0.7777777777777778,
              "#6ece58"
             ],
             [
              0.8888888888888888,
              "#b5de2b"
             ],
             [
              1,
              "#fde725"
             ]
            ],
            "type": "histogram2dcontour"
           }
          ],
          "mesh3d": [
           {
            "colorbar": {
             "outlinewidth": 1,
             "tickcolor": "rgb(36,36,36)",
             "ticks": "outside"
            },
            "type": "mesh3d"
           }
          ],
          "parcoords": [
           {
            "line": {
             "colorbar": {
              "outlinewidth": 1,
              "tickcolor": "rgb(36,36,36)",
              "ticks": "outside"
             }
            },
            "type": "parcoords"
           }
          ],
          "pie": [
           {
            "automargin": true,
            "type": "pie"
           }
          ],
          "scatter": [
           {
            "marker": {
             "colorbar": {
              "outlinewidth": 1,
              "tickcolor": "rgb(36,36,36)",
              "ticks": "outside"
             }
            },
            "type": "scatter"
           }
          ],
          "scatter3d": [
           {
            "line": {
             "colorbar": {
              "outlinewidth": 1,
              "tickcolor": "rgb(36,36,36)",
              "ticks": "outside"
             }
            },
            "marker": {
             "colorbar": {
              "outlinewidth": 1,
              "tickcolor": "rgb(36,36,36)",
              "ticks": "outside"
             }
            },
            "type": "scatter3d"
           }
          ],
          "scattercarpet": [
           {
            "marker": {
             "colorbar": {
              "outlinewidth": 1,
              "tickcolor": "rgb(36,36,36)",
              "ticks": "outside"
             }
            },
            "type": "scattercarpet"
           }
          ],
          "scattergeo": [
           {
            "marker": {
             "colorbar": {
              "outlinewidth": 1,
              "tickcolor": "rgb(36,36,36)",
              "ticks": "outside"
             }
            },
            "type": "scattergeo"
           }
          ],
          "scattergl": [
           {
            "marker": {
             "colorbar": {
              "outlinewidth": 1,
              "tickcolor": "rgb(36,36,36)",
              "ticks": "outside"
             }
            },
            "type": "scattergl"
           }
          ],
          "scattermapbox": [
           {
            "marker": {
             "colorbar": {
              "outlinewidth": 1,
              "tickcolor": "rgb(36,36,36)",
              "ticks": "outside"
             }
            },
            "type": "scattermapbox"
           }
          ],
          "scatterpolar": [
           {
            "marker": {
             "colorbar": {
              "outlinewidth": 1,
              "tickcolor": "rgb(36,36,36)",
              "ticks": "outside"
             }
            },
            "type": "scatterpolar"
           }
          ],
          "scatterpolargl": [
           {
            "marker": {
             "colorbar": {
              "outlinewidth": 1,
              "tickcolor": "rgb(36,36,36)",
              "ticks": "outside"
             }
            },
            "type": "scatterpolargl"
           }
          ],
          "scatterternary": [
           {
            "marker": {
             "colorbar": {
              "outlinewidth": 1,
              "tickcolor": "rgb(36,36,36)",
              "ticks": "outside"
             }
            },
            "type": "scatterternary"
           }
          ],
          "surface": [
           {
            "colorbar": {
             "outlinewidth": 1,
             "tickcolor": "rgb(36,36,36)",
             "ticks": "outside"
            },
            "colorscale": [
             [
              0,
              "#440154"
             ],
             [
              0.1111111111111111,
              "#482878"
             ],
             [
              0.2222222222222222,
              "#3e4989"
             ],
             [
              0.3333333333333333,
              "#31688e"
             ],
             [
              0.4444444444444444,
              "#26828e"
             ],
             [
              0.5555555555555556,
              "#1f9e89"
             ],
             [
              0.6666666666666666,
              "#35b779"
             ],
             [
              0.7777777777777778,
              "#6ece58"
             ],
             [
              0.8888888888888888,
              "#b5de2b"
             ],
             [
              1,
              "#fde725"
             ]
            ],
            "type": "surface"
           }
          ],
          "table": [
           {
            "cells": {
             "fill": {
              "color": "rgb(237,237,237)"
             },
             "line": {
              "color": "white"
             }
            },
            "header": {
             "fill": {
              "color": "rgb(217,217,217)"
             },
             "line": {
              "color": "white"
             }
            },
            "type": "table"
           }
          ]
         },
         "layout": {
          "annotationdefaults": {
           "arrowhead": 0,
           "arrowwidth": 1
          },
          "autotypenumbers": "strict",
          "coloraxis": {
           "colorbar": {
            "outlinewidth": 1,
            "tickcolor": "rgb(36,36,36)",
            "ticks": "outside"
           }
          },
          "colorscale": {
           "diverging": [
            [
             0,
             "rgb(103,0,31)"
            ],
            [
             0.1,
             "rgb(178,24,43)"
            ],
            [
             0.2,
             "rgb(214,96,77)"
            ],
            [
             0.3,
             "rgb(244,165,130)"
            ],
            [
             0.4,
             "rgb(253,219,199)"
            ],
            [
             0.5,
             "rgb(247,247,247)"
            ],
            [
             0.6,
             "rgb(209,229,240)"
            ],
            [
             0.7,
             "rgb(146,197,222)"
            ],
            [
             0.8,
             "rgb(67,147,195)"
            ],
            [
             0.9,
             "rgb(33,102,172)"
            ],
            [
             1,
             "rgb(5,48,97)"
            ]
           ],
           "sequential": [
            [
             0,
             "#440154"
            ],
            [
             0.1111111111111111,
             "#482878"
            ],
            [
             0.2222222222222222,
             "#3e4989"
            ],
            [
             0.3333333333333333,
             "#31688e"
            ],
            [
             0.4444444444444444,
             "#26828e"
            ],
            [
             0.5555555555555556,
             "#1f9e89"
            ],
            [
             0.6666666666666666,
             "#35b779"
            ],
            [
             0.7777777777777778,
             "#6ece58"
            ],
            [
             0.8888888888888888,
             "#b5de2b"
            ],
            [
             1,
             "#fde725"
            ]
           ],
           "sequentialminus": [
            [
             0,
             "#440154"
            ],
            [
             0.1111111111111111,
             "#482878"
            ],
            [
             0.2222222222222222,
             "#3e4989"
            ],
            [
             0.3333333333333333,
             "#31688e"
            ],
            [
             0.4444444444444444,
             "#26828e"
            ],
            [
             0.5555555555555556,
             "#1f9e89"
            ],
            [
             0.6666666666666666,
             "#35b779"
            ],
            [
             0.7777777777777778,
             "#6ece58"
            ],
            [
             0.8888888888888888,
             "#b5de2b"
            ],
            [
             1,
             "#fde725"
            ]
           ]
          },
          "colorway": [
           "#1F77B4",
           "#FF7F0E",
           "#2CA02C",
           "#D62728",
           "#9467BD",
           "#8C564B",
           "#E377C2",
           "#7F7F7F",
           "#BCBD22",
           "#17BECF"
          ],
          "font": {
           "color": "rgb(36,36,36)"
          },
          "geo": {
           "bgcolor": "white",
           "lakecolor": "white",
           "landcolor": "white",
           "showlakes": true,
           "showland": true,
           "subunitcolor": "white"
          },
          "hoverlabel": {
           "align": "left"
          },
          "hovermode": "closest",
          "mapbox": {
           "style": "light"
          },
          "paper_bgcolor": "white",
          "plot_bgcolor": "white",
          "polar": {
           "angularaxis": {
            "gridcolor": "rgb(232,232,232)",
            "linecolor": "rgb(36,36,36)",
            "showgrid": false,
            "showline": true,
            "ticks": "outside"
           },
           "bgcolor": "white",
           "radialaxis": {
            "gridcolor": "rgb(232,232,232)",
            "linecolor": "rgb(36,36,36)",
            "showgrid": false,
            "showline": true,
            "ticks": "outside"
           }
          },
          "scene": {
           "xaxis": {
            "backgroundcolor": "white",
            "gridcolor": "rgb(232,232,232)",
            "gridwidth": 2,
            "linecolor": "rgb(36,36,36)",
            "showbackground": true,
            "showgrid": false,
            "showline": true,
            "ticks": "outside",
            "zeroline": false,
            "zerolinecolor": "rgb(36,36,36)"
           },
           "yaxis": {
            "backgroundcolor": "white",
            "gridcolor": "rgb(232,232,232)",
            "gridwidth": 2,
            "linecolor": "rgb(36,36,36)",
            "showbackground": true,
            "showgrid": false,
            "showline": true,
            "ticks": "outside",
            "zeroline": false,
            "zerolinecolor": "rgb(36,36,36)"
           },
           "zaxis": {
            "backgroundcolor": "white",
            "gridcolor": "rgb(232,232,232)",
            "gridwidth": 2,
            "linecolor": "rgb(36,36,36)",
            "showbackground": true,
            "showgrid": false,
            "showline": true,
            "ticks": "outside",
            "zeroline": false,
            "zerolinecolor": "rgb(36,36,36)"
           }
          },
          "shapedefaults": {
           "fillcolor": "black",
           "line": {
            "width": 0
           },
           "opacity": 0.3
          },
          "ternary": {
           "aaxis": {
            "gridcolor": "rgb(232,232,232)",
            "linecolor": "rgb(36,36,36)",
            "showgrid": false,
            "showline": true,
            "ticks": "outside"
           },
           "baxis": {
            "gridcolor": "rgb(232,232,232)",
            "linecolor": "rgb(36,36,36)",
            "showgrid": false,
            "showline": true,
            "ticks": "outside"
           },
           "bgcolor": "white",
           "caxis": {
            "gridcolor": "rgb(232,232,232)",
            "linecolor": "rgb(36,36,36)",
            "showgrid": false,
            "showline": true,
            "ticks": "outside"
           }
          },
          "title": {
           "x": 0.05
          },
          "xaxis": {
           "automargin": true,
           "gridcolor": "rgb(232,232,232)",
           "linecolor": "rgb(36,36,36)",
           "showgrid": false,
           "showline": true,
           "ticks": "outside",
           "title": {
            "standoff": 15
           },
           "zeroline": false,
           "zerolinecolor": "rgb(36,36,36)"
          },
          "yaxis": {
           "automargin": true,
           "gridcolor": "rgb(232,232,232)",
           "linecolor": "rgb(36,36,36)",
           "showgrid": false,
           "showline": true,
           "ticks": "outside",
           "title": {
            "standoff": 15
           },
           "zeroline": false,
           "zerolinecolor": "rgb(36,36,36)"
          }
         }
        },
        "title": {
         "font": {
          "size": 26
         },
         "text": "Toss decision in different seasons"
        },
        "xaxis": {
         "anchor": "y",
         "domain": [
          0,
          1
         ],
         "title": {
          "text": "Season"
         }
        },
        "yaxis": {
         "anchor": "x",
         "domain": [
          0,
          1
         ],
         "title": {
          "text": "count"
         }
        }
       }
      }
     },
     "metadata": {},
     "output_type": "display_data"
    }
   ],
   "source": [
    "fig=px.histogram(data_frame=match_data,x='Season',color='toss_decision',color_discrete_sequence=colors,barmode='group')\n",
    "fig.update_layout(title=\"Toss decision in different seasons\",\n",
    "                  titlefont={'size': 26},template='simple_white'     \n",
    "                  )\n",
    "fig.update_traces(marker_line_color='black',\n",
    "                  marker_line_width=2.5, opacity=1)\n",
    "fig.show()"
   ]
  },
  {
   "attachments": {},
   "cell_type": "markdown",
   "metadata": {},
   "source": [
    "This shows that after winnig the toss the team tends to field first "
   ]
  },
  {
   "attachments": {},
   "cell_type": "markdown",
   "metadata": {},
   "source": [
    "#### Does winning toss implies winning game?"
   ]
  },
  {
   "cell_type": "code",
   "execution_count": 220,
   "metadata": {},
   "outputs": [
    {
     "data": {
      "text/html": [
       "<div>\n",
       "<style scoped>\n",
       "    .dataframe tbody tr th:only-of-type {\n",
       "        vertical-align: middle;\n",
       "    }\n",
       "\n",
       "    .dataframe tbody tr th {\n",
       "        vertical-align: top;\n",
       "    }\n",
       "\n",
       "    .dataframe thead th {\n",
       "        text-align: right;\n",
       "    }\n",
       "</style>\n",
       "<table border=\"1\" class=\"dataframe\">\n",
       "  <thead>\n",
       "    <tr style=\"text-align: right;\">\n",
       "      <th></th>\n",
       "      <th>id</th>\n",
       "      <th>city</th>\n",
       "      <th>date</th>\n",
       "      <th>player_of_match</th>\n",
       "      <th>venue</th>\n",
       "      <th>neutral_venue</th>\n",
       "      <th>team1</th>\n",
       "      <th>team2</th>\n",
       "      <th>toss_winner</th>\n",
       "      <th>toss_decision</th>\n",
       "      <th>winner</th>\n",
       "      <th>result</th>\n",
       "      <th>result_margin</th>\n",
       "      <th>eliminator</th>\n",
       "      <th>method</th>\n",
       "      <th>umpire1</th>\n",
       "      <th>umpire2</th>\n",
       "      <th>Season</th>\n",
       "      <th>toss_win_game_win</th>\n",
       "    </tr>\n",
       "  </thead>\n",
       "  <tbody>\n",
       "    <tr>\n",
       "      <th>0</th>\n",
       "      <td>335982</td>\n",
       "      <td>Bangalore</td>\n",
       "      <td>18-04-2008</td>\n",
       "      <td>BB McCullum</td>\n",
       "      <td>M Chinnaswamy Stadium</td>\n",
       "      <td>0</td>\n",
       "      <td>Royal Challengers Bangalore</td>\n",
       "      <td>Kolkata Knight Riders</td>\n",
       "      <td>Royal Challengers Bangalore</td>\n",
       "      <td>field</td>\n",
       "      <td>Kolkata Knight Riders</td>\n",
       "      <td>runs</td>\n",
       "      <td>140.0</td>\n",
       "      <td>N</td>\n",
       "      <td>NaN</td>\n",
       "      <td>Asad Rauf</td>\n",
       "      <td>RE Koertzen</td>\n",
       "      <td>2008</td>\n",
       "      <td>No</td>\n",
       "    </tr>\n",
       "    <tr>\n",
       "      <th>1</th>\n",
       "      <td>335983</td>\n",
       "      <td>Chandigarh</td>\n",
       "      <td>19-04-2008</td>\n",
       "      <td>MEK Hussey</td>\n",
       "      <td>Punjab Cricket Association Stadium, Mohali</td>\n",
       "      <td>0</td>\n",
       "      <td>Kings XI Punjab</td>\n",
       "      <td>Chennai Super Kings</td>\n",
       "      <td>Chennai Super Kings</td>\n",
       "      <td>bat</td>\n",
       "      <td>Chennai Super Kings</td>\n",
       "      <td>runs</td>\n",
       "      <td>33.0</td>\n",
       "      <td>N</td>\n",
       "      <td>NaN</td>\n",
       "      <td>MR Benson</td>\n",
       "      <td>SL Shastri</td>\n",
       "      <td>2008</td>\n",
       "      <td>Yes</td>\n",
       "    </tr>\n",
       "    <tr>\n",
       "      <th>2</th>\n",
       "      <td>335984</td>\n",
       "      <td>Delhi</td>\n",
       "      <td>19-04-2008</td>\n",
       "      <td>MF Maharoof</td>\n",
       "      <td>Feroz Shah Kotla</td>\n",
       "      <td>0</td>\n",
       "      <td>Delhi Daredevils</td>\n",
       "      <td>Rajasthan Royals</td>\n",
       "      <td>Rajasthan Royals</td>\n",
       "      <td>bat</td>\n",
       "      <td>Delhi Daredevils</td>\n",
       "      <td>wickets</td>\n",
       "      <td>9.0</td>\n",
       "      <td>N</td>\n",
       "      <td>NaN</td>\n",
       "      <td>Aleem Dar</td>\n",
       "      <td>GA Pratapkumar</td>\n",
       "      <td>2008</td>\n",
       "      <td>No</td>\n",
       "    </tr>\n",
       "    <tr>\n",
       "      <th>3</th>\n",
       "      <td>335985</td>\n",
       "      <td>Mumbai</td>\n",
       "      <td>20-04-2008</td>\n",
       "      <td>MV Boucher</td>\n",
       "      <td>Wankhede Stadium</td>\n",
       "      <td>0</td>\n",
       "      <td>Mumbai Indians</td>\n",
       "      <td>Royal Challengers Bangalore</td>\n",
       "      <td>Mumbai Indians</td>\n",
       "      <td>bat</td>\n",
       "      <td>Royal Challengers Bangalore</td>\n",
       "      <td>wickets</td>\n",
       "      <td>5.0</td>\n",
       "      <td>N</td>\n",
       "      <td>NaN</td>\n",
       "      <td>SJ Davis</td>\n",
       "      <td>DJ Harper</td>\n",
       "      <td>2008</td>\n",
       "      <td>No</td>\n",
       "    </tr>\n",
       "    <tr>\n",
       "      <th>4</th>\n",
       "      <td>335986</td>\n",
       "      <td>Kolkata</td>\n",
       "      <td>20-04-2008</td>\n",
       "      <td>DJ Hussey</td>\n",
       "      <td>Eden Gardens</td>\n",
       "      <td>0</td>\n",
       "      <td>Kolkata Knight Riders</td>\n",
       "      <td>Deccan Chargers</td>\n",
       "      <td>Deccan Chargers</td>\n",
       "      <td>bat</td>\n",
       "      <td>Kolkata Knight Riders</td>\n",
       "      <td>wickets</td>\n",
       "      <td>5.0</td>\n",
       "      <td>N</td>\n",
       "      <td>NaN</td>\n",
       "      <td>BF Bowden</td>\n",
       "      <td>K Hariharan</td>\n",
       "      <td>2008</td>\n",
       "      <td>No</td>\n",
       "    </tr>\n",
       "  </tbody>\n",
       "</table>\n",
       "</div>"
      ],
      "text/plain": [
       "       id        city        date player_of_match  \\\n",
       "0  335982   Bangalore  18-04-2008     BB McCullum   \n",
       "1  335983  Chandigarh  19-04-2008      MEK Hussey   \n",
       "2  335984       Delhi  19-04-2008     MF Maharoof   \n",
       "3  335985      Mumbai  20-04-2008      MV Boucher   \n",
       "4  335986     Kolkata  20-04-2008       DJ Hussey   \n",
       "\n",
       "                                        venue  neutral_venue  \\\n",
       "0                       M Chinnaswamy Stadium              0   \n",
       "1  Punjab Cricket Association Stadium, Mohali              0   \n",
       "2                            Feroz Shah Kotla              0   \n",
       "3                            Wankhede Stadium              0   \n",
       "4                                Eden Gardens              0   \n",
       "\n",
       "                         team1                        team2  \\\n",
       "0  Royal Challengers Bangalore        Kolkata Knight Riders   \n",
       "1              Kings XI Punjab          Chennai Super Kings   \n",
       "2             Delhi Daredevils             Rajasthan Royals   \n",
       "3               Mumbai Indians  Royal Challengers Bangalore   \n",
       "4        Kolkata Knight Riders              Deccan Chargers   \n",
       "\n",
       "                   toss_winner toss_decision                       winner  \\\n",
       "0  Royal Challengers Bangalore         field        Kolkata Knight Riders   \n",
       "1          Chennai Super Kings           bat          Chennai Super Kings   \n",
       "2             Rajasthan Royals           bat             Delhi Daredevils   \n",
       "3               Mumbai Indians           bat  Royal Challengers Bangalore   \n",
       "4              Deccan Chargers           bat        Kolkata Knight Riders   \n",
       "\n",
       "    result  result_margin eliminator method    umpire1         umpire2  \\\n",
       "0     runs          140.0          N    NaN  Asad Rauf     RE Koertzen   \n",
       "1     runs           33.0          N    NaN  MR Benson      SL Shastri   \n",
       "2  wickets            9.0          N    NaN  Aleem Dar  GA Pratapkumar   \n",
       "3  wickets            5.0          N    NaN   SJ Davis       DJ Harper   \n",
       "4  wickets            5.0          N    NaN  BF Bowden     K Hariharan   \n",
       "\n",
       "   Season toss_win_game_win  \n",
       "0    2008                No  \n",
       "1    2008               Yes  \n",
       "2    2008                No  \n",
       "3    2008                No  \n",
       "4    2008                No  "
      ]
     },
     "execution_count": 220,
     "metadata": {},
     "output_type": "execute_result"
    }
   ],
   "source": [
    "match_data['toss_win_game_win'] = np.where((match_data.toss_winner == match_data.winner),'Yes','No')\n",
    "match_data.head()\n"
   ]
  },
  {
   "cell_type": "code",
   "execution_count": 221,
   "metadata": {},
   "outputs": [
    {
     "data": {
      "application/vnd.plotly.v1+json": {
       "config": {
        "plotlyServerURL": "https://plot.ly"
       },
       "data": [
        {
         "hole": 0.3,
         "hoverinfo": "label+percent",
         "labels": [
          "Yes",
          "No"
         ],
         "marker": {
          "colors": [
           "turquoise",
           "crimson"
          ],
          "line": {
           "color": "#000000",
           "width": 3
          }
         },
         "textfont": {
          "size": 20
         },
         "textinfo": "label+percent",
         "type": "pie",
         "values": [
          418,
          398
         ]
        }
       ],
       "layout": {
        "template": {
         "data": {
          "bar": [
           {
            "error_x": {
             "color": "#2a3f5f"
            },
            "error_y": {
             "color": "#2a3f5f"
            },
            "marker": {
             "line": {
              "color": "#E5ECF6",
              "width": 0.5
             },
             "pattern": {
              "fillmode": "overlay",
              "size": 10,
              "solidity": 0.2
             }
            },
            "type": "bar"
           }
          ],
          "barpolar": [
           {
            "marker": {
             "line": {
              "color": "#E5ECF6",
              "width": 0.5
             },
             "pattern": {
              "fillmode": "overlay",
              "size": 10,
              "solidity": 0.2
             }
            },
            "type": "barpolar"
           }
          ],
          "carpet": [
           {
            "aaxis": {
             "endlinecolor": "#2a3f5f",
             "gridcolor": "white",
             "linecolor": "white",
             "minorgridcolor": "white",
             "startlinecolor": "#2a3f5f"
            },
            "baxis": {
             "endlinecolor": "#2a3f5f",
             "gridcolor": "white",
             "linecolor": "white",
             "minorgridcolor": "white",
             "startlinecolor": "#2a3f5f"
            },
            "type": "carpet"
           }
          ],
          "choropleth": [
           {
            "colorbar": {
             "outlinewidth": 0,
             "ticks": ""
            },
            "type": "choropleth"
           }
          ],
          "contour": [
           {
            "colorbar": {
             "outlinewidth": 0,
             "ticks": ""
            },
            "colorscale": [
             [
              0,
              "#0d0887"
             ],
             [
              0.1111111111111111,
              "#46039f"
             ],
             [
              0.2222222222222222,
              "#7201a8"
             ],
             [
              0.3333333333333333,
              "#9c179e"
             ],
             [
              0.4444444444444444,
              "#bd3786"
             ],
             [
              0.5555555555555556,
              "#d8576b"
             ],
             [
              0.6666666666666666,
              "#ed7953"
             ],
             [
              0.7777777777777778,
              "#fb9f3a"
             ],
             [
              0.8888888888888888,
              "#fdca26"
             ],
             [
              1,
              "#f0f921"
             ]
            ],
            "type": "contour"
           }
          ],
          "contourcarpet": [
           {
            "colorbar": {
             "outlinewidth": 0,
             "ticks": ""
            },
            "type": "contourcarpet"
           }
          ],
          "heatmap": [
           {
            "colorbar": {
             "outlinewidth": 0,
             "ticks": ""
            },
            "colorscale": [
             [
              0,
              "#0d0887"
             ],
             [
              0.1111111111111111,
              "#46039f"
             ],
             [
              0.2222222222222222,
              "#7201a8"
             ],
             [
              0.3333333333333333,
              "#9c179e"
             ],
             [
              0.4444444444444444,
              "#bd3786"
             ],
             [
              0.5555555555555556,
              "#d8576b"
             ],
             [
              0.6666666666666666,
              "#ed7953"
             ],
             [
              0.7777777777777778,
              "#fb9f3a"
             ],
             [
              0.8888888888888888,
              "#fdca26"
             ],
             [
              1,
              "#f0f921"
             ]
            ],
            "type": "heatmap"
           }
          ],
          "heatmapgl": [
           {
            "colorbar": {
             "outlinewidth": 0,
             "ticks": ""
            },
            "colorscale": [
             [
              0,
              "#0d0887"
             ],
             [
              0.1111111111111111,
              "#46039f"
             ],
             [
              0.2222222222222222,
              "#7201a8"
             ],
             [
              0.3333333333333333,
              "#9c179e"
             ],
             [
              0.4444444444444444,
              "#bd3786"
             ],
             [
              0.5555555555555556,
              "#d8576b"
             ],
             [
              0.6666666666666666,
              "#ed7953"
             ],
             [
              0.7777777777777778,
              "#fb9f3a"
             ],
             [
              0.8888888888888888,
              "#fdca26"
             ],
             [
              1,
              "#f0f921"
             ]
            ],
            "type": "heatmapgl"
           }
          ],
          "histogram": [
           {
            "marker": {
             "pattern": {
              "fillmode": "overlay",
              "size": 10,
              "solidity": 0.2
             }
            },
            "type": "histogram"
           }
          ],
          "histogram2d": [
           {
            "colorbar": {
             "outlinewidth": 0,
             "ticks": ""
            },
            "colorscale": [
             [
              0,
              "#0d0887"
             ],
             [
              0.1111111111111111,
              "#46039f"
             ],
             [
              0.2222222222222222,
              "#7201a8"
             ],
             [
              0.3333333333333333,
              "#9c179e"
             ],
             [
              0.4444444444444444,
              "#bd3786"
             ],
             [
              0.5555555555555556,
              "#d8576b"
             ],
             [
              0.6666666666666666,
              "#ed7953"
             ],
             [
              0.7777777777777778,
              "#fb9f3a"
             ],
             [
              0.8888888888888888,
              "#fdca26"
             ],
             [
              1,
              "#f0f921"
             ]
            ],
            "type": "histogram2d"
           }
          ],
          "histogram2dcontour": [
           {
            "colorbar": {
             "outlinewidth": 0,
             "ticks": ""
            },
            "colorscale": [
             [
              0,
              "#0d0887"
             ],
             [
              0.1111111111111111,
              "#46039f"
             ],
             [
              0.2222222222222222,
              "#7201a8"
             ],
             [
              0.3333333333333333,
              "#9c179e"
             ],
             [
              0.4444444444444444,
              "#bd3786"
             ],
             [
              0.5555555555555556,
              "#d8576b"
             ],
             [
              0.6666666666666666,
              "#ed7953"
             ],
             [
              0.7777777777777778,
              "#fb9f3a"
             ],
             [
              0.8888888888888888,
              "#fdca26"
             ],
             [
              1,
              "#f0f921"
             ]
            ],
            "type": "histogram2dcontour"
           }
          ],
          "mesh3d": [
           {
            "colorbar": {
             "outlinewidth": 0,
             "ticks": ""
            },
            "type": "mesh3d"
           }
          ],
          "parcoords": [
           {
            "line": {
             "colorbar": {
              "outlinewidth": 0,
              "ticks": ""
             }
            },
            "type": "parcoords"
           }
          ],
          "pie": [
           {
            "automargin": true,
            "type": "pie"
           }
          ],
          "scatter": [
           {
            "marker": {
             "colorbar": {
              "outlinewidth": 0,
              "ticks": ""
             }
            },
            "type": "scatter"
           }
          ],
          "scatter3d": [
           {
            "line": {
             "colorbar": {
              "outlinewidth": 0,
              "ticks": ""
             }
            },
            "marker": {
             "colorbar": {
              "outlinewidth": 0,
              "ticks": ""
             }
            },
            "type": "scatter3d"
           }
          ],
          "scattercarpet": [
           {
            "marker": {
             "colorbar": {
              "outlinewidth": 0,
              "ticks": ""
             }
            },
            "type": "scattercarpet"
           }
          ],
          "scattergeo": [
           {
            "marker": {
             "colorbar": {
              "outlinewidth": 0,
              "ticks": ""
             }
            },
            "type": "scattergeo"
           }
          ],
          "scattergl": [
           {
            "marker": {
             "colorbar": {
              "outlinewidth": 0,
              "ticks": ""
             }
            },
            "type": "scattergl"
           }
          ],
          "scattermapbox": [
           {
            "marker": {
             "colorbar": {
              "outlinewidth": 0,
              "ticks": ""
             }
            },
            "type": "scattermapbox"
           }
          ],
          "scatterpolar": [
           {
            "marker": {
             "colorbar": {
              "outlinewidth": 0,
              "ticks": ""
             }
            },
            "type": "scatterpolar"
           }
          ],
          "scatterpolargl": [
           {
            "marker": {
             "colorbar": {
              "outlinewidth": 0,
              "ticks": ""
             }
            },
            "type": "scatterpolargl"
           }
          ],
          "scatterternary": [
           {
            "marker": {
             "colorbar": {
              "outlinewidth": 0,
              "ticks": ""
             }
            },
            "type": "scatterternary"
           }
          ],
          "surface": [
           {
            "colorbar": {
             "outlinewidth": 0,
             "ticks": ""
            },
            "colorscale": [
             [
              0,
              "#0d0887"
             ],
             [
              0.1111111111111111,
              "#46039f"
             ],
             [
              0.2222222222222222,
              "#7201a8"
             ],
             [
              0.3333333333333333,
              "#9c179e"
             ],
             [
              0.4444444444444444,
              "#bd3786"
             ],
             [
              0.5555555555555556,
              "#d8576b"
             ],
             [
              0.6666666666666666,
              "#ed7953"
             ],
             [
              0.7777777777777778,
              "#fb9f3a"
             ],
             [
              0.8888888888888888,
              "#fdca26"
             ],
             [
              1,
              "#f0f921"
             ]
            ],
            "type": "surface"
           }
          ],
          "table": [
           {
            "cells": {
             "fill": {
              "color": "#EBF0F8"
             },
             "line": {
              "color": "white"
             }
            },
            "header": {
             "fill": {
              "color": "#C8D4E3"
             },
             "line": {
              "color": "white"
             }
            },
            "type": "table"
           }
          ]
         },
         "layout": {
          "annotationdefaults": {
           "arrowcolor": "#2a3f5f",
           "arrowhead": 0,
           "arrowwidth": 1
          },
          "autotypenumbers": "strict",
          "coloraxis": {
           "colorbar": {
            "outlinewidth": 0,
            "ticks": ""
           }
          },
          "colorscale": {
           "diverging": [
            [
             0,
             "#8e0152"
            ],
            [
             0.1,
             "#c51b7d"
            ],
            [
             0.2,
             "#de77ae"
            ],
            [
             0.3,
             "#f1b6da"
            ],
            [
             0.4,
             "#fde0ef"
            ],
            [
             0.5,
             "#f7f7f7"
            ],
            [
             0.6,
             "#e6f5d0"
            ],
            [
             0.7,
             "#b8e186"
            ],
            [
             0.8,
             "#7fbc41"
            ],
            [
             0.9,
             "#4d9221"
            ],
            [
             1,
             "#276419"
            ]
           ],
           "sequential": [
            [
             0,
             "#0d0887"
            ],
            [
             0.1111111111111111,
             "#46039f"
            ],
            [
             0.2222222222222222,
             "#7201a8"
            ],
            [
             0.3333333333333333,
             "#9c179e"
            ],
            [
             0.4444444444444444,
             "#bd3786"
            ],
            [
             0.5555555555555556,
             "#d8576b"
            ],
            [
             0.6666666666666666,
             "#ed7953"
            ],
            [
             0.7777777777777778,
             "#fb9f3a"
            ],
            [
             0.8888888888888888,
             "#fdca26"
            ],
            [
             1,
             "#f0f921"
            ]
           ],
           "sequentialminus": [
            [
             0,
             "#0d0887"
            ],
            [
             0.1111111111111111,
             "#46039f"
            ],
            [
             0.2222222222222222,
             "#7201a8"
            ],
            [
             0.3333333333333333,
             "#9c179e"
            ],
            [
             0.4444444444444444,
             "#bd3786"
            ],
            [
             0.5555555555555556,
             "#d8576b"
            ],
            [
             0.6666666666666666,
             "#ed7953"
            ],
            [
             0.7777777777777778,
             "#fb9f3a"
            ],
            [
             0.8888888888888888,
             "#fdca26"
            ],
            [
             1,
             "#f0f921"
            ]
           ]
          },
          "colorway": [
           "#636efa",
           "#EF553B",
           "#00cc96",
           "#ab63fa",
           "#FFA15A",
           "#19d3f3",
           "#FF6692",
           "#B6E880",
           "#FF97FF",
           "#FECB52"
          ],
          "font": {
           "color": "#2a3f5f"
          },
          "geo": {
           "bgcolor": "white",
           "lakecolor": "white",
           "landcolor": "#E5ECF6",
           "showlakes": true,
           "showland": true,
           "subunitcolor": "white"
          },
          "hoverlabel": {
           "align": "left"
          },
          "hovermode": "closest",
          "mapbox": {
           "style": "light"
          },
          "paper_bgcolor": "white",
          "plot_bgcolor": "#E5ECF6",
          "polar": {
           "angularaxis": {
            "gridcolor": "white",
            "linecolor": "white",
            "ticks": ""
           },
           "bgcolor": "#E5ECF6",
           "radialaxis": {
            "gridcolor": "white",
            "linecolor": "white",
            "ticks": ""
           }
          },
          "scene": {
           "xaxis": {
            "backgroundcolor": "#E5ECF6",
            "gridcolor": "white",
            "gridwidth": 2,
            "linecolor": "white",
            "showbackground": true,
            "ticks": "",
            "zerolinecolor": "white"
           },
           "yaxis": {
            "backgroundcolor": "#E5ECF6",
            "gridcolor": "white",
            "gridwidth": 2,
            "linecolor": "white",
            "showbackground": true,
            "ticks": "",
            "zerolinecolor": "white"
           },
           "zaxis": {
            "backgroundcolor": "#E5ECF6",
            "gridcolor": "white",
            "gridwidth": 2,
            "linecolor": "white",
            "showbackground": true,
            "ticks": "",
            "zerolinecolor": "white"
           }
          },
          "shapedefaults": {
           "line": {
            "color": "#2a3f5f"
           }
          },
          "ternary": {
           "aaxis": {
            "gridcolor": "white",
            "linecolor": "white",
            "ticks": ""
           },
           "baxis": {
            "gridcolor": "white",
            "linecolor": "white",
            "ticks": ""
           },
           "bgcolor": "#E5ECF6",
           "caxis": {
            "gridcolor": "white",
            "linecolor": "white",
            "ticks": ""
           }
          },
          "title": {
           "x": 0.05
          },
          "xaxis": {
           "automargin": true,
           "gridcolor": "white",
           "linecolor": "white",
           "ticks": "",
           "title": {
            "standoff": 15
           },
           "zerolinecolor": "white",
           "zerolinewidth": 2
          },
          "yaxis": {
           "automargin": true,
           "gridcolor": "white",
           "linecolor": "white",
           "ticks": "",
           "title": {
            "standoff": 15
           },
           "zerolinecolor": "white",
           "zerolinewidth": 2
          }
         }
        },
        "title": {
         "font": {
          "size": 30
         },
         "text": "Winning toss implies winning macthes?"
        }
       }
      }
     },
     "metadata": {},
     "output_type": "display_data"
    }
   ],
   "source": [
    "labels =[\"Yes\",'No']\n",
    "values = match_data['toss_win_game_win'].value_counts()\n",
    "colors = ['turquoise', 'crimson']\n",
    "fig = go.Figure(data=[go.Pie(labels=labels,\n",
    "                             values=values,hole=.3)])\n",
    "fig.update_traces(hoverinfo='label+percent', textinfo='label+percent', textfont_size=20,\n",
    "                  marker=dict(colors=colors, line=dict(color='#000000', width=3)))\n",
    "fig.update_layout(title=\"Winning toss implies winning macthes?\",\n",
    "                  titlefont={'size': 30},\n",
    "                  )\n",
    "fig.show()"
   ]
  },
  {
   "attachments": {},
   "cell_type": "markdown",
   "metadata": {},
   "source": [
    "Hence we can say that it doesn't matter if team looses or wins toss"
   ]
  },
  {
   "attachments": {},
   "cell_type": "markdown",
   "metadata": {},
   "source": [
    "#### Success Rate "
   ]
  },
  {
   "cell_type": "code",
   "execution_count": 222,
   "metadata": {},
   "outputs": [
    {
     "data": {
      "text/html": [
       "<div>\n",
       "<style scoped>\n",
       "    .dataframe tbody tr th:only-of-type {\n",
       "        vertical-align: middle;\n",
       "    }\n",
       "\n",
       "    .dataframe tbody tr th {\n",
       "        vertical-align: top;\n",
       "    }\n",
       "\n",
       "    .dataframe thead th {\n",
       "        text-align: right;\n",
       "    }\n",
       "</style>\n",
       "<table border=\"1\" class=\"dataframe\">\n",
       "  <thead>\n",
       "    <tr style=\"text-align: right;\">\n",
       "      <th></th>\n",
       "      <th>Team Name</th>\n",
       "      <th>Wins</th>\n",
       "    </tr>\n",
       "  </thead>\n",
       "  <tbody>\n",
       "    <tr>\n",
       "      <th>0</th>\n",
       "      <td>Mumbai Indians</td>\n",
       "      <td>120</td>\n",
       "    </tr>\n",
       "    <tr>\n",
       "      <th>1</th>\n",
       "      <td>Chennai Super Kings</td>\n",
       "      <td>106</td>\n",
       "    </tr>\n",
       "    <tr>\n",
       "      <th>2</th>\n",
       "      <td>Kolkata Knight Riders</td>\n",
       "      <td>99</td>\n",
       "    </tr>\n",
       "    <tr>\n",
       "      <th>3</th>\n",
       "      <td>Royal Challengers Bangalore</td>\n",
       "      <td>91</td>\n",
       "    </tr>\n",
       "    <tr>\n",
       "      <th>4</th>\n",
       "      <td>Kings XI Punjab</td>\n",
       "      <td>88</td>\n",
       "    </tr>\n",
       "    <tr>\n",
       "      <th>5</th>\n",
       "      <td>Rajasthan Royals</td>\n",
       "      <td>81</td>\n",
       "    </tr>\n",
       "    <tr>\n",
       "      <th>6</th>\n",
       "      <td>Delhi Daredevils</td>\n",
       "      <td>67</td>\n",
       "    </tr>\n",
       "    <tr>\n",
       "      <th>7</th>\n",
       "      <td>Sunrisers Hyderabad</td>\n",
       "      <td>66</td>\n",
       "    </tr>\n",
       "    <tr>\n",
       "      <th>8</th>\n",
       "      <td>Deccan Chargers</td>\n",
       "      <td>29</td>\n",
       "    </tr>\n",
       "    <tr>\n",
       "      <th>9</th>\n",
       "      <td>Delhi Capitals</td>\n",
       "      <td>19</td>\n",
       "    </tr>\n",
       "    <tr>\n",
       "      <th>10</th>\n",
       "      <td>Rising Pune Supergiant</td>\n",
       "      <td>15</td>\n",
       "    </tr>\n",
       "    <tr>\n",
       "      <th>11</th>\n",
       "      <td>Gujarat Lions</td>\n",
       "      <td>13</td>\n",
       "    </tr>\n",
       "    <tr>\n",
       "      <th>12</th>\n",
       "      <td>Pune Warriors</td>\n",
       "      <td>12</td>\n",
       "    </tr>\n",
       "    <tr>\n",
       "      <th>13</th>\n",
       "      <td>Kochi Tuskers Kerala</td>\n",
       "      <td>6</td>\n",
       "    </tr>\n",
       "  </tbody>\n",
       "</table>\n",
       "</div>"
      ],
      "text/plain": [
       "                      Team Name  Wins\n",
       "0                Mumbai Indians   120\n",
       "1           Chennai Super Kings   106\n",
       "2         Kolkata Knight Riders    99\n",
       "3   Royal Challengers Bangalore    91\n",
       "4               Kings XI Punjab    88\n",
       "5              Rajasthan Royals    81\n",
       "6              Delhi Daredevils    67\n",
       "7           Sunrisers Hyderabad    66\n",
       "8               Deccan Chargers    29\n",
       "9                Delhi Capitals    19\n",
       "10       Rising Pune Supergiant    15\n",
       "11                Gujarat Lions    13\n",
       "12                Pune Warriors    12\n",
       "13         Kochi Tuskers Kerala     6"
      ]
     },
     "execution_count": 222,
     "metadata": {},
     "output_type": "execute_result"
    }
   ],
   "source": [
    "wins=pd.DataFrame(match_data['winner'].value_counts()).reset_index()\n",
    "wins.columns=['Team Name','Wins']\n",
    "wins"
   ]
  },
  {
   "cell_type": "code",
   "execution_count": 223,
   "metadata": {},
   "outputs": [
    {
     "data": {
      "text/html": [
       "<div>\n",
       "<style scoped>\n",
       "    .dataframe tbody tr th:only-of-type {\n",
       "        vertical-align: middle;\n",
       "    }\n",
       "\n",
       "    .dataframe tbody tr th {\n",
       "        vertical-align: top;\n",
       "    }\n",
       "\n",
       "    .dataframe thead th {\n",
       "        text-align: right;\n",
       "    }\n",
       "</style>\n",
       "<table border=\"1\" class=\"dataframe\">\n",
       "  <thead>\n",
       "    <tr style=\"text-align: right;\">\n",
       "      <th></th>\n",
       "      <th>Team Name</th>\n",
       "      <th>Total Matches played</th>\n",
       "      <th>Season Played</th>\n",
       "      <th>Wins</th>\n",
       "      <th>% Win</th>\n",
       "    </tr>\n",
       "  </thead>\n",
       "  <tbody>\n",
       "    <tr>\n",
       "      <th>0</th>\n",
       "      <td>Chennai Super Kings</td>\n",
       "      <td>178</td>\n",
       "      <td>11</td>\n",
       "      <td>106</td>\n",
       "      <td>59.550562</td>\n",
       "    </tr>\n",
       "    <tr>\n",
       "      <th>1</th>\n",
       "      <td>Mumbai Indians</td>\n",
       "      <td>203</td>\n",
       "      <td>13</td>\n",
       "      <td>120</td>\n",
       "      <td>59.113300</td>\n",
       "    </tr>\n",
       "    <tr>\n",
       "      <th>2</th>\n",
       "      <td>Delhi Capitals</td>\n",
       "      <td>33</td>\n",
       "      <td>2</td>\n",
       "      <td>19</td>\n",
       "      <td>57.575758</td>\n",
       "    </tr>\n",
       "    <tr>\n",
       "      <th>3</th>\n",
       "      <td>Sunrisers Hyderabad</td>\n",
       "      <td>124</td>\n",
       "      <td>8</td>\n",
       "      <td>66</td>\n",
       "      <td>53.225806</td>\n",
       "    </tr>\n",
       "    <tr>\n",
       "      <th>4</th>\n",
       "      <td>Kolkata Knight Riders</td>\n",
       "      <td>192</td>\n",
       "      <td>13</td>\n",
       "      <td>99</td>\n",
       "      <td>51.562500</td>\n",
       "    </tr>\n",
       "    <tr>\n",
       "      <th>5</th>\n",
       "      <td>Rajasthan Royals</td>\n",
       "      <td>161</td>\n",
       "      <td>10</td>\n",
       "      <td>81</td>\n",
       "      <td>50.310559</td>\n",
       "    </tr>\n",
       "    <tr>\n",
       "      <th>6</th>\n",
       "      <td>Rising Pune Supergiant</td>\n",
       "      <td>30</td>\n",
       "      <td>2</td>\n",
       "      <td>15</td>\n",
       "      <td>50.000000</td>\n",
       "    </tr>\n",
       "    <tr>\n",
       "      <th>7</th>\n",
       "      <td>Royal Challengers Bangalore</td>\n",
       "      <td>195</td>\n",
       "      <td>13</td>\n",
       "      <td>91</td>\n",
       "      <td>46.666667</td>\n",
       "    </tr>\n",
       "    <tr>\n",
       "      <th>8</th>\n",
       "      <td>Kings XI Punjab</td>\n",
       "      <td>190</td>\n",
       "      <td>13</td>\n",
       "      <td>88</td>\n",
       "      <td>46.315789</td>\n",
       "    </tr>\n",
       "    <tr>\n",
       "      <th>9</th>\n",
       "      <td>Gujarat Lions</td>\n",
       "      <td>30</td>\n",
       "      <td>2</td>\n",
       "      <td>13</td>\n",
       "      <td>43.333333</td>\n",
       "    </tr>\n",
       "    <tr>\n",
       "      <th>10</th>\n",
       "      <td>Kochi Tuskers Kerala</td>\n",
       "      <td>14</td>\n",
       "      <td>1</td>\n",
       "      <td>6</td>\n",
       "      <td>42.857143</td>\n",
       "    </tr>\n",
       "    <tr>\n",
       "      <th>11</th>\n",
       "      <td>Delhi Daredevils</td>\n",
       "      <td>161</td>\n",
       "      <td>11</td>\n",
       "      <td>67</td>\n",
       "      <td>41.614907</td>\n",
       "    </tr>\n",
       "    <tr>\n",
       "      <th>12</th>\n",
       "      <td>Deccan Chargers</td>\n",
       "      <td>75</td>\n",
       "      <td>5</td>\n",
       "      <td>29</td>\n",
       "      <td>38.666667</td>\n",
       "    </tr>\n",
       "    <tr>\n",
       "      <th>13</th>\n",
       "      <td>Pune Warriors</td>\n",
       "      <td>46</td>\n",
       "      <td>3</td>\n",
       "      <td>12</td>\n",
       "      <td>26.086957</td>\n",
       "    </tr>\n",
       "  </tbody>\n",
       "</table>\n",
       "</div>"
      ],
      "text/plain": [
       "                      Team Name  Total Matches played  Season Played  Wins  \\\n",
       "0           Chennai Super Kings                   178             11   106   \n",
       "1                Mumbai Indians                   203             13   120   \n",
       "2                Delhi Capitals                    33              2    19   \n",
       "3           Sunrisers Hyderabad                   124              8    66   \n",
       "4         Kolkata Knight Riders                   192             13    99   \n",
       "5              Rajasthan Royals                   161             10    81   \n",
       "6        Rising Pune Supergiant                    30              2    15   \n",
       "7   Royal Challengers Bangalore                   195             13    91   \n",
       "8               Kings XI Punjab                   190             13    88   \n",
       "9                 Gujarat Lions                    30              2    13   \n",
       "10         Kochi Tuskers Kerala                    14              1     6   \n",
       "11             Delhi Daredevils                   161             11    67   \n",
       "12              Deccan Chargers                    75              5    29   \n",
       "13                Pune Warriors                    46              3    12   \n",
       "\n",
       "        % Win  \n",
       "0   59.550562  \n",
       "1   59.113300  \n",
       "2   57.575758  \n",
       "3   53.225806  \n",
       "4   51.562500  \n",
       "5   50.310559  \n",
       "6   50.000000  \n",
       "7   46.666667  \n",
       "8   46.315789  \n",
       "9   43.333333  \n",
       "10  42.857143  \n",
       "11  41.614907  \n",
       "12  38.666667  \n",
       "13  26.086957  "
      ]
     },
     "execution_count": 223,
     "metadata": {},
     "output_type": "execute_result"
    }
   ],
   "source": [
    "played=teams.merge(wins,left_on='Team Name',right_on='Team Name',how='inner')\n",
    "played['% Win']=(played['Wins']/played['Total Matches played'])*100\n",
    "played.sort_values(by=['% Win'],ascending=False).reset_index().drop('index',axis=1)"
   ]
  },
  {
   "attachments": {},
   "cell_type": "markdown",
   "metadata": {},
   "source": [
    "#### Man of the match awards (Top 10)"
   ]
  },
  {
   "cell_type": "code",
   "execution_count": 226,
   "metadata": {},
   "outputs": [
    {
     "data": {
      "application/vnd.plotly.v1+json": {
       "config": {
        "plotlyServerURL": "https://plot.ly"
       },
       "data": [
        {
         "alignmentgroup": "True",
         "hovertemplate": "Players=%{x}<br>Count=%{y}<extra></extra>",
         "legendgroup": "",
         "marker": {
          "color": [
           "crimson",
           "turquoise",
           "turquoise",
           "turquoise",
           "turquoise",
           "turquoise",
           "turquoise",
           "turquoise",
           "turquoise",
           "turquoise",
           "turquoise"
          ],
          "line": {
           "color": "black",
           "width": 2.5
          },
          "pattern": {
           "shape": ""
          }
         },
         "name": "",
         "offsetgroup": "",
         "opacity": 1,
         "orientation": "v",
         "showlegend": false,
         "textposition": "auto",
         "type": "bar",
         "x": [
          "AB de Villiers",
          "CH Gayle",
          "RG Sharma",
          "DA Warner",
          "MS Dhoni",
          "SR Watson",
          "YK Pathan",
          "SK Raina",
          "V Kohli",
          "G Gambhir"
         ],
         "xaxis": "x",
         "y": [
          23,
          22,
          18,
          17,
          17,
          16,
          16,
          14,
          13,
          13
         ],
         "yaxis": "y"
        }
       ],
       "layout": {
        "barmode": "relative",
        "legend": {
         "tracegroupgap": 0
        },
        "margin": {
         "t": 60
        },
        "template": {
         "data": {
          "bar": [
           {
            "error_x": {
             "color": "rgb(36,36,36)"
            },
            "error_y": {
             "color": "rgb(36,36,36)"
            },
            "marker": {
             "line": {
              "color": "white",
              "width": 0.5
             },
             "pattern": {
              "fillmode": "overlay",
              "size": 10,
              "solidity": 0.2
             }
            },
            "type": "bar"
           }
          ],
          "barpolar": [
           {
            "marker": {
             "line": {
              "color": "white",
              "width": 0.5
             },
             "pattern": {
              "fillmode": "overlay",
              "size": 10,
              "solidity": 0.2
             }
            },
            "type": "barpolar"
           }
          ],
          "carpet": [
           {
            "aaxis": {
             "endlinecolor": "rgb(36,36,36)",
             "gridcolor": "white",
             "linecolor": "white",
             "minorgridcolor": "white",
             "startlinecolor": "rgb(36,36,36)"
            },
            "baxis": {
             "endlinecolor": "rgb(36,36,36)",
             "gridcolor": "white",
             "linecolor": "white",
             "minorgridcolor": "white",
             "startlinecolor": "rgb(36,36,36)"
            },
            "type": "carpet"
           }
          ],
          "choropleth": [
           {
            "colorbar": {
             "outlinewidth": 1,
             "tickcolor": "rgb(36,36,36)",
             "ticks": "outside"
            },
            "type": "choropleth"
           }
          ],
          "contour": [
           {
            "colorbar": {
             "outlinewidth": 1,
             "tickcolor": "rgb(36,36,36)",
             "ticks": "outside"
            },
            "colorscale": [
             [
              0,
              "#440154"
             ],
             [
              0.1111111111111111,
              "#482878"
             ],
             [
              0.2222222222222222,
              "#3e4989"
             ],
             [
              0.3333333333333333,
              "#31688e"
             ],
             [
              0.4444444444444444,
              "#26828e"
             ],
             [
              0.5555555555555556,
              "#1f9e89"
             ],
             [
              0.6666666666666666,
              "#35b779"
             ],
             [
              0.7777777777777778,
              "#6ece58"
             ],
             [
              0.8888888888888888,
              "#b5de2b"
             ],
             [
              1,
              "#fde725"
             ]
            ],
            "type": "contour"
           }
          ],
          "contourcarpet": [
           {
            "colorbar": {
             "outlinewidth": 1,
             "tickcolor": "rgb(36,36,36)",
             "ticks": "outside"
            },
            "type": "contourcarpet"
           }
          ],
          "heatmap": [
           {
            "colorbar": {
             "outlinewidth": 1,
             "tickcolor": "rgb(36,36,36)",
             "ticks": "outside"
            },
            "colorscale": [
             [
              0,
              "#440154"
             ],
             [
              0.1111111111111111,
              "#482878"
             ],
             [
              0.2222222222222222,
              "#3e4989"
             ],
             [
              0.3333333333333333,
              "#31688e"
             ],
             [
              0.4444444444444444,
              "#26828e"
             ],
             [
              0.5555555555555556,
              "#1f9e89"
             ],
             [
              0.6666666666666666,
              "#35b779"
             ],
             [
              0.7777777777777778,
              "#6ece58"
             ],
             [
              0.8888888888888888,
              "#b5de2b"
             ],
             [
              1,
              "#fde725"
             ]
            ],
            "type": "heatmap"
           }
          ],
          "heatmapgl": [
           {
            "colorbar": {
             "outlinewidth": 1,
             "tickcolor": "rgb(36,36,36)",
             "ticks": "outside"
            },
            "colorscale": [
             [
              0,
              "#440154"
             ],
             [
              0.1111111111111111,
              "#482878"
             ],
             [
              0.2222222222222222,
              "#3e4989"
             ],
             [
              0.3333333333333333,
              "#31688e"
             ],
             [
              0.4444444444444444,
              "#26828e"
             ],
             [
              0.5555555555555556,
              "#1f9e89"
             ],
             [
              0.6666666666666666,
              "#35b779"
             ],
             [
              0.7777777777777778,
              "#6ece58"
             ],
             [
              0.8888888888888888,
              "#b5de2b"
             ],
             [
              1,
              "#fde725"
             ]
            ],
            "type": "heatmapgl"
           }
          ],
          "histogram": [
           {
            "marker": {
             "line": {
              "color": "white",
              "width": 0.6
             }
            },
            "type": "histogram"
           }
          ],
          "histogram2d": [
           {
            "colorbar": {
             "outlinewidth": 1,
             "tickcolor": "rgb(36,36,36)",
             "ticks": "outside"
            },
            "colorscale": [
             [
              0,
              "#440154"
             ],
             [
              0.1111111111111111,
              "#482878"
             ],
             [
              0.2222222222222222,
              "#3e4989"
             ],
             [
              0.3333333333333333,
              "#31688e"
             ],
             [
              0.4444444444444444,
              "#26828e"
             ],
             [
              0.5555555555555556,
              "#1f9e89"
             ],
             [
              0.6666666666666666,
              "#35b779"
             ],
             [
              0.7777777777777778,
              "#6ece58"
             ],
             [
              0.8888888888888888,
              "#b5de2b"
             ],
             [
              1,
              "#fde725"
             ]
            ],
            "type": "histogram2d"
           }
          ],
          "histogram2dcontour": [
           {
            "colorbar": {
             "outlinewidth": 1,
             "tickcolor": "rgb(36,36,36)",
             "ticks": "outside"
            },
            "colorscale": [
             [
              0,
              "#440154"
             ],
             [
              0.1111111111111111,
              "#482878"
             ],
             [
              0.2222222222222222,
              "#3e4989"
             ],
             [
              0.3333333333333333,
              "#31688e"
             ],
             [
              0.4444444444444444,
              "#26828e"
             ],
             [
              0.5555555555555556,
              "#1f9e89"
             ],
             [
              0.6666666666666666,
              "#35b779"
             ],
             [
              0.7777777777777778,
              "#6ece58"
             ],
             [
              0.8888888888888888,
              "#b5de2b"
             ],
             [
              1,
              "#fde725"
             ]
            ],
            "type": "histogram2dcontour"
           }
          ],
          "mesh3d": [
           {
            "colorbar": {
             "outlinewidth": 1,
             "tickcolor": "rgb(36,36,36)",
             "ticks": "outside"
            },
            "type": "mesh3d"
           }
          ],
          "parcoords": [
           {
            "line": {
             "colorbar": {
              "outlinewidth": 1,
              "tickcolor": "rgb(36,36,36)",
              "ticks": "outside"
             }
            },
            "type": "parcoords"
           }
          ],
          "pie": [
           {
            "automargin": true,
            "type": "pie"
           }
          ],
          "scatter": [
           {
            "marker": {
             "colorbar": {
              "outlinewidth": 1,
              "tickcolor": "rgb(36,36,36)",
              "ticks": "outside"
             }
            },
            "type": "scatter"
           }
          ],
          "scatter3d": [
           {
            "line": {
             "colorbar": {
              "outlinewidth": 1,
              "tickcolor": "rgb(36,36,36)",
              "ticks": "outside"
             }
            },
            "marker": {
             "colorbar": {
              "outlinewidth": 1,
              "tickcolor": "rgb(36,36,36)",
              "ticks": "outside"
             }
            },
            "type": "scatter3d"
           }
          ],
          "scattercarpet": [
           {
            "marker": {
             "colorbar": {
              "outlinewidth": 1,
              "tickcolor": "rgb(36,36,36)",
              "ticks": "outside"
             }
            },
            "type": "scattercarpet"
           }
          ],
          "scattergeo": [
           {
            "marker": {
             "colorbar": {
              "outlinewidth": 1,
              "tickcolor": "rgb(36,36,36)",
              "ticks": "outside"
             }
            },
            "type": "scattergeo"
           }
          ],
          "scattergl": [
           {
            "marker": {
             "colorbar": {
              "outlinewidth": 1,
              "tickcolor": "rgb(36,36,36)",
              "ticks": "outside"
             }
            },
            "type": "scattergl"
           }
          ],
          "scattermapbox": [
           {
            "marker": {
             "colorbar": {
              "outlinewidth": 1,
              "tickcolor": "rgb(36,36,36)",
              "ticks": "outside"
             }
            },
            "type": "scattermapbox"
           }
          ],
          "scatterpolar": [
           {
            "marker": {
             "colorbar": {
              "outlinewidth": 1,
              "tickcolor": "rgb(36,36,36)",
              "ticks": "outside"
             }
            },
            "type": "scatterpolar"
           }
          ],
          "scatterpolargl": [
           {
            "marker": {
             "colorbar": {
              "outlinewidth": 1,
              "tickcolor": "rgb(36,36,36)",
              "ticks": "outside"
             }
            },
            "type": "scatterpolargl"
           }
          ],
          "scatterternary": [
           {
            "marker": {
             "colorbar": {
              "outlinewidth": 1,
              "tickcolor": "rgb(36,36,36)",
              "ticks": "outside"
             }
            },
            "type": "scatterternary"
           }
          ],
          "surface": [
           {
            "colorbar": {
             "outlinewidth": 1,
             "tickcolor": "rgb(36,36,36)",
             "ticks": "outside"
            },
            "colorscale": [
             [
              0,
              "#440154"
             ],
             [
              0.1111111111111111,
              "#482878"
             ],
             [
              0.2222222222222222,
              "#3e4989"
             ],
             [
              0.3333333333333333,
              "#31688e"
             ],
             [
              0.4444444444444444,
              "#26828e"
             ],
             [
              0.5555555555555556,
              "#1f9e89"
             ],
             [
              0.6666666666666666,
              "#35b779"
             ],
             [
              0.7777777777777778,
              "#6ece58"
             ],
             [
              0.8888888888888888,
              "#b5de2b"
             ],
             [
              1,
              "#fde725"
             ]
            ],
            "type": "surface"
           }
          ],
          "table": [
           {
            "cells": {
             "fill": {
              "color": "rgb(237,237,237)"
             },
             "line": {
              "color": "white"
             }
            },
            "header": {
             "fill": {
              "color": "rgb(217,217,217)"
             },
             "line": {
              "color": "white"
             }
            },
            "type": "table"
           }
          ]
         },
         "layout": {
          "annotationdefaults": {
           "arrowhead": 0,
           "arrowwidth": 1
          },
          "autotypenumbers": "strict",
          "coloraxis": {
           "colorbar": {
            "outlinewidth": 1,
            "tickcolor": "rgb(36,36,36)",
            "ticks": "outside"
           }
          },
          "colorscale": {
           "diverging": [
            [
             0,
             "rgb(103,0,31)"
            ],
            [
             0.1,
             "rgb(178,24,43)"
            ],
            [
             0.2,
             "rgb(214,96,77)"
            ],
            [
             0.3,
             "rgb(244,165,130)"
            ],
            [
             0.4,
             "rgb(253,219,199)"
            ],
            [
             0.5,
             "rgb(247,247,247)"
            ],
            [
             0.6,
             "rgb(209,229,240)"
            ],
            [
             0.7,
             "rgb(146,197,222)"
            ],
            [
             0.8,
             "rgb(67,147,195)"
            ],
            [
             0.9,
             "rgb(33,102,172)"
            ],
            [
             1,
             "rgb(5,48,97)"
            ]
           ],
           "sequential": [
            [
             0,
             "#440154"
            ],
            [
             0.1111111111111111,
             "#482878"
            ],
            [
             0.2222222222222222,
             "#3e4989"
            ],
            [
             0.3333333333333333,
             "#31688e"
            ],
            [
             0.4444444444444444,
             "#26828e"
            ],
            [
             0.5555555555555556,
             "#1f9e89"
            ],
            [
             0.6666666666666666,
             "#35b779"
            ],
            [
             0.7777777777777778,
             "#6ece58"
            ],
            [
             0.8888888888888888,
             "#b5de2b"
            ],
            [
             1,
             "#fde725"
            ]
           ],
           "sequentialminus": [
            [
             0,
             "#440154"
            ],
            [
             0.1111111111111111,
             "#482878"
            ],
            [
             0.2222222222222222,
             "#3e4989"
            ],
            [
             0.3333333333333333,
             "#31688e"
            ],
            [
             0.4444444444444444,
             "#26828e"
            ],
            [
             0.5555555555555556,
             "#1f9e89"
            ],
            [
             0.6666666666666666,
             "#35b779"
            ],
            [
             0.7777777777777778,
             "#6ece58"
            ],
            [
             0.8888888888888888,
             "#b5de2b"
            ],
            [
             1,
             "#fde725"
            ]
           ]
          },
          "colorway": [
           "#1F77B4",
           "#FF7F0E",
           "#2CA02C",
           "#D62728",
           "#9467BD",
           "#8C564B",
           "#E377C2",
           "#7F7F7F",
           "#BCBD22",
           "#17BECF"
          ],
          "font": {
           "color": "rgb(36,36,36)"
          },
          "geo": {
           "bgcolor": "white",
           "lakecolor": "white",
           "landcolor": "white",
           "showlakes": true,
           "showland": true,
           "subunitcolor": "white"
          },
          "hoverlabel": {
           "align": "left"
          },
          "hovermode": "closest",
          "mapbox": {
           "style": "light"
          },
          "paper_bgcolor": "white",
          "plot_bgcolor": "white",
          "polar": {
           "angularaxis": {
            "gridcolor": "rgb(232,232,232)",
            "linecolor": "rgb(36,36,36)",
            "showgrid": false,
            "showline": true,
            "ticks": "outside"
           },
           "bgcolor": "white",
           "radialaxis": {
            "gridcolor": "rgb(232,232,232)",
            "linecolor": "rgb(36,36,36)",
            "showgrid": false,
            "showline": true,
            "ticks": "outside"
           }
          },
          "scene": {
           "xaxis": {
            "backgroundcolor": "white",
            "gridcolor": "rgb(232,232,232)",
            "gridwidth": 2,
            "linecolor": "rgb(36,36,36)",
            "showbackground": true,
            "showgrid": false,
            "showline": true,
            "ticks": "outside",
            "zeroline": false,
            "zerolinecolor": "rgb(36,36,36)"
           },
           "yaxis": {
            "backgroundcolor": "white",
            "gridcolor": "rgb(232,232,232)",
            "gridwidth": 2,
            "linecolor": "rgb(36,36,36)",
            "showbackground": true,
            "showgrid": false,
            "showline": true,
            "ticks": "outside",
            "zeroline": false,
            "zerolinecolor": "rgb(36,36,36)"
           },
           "zaxis": {
            "backgroundcolor": "white",
            "gridcolor": "rgb(232,232,232)",
            "gridwidth": 2,
            "linecolor": "rgb(36,36,36)",
            "showbackground": true,
            "showgrid": false,
            "showline": true,
            "ticks": "outside",
            "zeroline": false,
            "zerolinecolor": "rgb(36,36,36)"
           }
          },
          "shapedefaults": {
           "fillcolor": "black",
           "line": {
            "width": 0
           },
           "opacity": 0.3
          },
          "ternary": {
           "aaxis": {
            "gridcolor": "rgb(232,232,232)",
            "linecolor": "rgb(36,36,36)",
            "showgrid": false,
            "showline": true,
            "ticks": "outside"
           },
           "baxis": {
            "gridcolor": "rgb(232,232,232)",
            "linecolor": "rgb(36,36,36)",
            "showgrid": false,
            "showline": true,
            "ticks": "outside"
           },
           "bgcolor": "white",
           "caxis": {
            "gridcolor": "rgb(232,232,232)",
            "linecolor": "rgb(36,36,36)",
            "showgrid": false,
            "showline": true,
            "ticks": "outside"
           }
          },
          "title": {
           "x": 0.05
          },
          "xaxis": {
           "automargin": true,
           "gridcolor": "rgb(232,232,232)",
           "linecolor": "rgb(36,36,36)",
           "showgrid": false,
           "showline": true,
           "ticks": "outside",
           "title": {
            "standoff": 15
           },
           "zeroline": false,
           "zerolinecolor": "rgb(36,36,36)"
          },
          "yaxis": {
           "automargin": true,
           "gridcolor": "rgb(232,232,232)",
           "linecolor": "rgb(36,36,36)",
           "showgrid": false,
           "showline": true,
           "ticks": "outside",
           "title": {
            "standoff": 15
           },
           "zeroline": false,
           "zerolinecolor": "rgb(36,36,36)"
          }
         }
        },
        "title": {
         "font": {
          "size": 26
         },
         "text": "Top 10 MOM awardee"
        },
        "xaxis": {
         "anchor": "y",
         "domain": [
          0,
          1
         ],
         "title": {
          "text": "Players"
         }
        },
        "yaxis": {
         "anchor": "x",
         "domain": [
          0,
          1
         ],
         "title": {
          "text": "Count"
         }
        }
       }
      }
     },
     "metadata": {},
     "output_type": "display_data"
    }
   ],
   "source": [
    "colors = ['turquoise',] * 11\n",
    "colors[0] = 'crimson'\n",
    "fig=px.bar(x=match_data.player_of_match.value_counts()[:10].index,y=match_data.player_of_match.value_counts()[:10],labels=dict(x=\"Players\",y=\"Count\"),)\n",
    "fig.update_layout(title=\"Top 10 MOM awardee\",\n",
    "                  titlefont={'size': 26},template='simple_white'     \n",
    "                  )\n",
    "fig.update_traces(marker_line_color='black',\n",
    "                  marker_line_width=2.5, opacity=1,marker_color=colors)\n",
    "fig.show()"
   ]
  }
 ],
 "metadata": {
  "kernelspec": {
   "display_name": "Python 3",
   "language": "python",
   "name": "python3"
  },
  "language_info": {
   "codemirror_mode": {
    "name": "ipython",
    "version": 3
   },
   "file_extension": ".py",
   "mimetype": "text/x-python",
   "name": "python",
   "nbconvert_exporter": "python",
   "pygments_lexer": "ipython3",
   "version": "3.10.4"
  },
  "orig_nbformat": 4
 },
 "nbformat": 4,
 "nbformat_minor": 2
}
